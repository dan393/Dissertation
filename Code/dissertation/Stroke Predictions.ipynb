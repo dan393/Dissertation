{
 "cells": [
  {
   "cell_type": "code",
   "execution_count": null,
   "metadata": {
    "pycharm": {
     "is_executing": false
    }
   },
   "outputs": [],
   "source": [
    "import numpy as np # linear algebra\n",
    "import pandas as pd # data processing, CSV file I/O (e.g. pd.read_csv)\n",
    "import matplotlib.pyplot as plt\n",
    "import seaborn as sns\n",
    "\n",
    "from sklearn.metrics import roc_curve"
   ]
  },
  {
   "cell_type": "markdown",
   "metadata": {},
   "source": [
    "# Helper methods"
   ]
  },
  {
   "cell_type": "code",
   "execution_count": 2,
   "metadata": {},
   "outputs": [],
   "source": [
    "def save(path):\n",
    "    plt.savefig('../../images' + path)\n",
    "    \n",
    "def loadDataSet():\n",
    "#     df  = pd.read_csv(\"../input/stroke-dataset/stroke_subset.csv\")\n",
    "    return pd.read_csv(\"../input/stroke-dataset/stroke.csv\")"
   ]
  },
  {
   "cell_type": "code",
   "execution_count": 3,
   "metadata": {
    "pycharm": {
     "is_executing": false
    }
   },
   "outputs": [
    {
     "name": "stdout",
     "output_type": "stream",
     "text": [
      "<class 'pandas.core.frame.DataFrame'>\n",
      "RangeIndex: 43400 entries, 0 to 43399\n",
      "Data columns (total 11 columns):\n",
      "gender               43400 non-null object\n",
      "age                  43400 non-null float64\n",
      "hypertension         43400 non-null int64\n",
      "heart_disease        43400 non-null int64\n",
      "ever_married         43400 non-null object\n",
      "work_type            43400 non-null object\n",
      "Residence_type       43400 non-null object\n",
      "avg_glucose_level    43400 non-null float64\n",
      "bmi                  41938 non-null float64\n",
      "smoking_status       30108 non-null object\n",
      "stroke               43400 non-null int64\n",
      "dtypes: float64(3), int64(3), object(5)\n",
      "memory usage: 3.6+ MB\n"
     ]
    }
   ],
   "source": [
    "\n",
    "\n",
    "df=loadDataSet();\n",
    "df = df.drop('id',axis=1)\n",
    "df.info()"
   ]
  },
  {
   "cell_type": "markdown",
   "metadata": {
    "pycharm": {
     "is_executing": false
    }
   },
   "source": [
    "# Data Exploration"
   ]
  },
  {
   "cell_type": "code",
   "execution_count": 4,
   "metadata": {},
   "outputs": [
    {
     "data": {
      "image/png": "[encoded data removed]",
      "text/plain": [
       "<Figure size 360x360 with 1 Axes>"
      ]
     },
     "metadata": {
      "needs_background": "light"
     },
     "output_type": "display_data"
    }
   ],
   "source": [
    "plt.figure(figsize=(5,5))\n",
    "sns.countplot(x='stroke',data=df)\n",
    "save('/building_ann/stroke_countplot.png')"
   ]
  },
  {
   "cell_type": "code",
   "execution_count": 5,
   "metadata": {},
   "outputs": [
    {
     "data": {
      "text/html": [
       "<div>\n",
       "<style scoped>\n",
       "    .dataframe tbody tr th:only-of-type {\n",
       "        vertical-align: middle;\n",
       "    }\n",
       "\n",
       "    .dataframe tbody tr th {\n",
       "        vertical-align: top;\n",
       "    }\n",
       "\n",
       "    .dataframe thead th {\n",
       "        text-align: right;\n",
       "    }\n",
       "</style>\n",
       "<table border=\"1\" class=\"dataframe\">\n",
       "  <thead>\n",
       "    <tr style=\"text-align: right;\">\n",
       "      <th></th>\n",
       "      <th>age</th>\n",
       "      <th>hypertension</th>\n",
       "      <th>heart_disease</th>\n",
       "      <th>avg_glucose_level</th>\n",
       "      <th>bmi</th>\n",
       "      <th>stroke</th>\n",
       "    </tr>\n",
       "  </thead>\n",
       "  <tbody>\n",
       "    <tr>\n",
       "      <td>age</td>\n",
       "      <td>1.000000</td>\n",
       "      <td>0.272169</td>\n",
       "      <td>0.250188</td>\n",
       "      <td>0.237627</td>\n",
       "      <td>0.358897</td>\n",
       "      <td>0.156049</td>\n",
       "    </tr>\n",
       "    <tr>\n",
       "      <td>hypertension</td>\n",
       "      <td>0.272169</td>\n",
       "      <td>1.000000</td>\n",
       "      <td>0.119777</td>\n",
       "      <td>0.160211</td>\n",
       "      <td>0.161225</td>\n",
       "      <td>0.075332</td>\n",
       "    </tr>\n",
       "    <tr>\n",
       "      <td>heart_disease</td>\n",
       "      <td>0.250188</td>\n",
       "      <td>0.119777</td>\n",
       "      <td>1.000000</td>\n",
       "      <td>0.146938</td>\n",
       "      <td>0.057677</td>\n",
       "      <td>0.113763</td>\n",
       "    </tr>\n",
       "    <tr>\n",
       "      <td>avg_glucose_level</td>\n",
       "      <td>0.237627</td>\n",
       "      <td>0.160211</td>\n",
       "      <td>0.146938</td>\n",
       "      <td>1.000000</td>\n",
       "      <td>0.191295</td>\n",
       "      <td>0.078917</td>\n",
       "    </tr>\n",
       "    <tr>\n",
       "      <td>bmi</td>\n",
       "      <td>0.358897</td>\n",
       "      <td>0.161225</td>\n",
       "      <td>0.057677</td>\n",
       "      <td>0.191295</td>\n",
       "      <td>1.000000</td>\n",
       "      <td>0.020285</td>\n",
       "    </tr>\n",
       "    <tr>\n",
       "      <td>stroke</td>\n",
       "      <td>0.156049</td>\n",
       "      <td>0.075332</td>\n",
       "      <td>0.113763</td>\n",
       "      <td>0.078917</td>\n",
       "      <td>0.020285</td>\n",
       "      <td>1.000000</td>\n",
       "    </tr>\n",
       "  </tbody>\n",
       "</table>\n",
       "</div>"
      ],
      "text/plain": [
       "                        age  hypertension  heart_disease  avg_glucose_level  \\\n",
       "age                1.000000      0.272169       0.250188           0.237627   \n",
       "hypertension       0.272169      1.000000       0.119777           0.160211   \n",
       "heart_disease      0.250188      0.119777       1.000000           0.146938   \n",
       "avg_glucose_level  0.237627      0.160211       0.146938           1.000000   \n",
       "bmi                0.358897      0.161225       0.057677           0.191295   \n",
       "stroke             0.156049      0.075332       0.113763           0.078917   \n",
       "\n",
       "                        bmi    stroke  \n",
       "age                0.358897  0.156049  \n",
       "hypertension       0.161225  0.075332  \n",
       "heart_disease      0.057677  0.113763  \n",
       "avg_glucose_level  0.191295  0.078917  \n",
       "bmi                1.000000  0.020285  \n",
       "stroke             0.020285  1.000000  "
      ]
     },
     "execution_count": 5,
     "metadata": {},
     "output_type": "execute_result"
    }
   ],
   "source": [
    "df.corr()"
   ]
  },
  {
   "cell_type": "code",
   "execution_count": null,
   "metadata": {},
   "outputs": [],
   "source": []
  },
  {
   "cell_type": "code",
   "execution_count": 6,
   "metadata": {
    "pycharm": {
     "is_executing": false
    },
    "scrolled": false
   },
   "outputs": [
    {
     "data": {
      "image/png": "[encoded data removed]",
      "text/plain": [
       "<Figure size 720x576 with 1 Axes>"
      ]
     },
     "metadata": {
      "needs_background": "light"
     },
     "output_type": "display_data"
    }
   ],
   "source": [
    "plt.figure(figsize=(10,8))\n",
    "sns.distplot(df.loc[df['stroke'] == 1]['age'], label='Stroke Patients', kde_kws={\"shade\": True},hist=False, bins =20)\n",
    "sns.distplot(df.loc[df['heart_disease'] == 1]['age'], label='Heart Disease Patients', kde_kws={\"shade\": True},hist=False, bins =20)\n",
    "sns.distplot(df.loc[df['hypertension'] == 1]['age'], label='Hypertension', kde_kws={\"shade\": True},hist=False, bins =20)\n",
    "plt.legend()\n",
    "save('/building_ann/stroke_age_distplot.png')"
   ]
  },
  {
   "cell_type": "code",
   "execution_count": null,
   "metadata": {},
   "outputs": [],
   "source": []
  },
  {
   "cell_type": "code",
   "execution_count": null,
   "metadata": {},
   "outputs": [],
   "source": []
  },
  {
   "cell_type": "code",
   "execution_count": 7,
   "metadata": {},
   "outputs": [
    {
     "data": {
      "text/plain": [
       "Female    25665\n",
       "Male      17724\n",
       "Other        11\n",
       "Name: gender, dtype: int64"
      ]
     },
     "execution_count": 7,
     "metadata": {},
     "output_type": "execute_result"
    }
   ],
   "source": [
    "df['gender'].value_counts()"
   ]
  },
  {
   "cell_type": "code",
   "execution_count": null,
   "metadata": {
    "scrolled": false
   },
   "outputs": [],
   "source": []
  },
  {
   "cell_type": "code",
   "execution_count": 8,
   "metadata": {},
   "outputs": [
    {
     "data": {
      "text/plain": [
       "gender                          Male\n",
       "age                               34\n",
       "hypertension                       0\n",
       "heart_disease                      1\n",
       "ever_married                     Yes\n",
       "work_type                    Private\n",
       "Residence_type                 Urban\n",
       "avg_glucose_level             106.23\n",
       "bmi                              NaN\n",
       "smoking_status       formerly smoked\n",
       "stroke                             0\n",
       "Name: 95, dtype: object"
      ]
     },
     "execution_count": 8,
     "metadata": {},
     "output_type": "execute_result"
    }
   ],
   "source": [
    "df.iloc[95]\n"
   ]
  },
  {
   "cell_type": "code",
   "execution_count": null,
   "metadata": {},
   "outputs": [],
   "source": []
  },
  {
   "cell_type": "code",
   "execution_count": null,
   "metadata": {},
   "outputs": [],
   "source": []
  },
  {
   "cell_type": "code",
   "execution_count": null,
   "metadata": {},
   "outputs": [],
   "source": []
  },
  {
   "cell_type": "code",
   "execution_count": null,
   "metadata": {},
   "outputs": [],
   "source": []
  },
  {
   "cell_type": "code",
   "execution_count": null,
   "metadata": {},
   "outputs": [],
   "source": []
  },
  {
   "cell_type": "code",
   "execution_count": null,
   "metadata": {
    "scrolled": false
   },
   "outputs": [],
   "source": []
  },
  {
   "cell_type": "code",
   "execution_count": null,
   "metadata": {},
   "outputs": [],
   "source": []
  },
  {
   "cell_type": "code",
   "execution_count": 9,
   "metadata": {},
   "outputs": [],
   "source": [
    "# def fill_smoking_status(smoking_status):\n",
    "#     if pd.isnull(smoking_status):\n",
    "#         return np.nan\n",
    "#     elif smoking_status=='never smoked':\n",
    "#         return 0\n",
    "#     elif smoking_status=='formerly smoked':\n",
    "#         return 1\n",
    "#     else: \n",
    "#         return 3\n",
    "# df['smoking_status'] = df.apply(lambda x : fill_smoking_status(x['smoking_status']), axis=1)\n",
    "\n",
    "\n",
    "\n",
    "# plt.figure(figsize=(9,9))\n",
    "# sns.heatmap(df.corr(),annot=True,cmap='viridis')\n",
    "# plt.ylim(9, 0)\n",
    "# # plt.xlim(0, 1)"
   ]
  },
  {
   "cell_type": "code",
   "execution_count": 10,
   "metadata": {},
   "outputs": [
    {
     "data": {
      "image/png": "[encoded data removed]",
      "text/plain": [
       "<Figure size 1080x1080 with 2 Axes>"
      ]
     },
     "metadata": {
      "needs_background": "light"
     },
     "output_type": "display_data"
    }
   ],
   "source": [
    "def map_smoking_status(smoking_status):\n",
    "    if pd.isnull(smoking_status):\n",
    "        return np.nan\n",
    "    elif smoking_status=='never smoked':\n",
    "        return 0\n",
    "    elif smoking_status=='formerly smoked':\n",
    "        return 1\n",
    "    else: \n",
    "        return 1\n",
    "def fill_work_type(work_type):\n",
    "    if work_type == 'children':\n",
    "        return 0\n",
    "    elif work_type == 'Never_worked':\n",
    "        return 1\n",
    "    elif work_type == 'Self-employed':\n",
    "        return 2\n",
    "    elif work_type == 'Private':\n",
    "        return 3\n",
    "    else: \n",
    "        return 4\n",
    "df_hm = loadDataSet()\n",
    "df_hm['smoking_status'] = df_hm.apply(lambda x : map_smoking_status(x['smoking_status']), axis=1)\n",
    "df_hm['ever_married'] = df_hm.apply(lambda x : 1 if x['ever_married']=='Yes' else 0, axis =1)\n",
    "df_hm['Residence_type'] = df_hm.apply(lambda x : 1 if x['Residence_type']=='Urban' else 0, axis =1)\n",
    "df_hm['work_type'] = df_hm.apply(lambda x : fill_work_type(x['work_type']), axis =1)\n",
    "df_hm['gender'] = df_hm.apply(lambda x : 1 if x['gender']=='Male' else 0, axis =1)\n",
    "\n",
    "plt.figure(figsize=(15,15))\n",
    "sns.heatmap(df_hm.corr(),annot=True,cmap='viridis', linewidth=1)\n",
    "plt.ylim(12, 0)\n",
    "save('/building_ann/heatmap.png')"
   ]
  },
  {
   "cell_type": "code",
   "execution_count": 11,
   "metadata": {
    "scrolled": true
   },
   "outputs": [
    {
     "data": {
      "image/png": "[encoded data removed]",
      "text/plain": [
       "<Figure size 360x360 with 1 Axes>"
      ]
     },
     "metadata": {
      "needs_background": "light"
     },
     "output_type": "display_data"
    }
   ],
   "source": [
    "plt.figure(figsize=(5,5))\n",
    "sns.scatterplot(x='age',y='bmi',data=df)\n",
    "save('/building_ann/age_bmi_scatterplot.png')"
   ]
  },
  {
   "cell_type": "code",
   "execution_count": 12,
   "metadata": {},
   "outputs": [
    {
     "data": {
      "image/png": "[encoded data removed]",
      "text/plain": [
       "<Figure size 360x360 with 1 Axes>"
      ]
     },
     "metadata": {
      "needs_background": "light"
     },
     "output_type": "display_data"
    }
   ],
   "source": [
    "plt.figure(figsize=(5,5))\n",
    "df = loadDataSet()\n",
    "sns.countplot(x='smoking_status',data=df,hue='gender')\n",
    "save('/building_ann/smoking_scatterplot.png')"
   ]
  },
  {
   "cell_type": "code",
   "execution_count": null,
   "metadata": {},
   "outputs": [],
   "source": []
  },
  {
   "cell_type": "code",
   "execution_count": 13,
   "metadata": {
    "scrolled": true
   },
   "outputs": [
    {
     "data": {
      "text/plain": [
       "0.01804147465437788"
      ]
     },
     "execution_count": 13,
     "metadata": {},
     "output_type": "execute_result"
    }
   ],
   "source": [
    "len(df[df['stroke'] == 1 ])/len(df)"
   ]
  },
  {
   "cell_type": "code",
   "execution_count": null,
   "metadata": {},
   "outputs": [],
   "source": []
  },
  {
   "cell_type": "code",
   "execution_count": 65,
   "metadata": {},
   "outputs": [
    {
     "data": {
      "image/png": "[encoded data removed]",
      "text/plain": [
       "<Figure size 360x360 with 1 Axes>"
      ]
     },
     "metadata": {
      "needs_background": "light"
     },
     "output_type": "display_data"
    }
   ],
   "source": [
    "# Adapted code from: https://github.com/mwaskom/seaborn/issues/1027\n",
    "plt.figure(figsize=(5,5))\n",
    "df = loadDataSet()\n",
    "genderOther = df[ df['gender'] == 'Other' ].index\n",
    "df.drop(genderOther , inplace=True)\n",
    "x, y, hue = \"smoking_status\", \"percentage\", \"gender\"\n",
    "hue_order = [\"Male\", \"Female\"]\n",
    "\n",
    "#f, axes = plt.subplots(1, 2)\n",
    "# sns.countplot(x=x, hue=hue, data=df, ax=axes[0])\n",
    "prop_df = (df[x]\n",
    "           .groupby(df[hue])\n",
    "           .value_counts(normalize=True)\n",
    "           .rename(y)\n",
    "           .reset_index())\n",
    "\n",
    "sns.barplot(x=x, y=y, hue=hue, data=prop_df)#, ax=axes[1])\n",
    "save('/building_ann/gender_smoking_percentage.png')"
   ]
  },
  {
   "cell_type": "code",
   "execution_count": 63,
   "metadata": {},
   "outputs": [
    {
     "data": {
      "text/plain": [
       "count      43389\n",
       "unique         2\n",
       "top       Female\n",
       "freq       25665\n",
       "Name: gender, dtype: object"
      ]
     },
     "execution_count": 63,
     "metadata": {},
     "output_type": "execute_result"
    }
   ],
   "source": []
  },
  {
   "cell_type": "code",
   "execution_count": 15,
   "metadata": {},
   "outputs": [
    {
     "name": "stdout",
     "output_type": "stream",
     "text": [
      "smoking_status\n",
      "formerly smoked    0.029494\n",
      "never smoked       0.017691\n",
      "smokes             0.020268\n",
      "Name: stroke, dtype: float64\n"
     ]
    }
   ],
   "source": [
    "\n",
    "stroke_y = df[df['stroke'] == 1 ].groupby(\"smoking_status\").count()['stroke']\n",
    "stroke_n = df[df['stroke'] == 0 ].groupby(\"smoking_status\").count()['stroke']\n",
    "print(stroke_y/(stroke_y + stroke_n))"
   ]
  },
  {
   "cell_type": "code",
   "execution_count": 16,
   "metadata": {},
   "outputs": [
    {
     "data": {
      "text/plain": [
       "smoking_status   stroke\n",
       "formerly smoked  0         0.970506\n",
       "                 1         0.029494\n",
       "never smoked     0         0.982309\n",
       "                 1         0.017691\n",
       "smokes           0         0.979732\n",
       "                 1         0.020268\n",
       "Name: stroke, dtype: float64"
      ]
     },
     "execution_count": 16,
     "metadata": {},
     "output_type": "execute_result"
    }
   ],
   "source": [
    "df.groupby(\"smoking_status\")['stroke'].value_counts(normalize=True)"
   ]
  },
  {
   "cell_type": "code",
   "execution_count": null,
   "metadata": {},
   "outputs": [],
   "source": []
  },
  {
   "cell_type": "code",
   "execution_count": 17,
   "metadata": {},
   "outputs": [
    {
     "data": {
      "text/plain": [
       "array([25676, 17724], dtype=int64)"
      ]
     },
     "execution_count": 17,
     "metadata": {},
     "output_type": "execute_result"
    }
   ],
   "source": [
    "np.bincount(df.apply(lambda x : 1 if x['gender']=='Male' else 0, axis =1))"
   ]
  },
  {
   "cell_type": "code",
   "execution_count": 18,
   "metadata": {},
   "outputs": [
    {
     "data": {
      "text/plain": [
       "array([42617,   783], dtype=int64)"
      ]
     },
     "execution_count": 18,
     "metadata": {},
     "output_type": "execute_result"
    }
   ],
   "source": [
    "np.bincount(df['stroke'])"
   ]
  },
  {
   "cell_type": "code",
   "execution_count": null,
   "metadata": {},
   "outputs": [],
   "source": []
  },
  {
   "cell_type": "code",
   "execution_count": 19,
   "metadata": {},
   "outputs": [],
   "source": [
    "# def fill_smoking_status(smoking_status, isMale):\n",
    "#     if smoking_status=='never smoked':\n",
    "#         return 0\n",
    "#     else: \n",
    "#         return isMale if pd.isnull(smoking_status) else 1\n",
    "# df['smoking_status'] = df.apply(lambda x : fill_smoking_status(x['smoking_status'], x['Male']), axis=1)\n",
    "\n",
    "\n",
    "\n",
    "# plt.figure(figsize=(9,9))\n",
    "# sns.heatmap(df.corr(),annot=True,cmap='viridis')\n",
    "# plt.ylim(9, 0)\n",
    "# # plt.xlim(0, 1)"
   ]
  },
  {
   "cell_type": "markdown",
   "metadata": {},
   "source": [
    "# Missing Data"
   ]
  },
  {
   "cell_type": "code",
   "execution_count": 20,
   "metadata": {},
   "outputs": [
    {
     "data": {
      "text/plain": [
       "id                       0\n",
       "gender                   0\n",
       "age                      0\n",
       "hypertension             0\n",
       "heart_disease            0\n",
       "ever_married             0\n",
       "work_type                0\n",
       "Residence_type           0\n",
       "avg_glucose_level        0\n",
       "bmi                   1462\n",
       "smoking_status       13292\n",
       "stroke                   0\n",
       "dtype: int64"
      ]
     },
     "execution_count": 20,
     "metadata": {},
     "output_type": "execute_result"
    }
   ],
   "source": [
    "df.isnull().sum()"
   ]
  },
  {
   "cell_type": "code",
   "execution_count": 21,
   "metadata": {},
   "outputs": [
    {
     "name": "stdout",
     "output_type": "stream",
     "text": [
      "Examples:\n",
      "    Total: 43400\n",
      "    Positive: 783 (1.80% of total)\n",
      "\n"
     ]
    }
   ],
   "source": [
    "df = loadDataSet()\n",
    "neg, pos = np.bincount(df['stroke'])\n",
    "total = neg + pos\n",
    "print('Examples:\\n    Total: {}\\n    Positive: {} ({:.2f}% of total)\\n'.format(\n",
    "    total, pos, 100 * pos / total))"
   ]
  },
  {
   "cell_type": "code",
   "execution_count": 22,
   "metadata": {},
   "outputs": [
    {
     "data": {
      "text/html": [
       "<div>\n",
       "<style scoped>\n",
       "    .dataframe tbody tr th:only-of-type {\n",
       "        vertical-align: middle;\n",
       "    }\n",
       "\n",
       "    .dataframe tbody tr th {\n",
       "        vertical-align: top;\n",
       "    }\n",
       "\n",
       "    .dataframe thead th {\n",
       "        text-align: right;\n",
       "    }\n",
       "</style>\n",
       "<table border=\"1\" class=\"dataframe\">\n",
       "  <thead>\n",
       "    <tr style=\"text-align: right;\">\n",
       "      <th></th>\n",
       "      <th>age</th>\n",
       "      <th>hypertension</th>\n",
       "      <th>heart_disease</th>\n",
       "      <th>avg_glucose_level</th>\n",
       "      <th>bmi</th>\n",
       "      <th>stroke</th>\n",
       "      <th>never smoked</th>\n",
       "      <th>smokes</th>\n",
       "      <th>Male</th>\n",
       "      <th>Never_worked</th>\n",
       "      <th>Private</th>\n",
       "      <th>Self-employed</th>\n",
       "      <th>children</th>\n",
       "      <th>Married</th>\n",
       "      <th>Urban</th>\n",
       "    </tr>\n",
       "  </thead>\n",
       "  <tbody>\n",
       "    <tr>\n",
       "      <td>0</td>\n",
       "      <td>3.0</td>\n",
       "      <td>0</td>\n",
       "      <td>0</td>\n",
       "      <td>95.12</td>\n",
       "      <td>18.0</td>\n",
       "      <td>0</td>\n",
       "      <td>1</td>\n",
       "      <td>0</td>\n",
       "      <td>1</td>\n",
       "      <td>0</td>\n",
       "      <td>0</td>\n",
       "      <td>0</td>\n",
       "      <td>1</td>\n",
       "      <td>0</td>\n",
       "      <td>0</td>\n",
       "    </tr>\n",
       "    <tr>\n",
       "      <td>1</td>\n",
       "      <td>58.0</td>\n",
       "      <td>1</td>\n",
       "      <td>0</td>\n",
       "      <td>87.96</td>\n",
       "      <td>39.2</td>\n",
       "      <td>0</td>\n",
       "      <td>1</td>\n",
       "      <td>0</td>\n",
       "      <td>1</td>\n",
       "      <td>0</td>\n",
       "      <td>1</td>\n",
       "      <td>0</td>\n",
       "      <td>0</td>\n",
       "      <td>1</td>\n",
       "      <td>1</td>\n",
       "    </tr>\n",
       "    <tr>\n",
       "      <td>2</td>\n",
       "      <td>8.0</td>\n",
       "      <td>0</td>\n",
       "      <td>0</td>\n",
       "      <td>110.89</td>\n",
       "      <td>17.6</td>\n",
       "      <td>0</td>\n",
       "      <td>1</td>\n",
       "      <td>0</td>\n",
       "      <td>0</td>\n",
       "      <td>0</td>\n",
       "      <td>1</td>\n",
       "      <td>0</td>\n",
       "      <td>0</td>\n",
       "      <td>0</td>\n",
       "      <td>1</td>\n",
       "    </tr>\n",
       "    <tr>\n",
       "      <td>3</td>\n",
       "      <td>70.0</td>\n",
       "      <td>0</td>\n",
       "      <td>0</td>\n",
       "      <td>69.04</td>\n",
       "      <td>35.9</td>\n",
       "      <td>0</td>\n",
       "      <td>0</td>\n",
       "      <td>0</td>\n",
       "      <td>0</td>\n",
       "      <td>0</td>\n",
       "      <td>1</td>\n",
       "      <td>0</td>\n",
       "      <td>0</td>\n",
       "      <td>1</td>\n",
       "      <td>0</td>\n",
       "    </tr>\n",
       "    <tr>\n",
       "      <td>4</td>\n",
       "      <td>14.0</td>\n",
       "      <td>0</td>\n",
       "      <td>0</td>\n",
       "      <td>161.28</td>\n",
       "      <td>19.1</td>\n",
       "      <td>0</td>\n",
       "      <td>0</td>\n",
       "      <td>1</td>\n",
       "      <td>1</td>\n",
       "      <td>1</td>\n",
       "      <td>0</td>\n",
       "      <td>0</td>\n",
       "      <td>0</td>\n",
       "      <td>0</td>\n",
       "      <td>0</td>\n",
       "    </tr>\n",
       "    <tr>\n",
       "      <td>...</td>\n",
       "      <td>...</td>\n",
       "      <td>...</td>\n",
       "      <td>...</td>\n",
       "      <td>...</td>\n",
       "      <td>...</td>\n",
       "      <td>...</td>\n",
       "      <td>...</td>\n",
       "      <td>...</td>\n",
       "      <td>...</td>\n",
       "      <td>...</td>\n",
       "      <td>...</td>\n",
       "      <td>...</td>\n",
       "      <td>...</td>\n",
       "      <td>...</td>\n",
       "      <td>...</td>\n",
       "    </tr>\n",
       "    <tr>\n",
       "      <td>43395</td>\n",
       "      <td>10.0</td>\n",
       "      <td>0</td>\n",
       "      <td>0</td>\n",
       "      <td>58.64</td>\n",
       "      <td>20.4</td>\n",
       "      <td>0</td>\n",
       "      <td>1</td>\n",
       "      <td>0</td>\n",
       "      <td>0</td>\n",
       "      <td>0</td>\n",
       "      <td>0</td>\n",
       "      <td>0</td>\n",
       "      <td>1</td>\n",
       "      <td>0</td>\n",
       "      <td>1</td>\n",
       "    </tr>\n",
       "    <tr>\n",
       "      <td>43396</td>\n",
       "      <td>56.0</td>\n",
       "      <td>0</td>\n",
       "      <td>0</td>\n",
       "      <td>213.61</td>\n",
       "      <td>55.4</td>\n",
       "      <td>0</td>\n",
       "      <td>0</td>\n",
       "      <td>0</td>\n",
       "      <td>0</td>\n",
       "      <td>0</td>\n",
       "      <td>0</td>\n",
       "      <td>0</td>\n",
       "      <td>0</td>\n",
       "      <td>1</td>\n",
       "      <td>1</td>\n",
       "    </tr>\n",
       "    <tr>\n",
       "      <td>43397</td>\n",
       "      <td>82.0</td>\n",
       "      <td>1</td>\n",
       "      <td>0</td>\n",
       "      <td>91.94</td>\n",
       "      <td>28.9</td>\n",
       "      <td>0</td>\n",
       "      <td>0</td>\n",
       "      <td>0</td>\n",
       "      <td>0</td>\n",
       "      <td>0</td>\n",
       "      <td>1</td>\n",
       "      <td>0</td>\n",
       "      <td>0</td>\n",
       "      <td>1</td>\n",
       "      <td>1</td>\n",
       "    </tr>\n",
       "    <tr>\n",
       "      <td>43398</td>\n",
       "      <td>40.0</td>\n",
       "      <td>0</td>\n",
       "      <td>0</td>\n",
       "      <td>99.16</td>\n",
       "      <td>33.2</td>\n",
       "      <td>0</td>\n",
       "      <td>1</td>\n",
       "      <td>0</td>\n",
       "      <td>1</td>\n",
       "      <td>0</td>\n",
       "      <td>1</td>\n",
       "      <td>0</td>\n",
       "      <td>0</td>\n",
       "      <td>1</td>\n",
       "      <td>1</td>\n",
       "    </tr>\n",
       "    <tr>\n",
       "      <td>43399</td>\n",
       "      <td>82.0</td>\n",
       "      <td>0</td>\n",
       "      <td>0</td>\n",
       "      <td>79.48</td>\n",
       "      <td>20.6</td>\n",
       "      <td>0</td>\n",
       "      <td>1</td>\n",
       "      <td>0</td>\n",
       "      <td>0</td>\n",
       "      <td>0</td>\n",
       "      <td>1</td>\n",
       "      <td>0</td>\n",
       "      <td>0</td>\n",
       "      <td>1</td>\n",
       "      <td>1</td>\n",
       "    </tr>\n",
       "  </tbody>\n",
       "</table>\n",
       "<p>43400 rows × 15 columns</p>\n",
       "</div>"
      ],
      "text/plain": [
       "        age  hypertension  heart_disease  avg_glucose_level   bmi  stroke  \\\n",
       "0       3.0             0              0              95.12  18.0       0   \n",
       "1      58.0             1              0              87.96  39.2       0   \n",
       "2       8.0             0              0             110.89  17.6       0   \n",
       "3      70.0             0              0              69.04  35.9       0   \n",
       "4      14.0             0              0             161.28  19.1       0   \n",
       "...     ...           ...            ...                ...   ...     ...   \n",
       "43395  10.0             0              0              58.64  20.4       0   \n",
       "43396  56.0             0              0             213.61  55.4       0   \n",
       "43397  82.0             1              0              91.94  28.9       0   \n",
       "43398  40.0             0              0              99.16  33.2       0   \n",
       "43399  82.0             0              0              79.48  20.6       0   \n",
       "\n",
       "       never smoked  smokes  Male  Never_worked  Private  Self-employed  \\\n",
       "0                 1       0     1             0        0              0   \n",
       "1                 1       0     1             0        1              0   \n",
       "2                 1       0     0             0        1              0   \n",
       "3                 0       0     0             0        1              0   \n",
       "4                 0       1     1             1        0              0   \n",
       "...             ...     ...   ...           ...      ...            ...   \n",
       "43395             1       0     0             0        0              0   \n",
       "43396             0       0     0             0        0              0   \n",
       "43397             0       0     0             0        1              0   \n",
       "43398             1       0     1             0        1              0   \n",
       "43399             1       0     0             0        1              0   \n",
       "\n",
       "       children  Married  Urban  \n",
       "0             1        0      0  \n",
       "1             0        1      1  \n",
       "2             0        0      1  \n",
       "3             0        1      0  \n",
       "4             0        0      0  \n",
       "...         ...      ...    ...  \n",
       "43395         1        0      1  \n",
       "43396         0        1      1  \n",
       "43397         0        1      1  \n",
       "43398         0        1      1  \n",
       "43399         0        1      1  \n",
       "\n",
       "[43400 rows x 15 columns]"
      ]
     },
     "execution_count": 22,
     "metadata": {},
     "output_type": "execute_result"
    }
   ],
   "source": [
    "\n",
    "\n",
    "def fill_smoking_status(smoking_status, work_type, gender):\n",
    "    if not pd.isnull(smoking_status):\n",
    "        return smoking_status\n",
    "    if work_type=='children' or gender =='Female':\n",
    "        return 'never smoked'\n",
    "    return 'smokes'\n",
    "\n",
    "df['smoking_status'] = df.apply(lambda x : fill_smoking_status(x['smoking_status'], x['work_type'], x['gender']), axis=1)\n",
    "\n",
    "smoking_dummies = pd.get_dummies(df['smoking_status'],drop_first=True)\n",
    "df = pd.concat([df.drop('smoking_status',axis=1),smoking_dummies],axis=1)\n",
    "\n",
    "df['gender'] = df['gender'].replace([\"Other\"], \"Male\")\n",
    "gender_dummies = pd.get_dummies(df['gender'],drop_first=True)\n",
    "df = pd.concat([df.drop('gender',axis=1),gender_dummies],axis=1)\n",
    "\n",
    "bmi_avg= df.groupby('work_type').mean()['bmi']\n",
    "df['bmi'] = df.apply(lambda x : bmi_avg[x['work_type']] if np.isnan(x['bmi']) else x['bmi'], axis =1)\n",
    "\n",
    "\n",
    "work_type_dummies = pd.get_dummies(df['work_type'],drop_first=True)\n",
    "df = pd.concat([df.drop('work_type',axis=1),work_type_dummies],axis=1)\n",
    "\n",
    "married_dummies = pd.get_dummies(df['ever_married'],drop_first=True)\n",
    "df = pd.concat([df.drop('ever_married',axis=1),married_dummies],axis=1)\n",
    "df = df.rename(columns={'Yes': 'Married'})\n",
    "\n",
    "residence_dummies = pd.get_dummies(df['Residence_type'],drop_first=True)\n",
    "df = pd.concat([df.drop('Residence_type',axis=1),residence_dummies],axis=1)\n",
    "\n",
    "df = df.drop('id',axis=1)\n",
    "\n",
    "\n",
    "df"
   ]
  },
  {
   "cell_type": "code",
   "execution_count": null,
   "metadata": {},
   "outputs": [],
   "source": []
  },
  {
   "cell_type": "code",
   "execution_count": 23,
   "metadata": {},
   "outputs": [
    {
     "data": {
      "text/plain": [
       "age                  0\n",
       "hypertension         0\n",
       "heart_disease        0\n",
       "avg_glucose_level    0\n",
       "bmi                  0\n",
       "stroke               0\n",
       "never smoked         0\n",
       "smokes               0\n",
       "Male                 0\n",
       "Never_worked         0\n",
       "Private              0\n",
       "Self-employed        0\n",
       "children             0\n",
       "Married              0\n",
       "Urban                0\n",
       "dtype: int64"
      ]
     },
     "execution_count": 23,
     "metadata": {},
     "output_type": "execute_result"
    }
   ],
   "source": [
    "\n",
    "df.isnull().sum()"
   ]
  },
  {
   "cell_type": "code",
   "execution_count": null,
   "metadata": {},
   "outputs": [],
   "source": []
  },
  {
   "cell_type": "code",
   "execution_count": null,
   "metadata": {},
   "outputs": [],
   "source": []
  },
  {
   "cell_type": "code",
   "execution_count": null,
   "metadata": {},
   "outputs": [],
   "source": []
  },
  {
   "cell_type": "code",
   "execution_count": 24,
   "metadata": {},
   "outputs": [
    {
     "data": {
      "text/plain": [
       "<matplotlib.axes._subplots.AxesSubplot at 0x19ac68efbc8>"
      ]
     },
     "execution_count": 24,
     "metadata": {},
     "output_type": "execute_result"
    },
    {
     "data": {
      "image/png": "[encoded data removed]",
      "text/plain": [
       "<Figure size 576x576 with 1 Axes>"
      ]
     },
     "metadata": {
      "needs_background": "light"
     },
     "output_type": "display_data"
    }
   ],
   "source": [
    "plt.figure(figsize=(8,8))\n",
    "sns.boxplot(x='stroke',y='age',data=df)"
   ]
  },
  {
   "cell_type": "code",
   "execution_count": null,
   "metadata": {},
   "outputs": [],
   "source": []
  },
  {
   "cell_type": "code",
   "execution_count": 25,
   "metadata": {},
   "outputs": [],
   "source": [
    "# # sorted(df['smoking_status'].unique())\n",
    "# plt.figure(figsize=(10,10))\n",
    "# sns.countplot(x='stroke',data=df,hue='smoking_status')"
   ]
  },
  {
   "cell_type": "code",
   "execution_count": 26,
   "metadata": {},
   "outputs": [
    {
     "data": {
      "text/html": [
       "<div>\n",
       "<style scoped>\n",
       "    .dataframe tbody tr th:only-of-type {\n",
       "        vertical-align: middle;\n",
       "    }\n",
       "\n",
       "    .dataframe tbody tr th {\n",
       "        vertical-align: top;\n",
       "    }\n",
       "\n",
       "    .dataframe thead th {\n",
       "        text-align: right;\n",
       "    }\n",
       "</style>\n",
       "<table border=\"1\" class=\"dataframe\">\n",
       "  <thead>\n",
       "    <tr style=\"text-align: right;\">\n",
       "      <th></th>\n",
       "      <th>age</th>\n",
       "      <th>hypertension</th>\n",
       "      <th>heart_disease</th>\n",
       "      <th>avg_glucose_level</th>\n",
       "      <th>bmi</th>\n",
       "      <th>stroke</th>\n",
       "      <th>never smoked</th>\n",
       "      <th>smokes</th>\n",
       "      <th>Male</th>\n",
       "      <th>Never_worked</th>\n",
       "      <th>Private</th>\n",
       "      <th>Self-employed</th>\n",
       "      <th>children</th>\n",
       "      <th>Married</th>\n",
       "      <th>Urban</th>\n",
       "    </tr>\n",
       "  </thead>\n",
       "  <tbody>\n",
       "    <tr>\n",
       "      <td>age</td>\n",
       "      <td>1.000000</td>\n",
       "      <td>0.272169</td>\n",
       "      <td>0.250188</td>\n",
       "      <td>0.237627</td>\n",
       "      <td>0.359555</td>\n",
       "      <td>0.156049</td>\n",
       "      <td>-0.272598</td>\n",
       "      <td>0.098102</td>\n",
       "      <td>-0.027768</td>\n",
       "      <td>-0.069509</td>\n",
       "      <td>0.143657</td>\n",
       "      <td>0.326913</td>\n",
       "      <td>-0.641240</td>\n",
       "      <td>0.693070</td>\n",
       "      <td>0.001299</td>\n",
       "    </tr>\n",
       "    <tr>\n",
       "      <td>hypertension</td>\n",
       "      <td>0.272169</td>\n",
       "      <td>1.000000</td>\n",
       "      <td>0.119777</td>\n",
       "      <td>0.160211</td>\n",
       "      <td>0.158361</td>\n",
       "      <td>0.075332</td>\n",
       "      <td>-0.069020</td>\n",
       "      <td>0.015910</td>\n",
       "      <td>0.023902</td>\n",
       "      <td>-0.019319</td>\n",
       "      <td>0.007236</td>\n",
       "      <td>0.100243</td>\n",
       "      <td>-0.130171</td>\n",
       "      <td>0.176575</td>\n",
       "      <td>-0.003124</td>\n",
       "    </tr>\n",
       "    <tr>\n",
       "      <td>heart_disease</td>\n",
       "      <td>0.250188</td>\n",
       "      <td>0.119777</td>\n",
       "      <td>1.000000</td>\n",
       "      <td>0.146938</td>\n",
       "      <td>0.058548</td>\n",
       "      <td>0.113763</td>\n",
       "      <td>-0.107726</td>\n",
       "      <td>0.050831</td>\n",
       "      <td>0.082270</td>\n",
       "      <td>-0.014292</td>\n",
       "      <td>-0.006327</td>\n",
       "      <td>0.099342</td>\n",
       "      <td>-0.089559</td>\n",
       "      <td>0.128833</td>\n",
       "      <td>-0.002743</td>\n",
       "    </tr>\n",
       "    <tr>\n",
       "      <td>avg_glucose_level</td>\n",
       "      <td>0.237627</td>\n",
       "      <td>0.160211</td>\n",
       "      <td>0.146938</td>\n",
       "      <td>1.000000</td>\n",
       "      <td>0.188248</td>\n",
       "      <td>0.078917</td>\n",
       "      <td>-0.077354</td>\n",
       "      <td>0.022725</td>\n",
       "      <td>0.035695</td>\n",
       "      <td>-0.014516</td>\n",
       "      <td>0.008048</td>\n",
       "      <td>0.080246</td>\n",
       "      <td>-0.114174</td>\n",
       "      <td>0.153607</td>\n",
       "      <td>0.000014</td>\n",
       "    </tr>\n",
       "    <tr>\n",
       "      <td>bmi</td>\n",
       "      <td>0.359555</td>\n",
       "      <td>0.158361</td>\n",
       "      <td>0.058548</td>\n",
       "      <td>0.188248</td>\n",
       "      <td>1.000000</td>\n",
       "      <td>0.022308</td>\n",
       "      <td>-0.169780</td>\n",
       "      <td>0.089119</td>\n",
       "      <td>-0.020754</td>\n",
       "      <td>-0.021918</td>\n",
       "      <td>0.203401</td>\n",
       "      <td>0.084054</td>\n",
       "      <td>-0.462608</td>\n",
       "      <td>0.342836</td>\n",
       "      <td>-0.003619</td>\n",
       "    </tr>\n",
       "    <tr>\n",
       "      <td>stroke</td>\n",
       "      <td>0.156049</td>\n",
       "      <td>0.075332</td>\n",
       "      <td>0.113763</td>\n",
       "      <td>0.078917</td>\n",
       "      <td>0.022308</td>\n",
       "      <td>1.000000</td>\n",
       "      <td>-0.041869</td>\n",
       "      <td>0.013496</td>\n",
       "      <td>0.011281</td>\n",
       "      <td>-0.008674</td>\n",
       "      <td>-0.002464</td>\n",
       "      <td>0.061195</td>\n",
       "      <td>-0.054115</td>\n",
       "      <td>0.071920</td>\n",
       "      <td>0.002247</td>\n",
       "    </tr>\n",
       "    <tr>\n",
       "      <td>never smoked</td>\n",
       "      <td>-0.272598</td>\n",
       "      <td>-0.069020</td>\n",
       "      <td>-0.107726</td>\n",
       "      <td>-0.077354</td>\n",
       "      <td>-0.169780</td>\n",
       "      <td>-0.041869</td>\n",
       "      <td>1.000000</td>\n",
       "      <td>-0.662072</td>\n",
       "      <td>-0.225694</td>\n",
       "      <td>0.017758</td>\n",
       "      <td>-0.133841</td>\n",
       "      <td>-0.080128</td>\n",
       "      <td>0.313639</td>\n",
       "      <td>-0.223303</td>\n",
       "      <td>-0.000834</td>\n",
       "    </tr>\n",
       "    <tr>\n",
       "      <td>smokes</td>\n",
       "      <td>0.098102</td>\n",
       "      <td>0.015910</td>\n",
       "      <td>0.050831</td>\n",
       "      <td>0.022725</td>\n",
       "      <td>0.089119</td>\n",
       "      <td>0.013496</td>\n",
       "      <td>-0.662072</td>\n",
       "      <td>1.000000</td>\n",
       "      <td>0.229783</td>\n",
       "      <td>-0.002135</td>\n",
       "      <td>0.119038</td>\n",
       "      <td>0.019908</td>\n",
       "      <td>-0.216328</td>\n",
       "      <td>0.106108</td>\n",
       "      <td>0.004874</td>\n",
       "    </tr>\n",
       "    <tr>\n",
       "      <td>Male</td>\n",
       "      <td>-0.027768</td>\n",
       "      <td>0.023902</td>\n",
       "      <td>0.082270</td>\n",
       "      <td>0.035695</td>\n",
       "      <td>-0.020754</td>\n",
       "      <td>0.011281</td>\n",
       "      <td>-0.225694</td>\n",
       "      <td>0.229783</td>\n",
       "      <td>1.000000</td>\n",
       "      <td>0.002700</td>\n",
       "      <td>-0.052028</td>\n",
       "      <td>-0.002953</td>\n",
       "      <td>0.089127</td>\n",
       "      <td>-0.031183</td>\n",
       "      <td>0.001558</td>\n",
       "    </tr>\n",
       "    <tr>\n",
       "      <td>Never_worked</td>\n",
       "      <td>-0.069509</td>\n",
       "      <td>-0.019319</td>\n",
       "      <td>-0.014292</td>\n",
       "      <td>-0.014516</td>\n",
       "      <td>-0.021918</td>\n",
       "      <td>-0.008674</td>\n",
       "      <td>0.017758</td>\n",
       "      <td>-0.002135</td>\n",
       "      <td>0.002700</td>\n",
       "      <td>1.000000</td>\n",
       "      <td>-0.074011</td>\n",
       "      <td>-0.027566</td>\n",
       "      <td>-0.026017</td>\n",
       "      <td>-0.080734</td>\n",
       "      <td>0.003089</td>\n",
       "    </tr>\n",
       "    <tr>\n",
       "      <td>Private</td>\n",
       "      <td>0.143657</td>\n",
       "      <td>0.007236</td>\n",
       "      <td>-0.006327</td>\n",
       "      <td>0.008048</td>\n",
       "      <td>0.203401</td>\n",
       "      <td>-0.002464</td>\n",
       "      <td>-0.133841</td>\n",
       "      <td>0.119038</td>\n",
       "      <td>-0.052028</td>\n",
       "      <td>-0.074011</td>\n",
       "      <td>1.000000</td>\n",
       "      <td>-0.498211</td>\n",
       "      <td>-0.470203</td>\n",
       "      <td>0.158857</td>\n",
       "      <td>0.006050</td>\n",
       "    </tr>\n",
       "    <tr>\n",
       "      <td>Self-employed</td>\n",
       "      <td>0.326913</td>\n",
       "      <td>0.100243</td>\n",
       "      <td>0.099342</td>\n",
       "      <td>0.080246</td>\n",
       "      <td>0.084054</td>\n",
       "      <td>0.061195</td>\n",
       "      <td>-0.080128</td>\n",
       "      <td>0.019908</td>\n",
       "      <td>-0.002953</td>\n",
       "      <td>-0.027566</td>\n",
       "      <td>-0.498211</td>\n",
       "      <td>1.000000</td>\n",
       "      <td>-0.175134</td>\n",
       "      <td>0.199305</td>\n",
       "      <td>-0.007136</td>\n",
       "    </tr>\n",
       "    <tr>\n",
       "      <td>children</td>\n",
       "      <td>-0.641240</td>\n",
       "      <td>-0.130171</td>\n",
       "      <td>-0.089559</td>\n",
       "      <td>-0.114174</td>\n",
       "      <td>-0.462608</td>\n",
       "      <td>-0.054115</td>\n",
       "      <td>0.313639</td>\n",
       "      <td>-0.216328</td>\n",
       "      <td>0.089127</td>\n",
       "      <td>-0.026017</td>\n",
       "      <td>-0.470203</td>\n",
       "      <td>-0.175134</td>\n",
       "      <td>1.000000</td>\n",
       "      <td>-0.546495</td>\n",
       "      <td>-0.001578</td>\n",
       "    </tr>\n",
       "    <tr>\n",
       "      <td>Married</td>\n",
       "      <td>0.693070</td>\n",
       "      <td>0.176575</td>\n",
       "      <td>0.128833</td>\n",
       "      <td>0.153607</td>\n",
       "      <td>0.342836</td>\n",
       "      <td>0.071920</td>\n",
       "      <td>-0.223303</td>\n",
       "      <td>0.106108</td>\n",
       "      <td>-0.031183</td>\n",
       "      <td>-0.080734</td>\n",
       "      <td>0.158857</td>\n",
       "      <td>0.199305</td>\n",
       "      <td>-0.546495</td>\n",
       "      <td>1.000000</td>\n",
       "      <td>0.004422</td>\n",
       "    </tr>\n",
       "    <tr>\n",
       "      <td>Urban</td>\n",
       "      <td>0.001299</td>\n",
       "      <td>-0.003124</td>\n",
       "      <td>-0.002743</td>\n",
       "      <td>0.000014</td>\n",
       "      <td>-0.003619</td>\n",
       "      <td>0.002247</td>\n",
       "      <td>-0.000834</td>\n",
       "      <td>0.004874</td>\n",
       "      <td>0.001558</td>\n",
       "      <td>0.003089</td>\n",
       "      <td>0.006050</td>\n",
       "      <td>-0.007136</td>\n",
       "      <td>-0.001578</td>\n",
       "      <td>0.004422</td>\n",
       "      <td>1.000000</td>\n",
       "    </tr>\n",
       "  </tbody>\n",
       "</table>\n",
       "</div>"
      ],
      "text/plain": [
       "                        age  hypertension  heart_disease  avg_glucose_level  \\\n",
       "age                1.000000      0.272169       0.250188           0.237627   \n",
       "hypertension       0.272169      1.000000       0.119777           0.160211   \n",
       "heart_disease      0.250188      0.119777       1.000000           0.146938   \n",
       "avg_glucose_level  0.237627      0.160211       0.146938           1.000000   \n",
       "bmi                0.359555      0.158361       0.058548           0.188248   \n",
       "stroke             0.156049      0.075332       0.113763           0.078917   \n",
       "never smoked      -0.272598     -0.069020      -0.107726          -0.077354   \n",
       "smokes             0.098102      0.015910       0.050831           0.022725   \n",
       "Male              -0.027768      0.023902       0.082270           0.035695   \n",
       "Never_worked      -0.069509     -0.019319      -0.014292          -0.014516   \n",
       "Private            0.143657      0.007236      -0.006327           0.008048   \n",
       "Self-employed      0.326913      0.100243       0.099342           0.080246   \n",
       "children          -0.641240     -0.130171      -0.089559          -0.114174   \n",
       "Married            0.693070      0.176575       0.128833           0.153607   \n",
       "Urban              0.001299     -0.003124      -0.002743           0.000014   \n",
       "\n",
       "                        bmi    stroke  never smoked    smokes      Male  \\\n",
       "age                0.359555  0.156049     -0.272598  0.098102 -0.027768   \n",
       "hypertension       0.158361  0.075332     -0.069020  0.015910  0.023902   \n",
       "heart_disease      0.058548  0.113763     -0.107726  0.050831  0.082270   \n",
       "avg_glucose_level  0.188248  0.078917     -0.077354  0.022725  0.035695   \n",
       "bmi                1.000000  0.022308     -0.169780  0.089119 -0.020754   \n",
       "stroke             0.022308  1.000000     -0.041869  0.013496  0.011281   \n",
       "never smoked      -0.169780 -0.041869      1.000000 -0.662072 -0.225694   \n",
       "smokes             0.089119  0.013496     -0.662072  1.000000  0.229783   \n",
       "Male              -0.020754  0.011281     -0.225694  0.229783  1.000000   \n",
       "Never_worked      -0.021918 -0.008674      0.017758 -0.002135  0.002700   \n",
       "Private            0.203401 -0.002464     -0.133841  0.119038 -0.052028   \n",
       "Self-employed      0.084054  0.061195     -0.080128  0.019908 -0.002953   \n",
       "children          -0.462608 -0.054115      0.313639 -0.216328  0.089127   \n",
       "Married            0.342836  0.071920     -0.223303  0.106108 -0.031183   \n",
       "Urban             -0.003619  0.002247     -0.000834  0.004874  0.001558   \n",
       "\n",
       "                   Never_worked   Private  Self-employed  children   Married  \\\n",
       "age                   -0.069509  0.143657       0.326913 -0.641240  0.693070   \n",
       "hypertension          -0.019319  0.007236       0.100243 -0.130171  0.176575   \n",
       "heart_disease         -0.014292 -0.006327       0.099342 -0.089559  0.128833   \n",
       "avg_glucose_level     -0.014516  0.008048       0.080246 -0.114174  0.153607   \n",
       "bmi                   -0.021918  0.203401       0.084054 -0.462608  0.342836   \n",
       "stroke                -0.008674 -0.002464       0.061195 -0.054115  0.071920   \n",
       "never smoked           0.017758 -0.133841      -0.080128  0.313639 -0.223303   \n",
       "smokes                -0.002135  0.119038       0.019908 -0.216328  0.106108   \n",
       "Male                   0.002700 -0.052028      -0.002953  0.089127 -0.031183   \n",
       "Never_worked           1.000000 -0.074011      -0.027566 -0.026017 -0.080734   \n",
       "Private               -0.074011  1.000000      -0.498211 -0.470203  0.158857   \n",
       "Self-employed         -0.027566 -0.498211       1.000000 -0.175134  0.199305   \n",
       "children              -0.026017 -0.470203      -0.175134  1.000000 -0.546495   \n",
       "Married               -0.080734  0.158857       0.199305 -0.546495  1.000000   \n",
       "Urban                  0.003089  0.006050      -0.007136 -0.001578  0.004422   \n",
       "\n",
       "                      Urban  \n",
       "age                0.001299  \n",
       "hypertension      -0.003124  \n",
       "heart_disease     -0.002743  \n",
       "avg_glucose_level  0.000014  \n",
       "bmi               -0.003619  \n",
       "stroke             0.002247  \n",
       "never smoked      -0.000834  \n",
       "smokes             0.004874  \n",
       "Male               0.001558  \n",
       "Never_worked       0.003089  \n",
       "Private            0.006050  \n",
       "Self-employed     -0.007136  \n",
       "children          -0.001578  \n",
       "Married            0.004422  \n",
       "Urban              1.000000  "
      ]
     },
     "execution_count": 26,
     "metadata": {},
     "output_type": "execute_result"
    }
   ],
   "source": [
    "df.corr()"
   ]
  },
  {
   "cell_type": "code",
   "execution_count": null,
   "metadata": {},
   "outputs": [],
   "source": []
  },
  {
   "cell_type": "code",
   "execution_count": null,
   "metadata": {},
   "outputs": [],
   "source": []
  },
  {
   "cell_type": "code",
   "execution_count": null,
   "metadata": {},
   "outputs": [],
   "source": []
  },
  {
   "cell_type": "code",
   "execution_count": 27,
   "metadata": {},
   "outputs": [
    {
     "data": {
      "text/html": [
       "<div>\n",
       "<style scoped>\n",
       "    .dataframe tbody tr th:only-of-type {\n",
       "        vertical-align: middle;\n",
       "    }\n",
       "\n",
       "    .dataframe tbody tr th {\n",
       "        vertical-align: top;\n",
       "    }\n",
       "\n",
       "    .dataframe thead th {\n",
       "        text-align: right;\n",
       "    }\n",
       "</style>\n",
       "<table border=\"1\" class=\"dataframe\">\n",
       "  <thead>\n",
       "    <tr style=\"text-align: right;\">\n",
       "      <th></th>\n",
       "      <th>age</th>\n",
       "      <th>hypertension</th>\n",
       "      <th>heart_disease</th>\n",
       "      <th>avg_glucose_level</th>\n",
       "      <th>bmi</th>\n",
       "      <th>stroke</th>\n",
       "      <th>never smoked</th>\n",
       "      <th>smokes</th>\n",
       "      <th>Male</th>\n",
       "      <th>Never_worked</th>\n",
       "      <th>Private</th>\n",
       "      <th>Self-employed</th>\n",
       "      <th>children</th>\n",
       "      <th>Married</th>\n",
       "      <th>Urban</th>\n",
       "    </tr>\n",
       "  </thead>\n",
       "  <tbody>\n",
       "  </tbody>\n",
       "</table>\n",
       "</div>"
      ],
      "text/plain": [
       "Empty DataFrame\n",
       "Columns: [age, hypertension, heart_disease, avg_glucose_level, bmi, stroke, never smoked, smokes, Male, Never_worked, Private, Self-employed, children, Married, Urban]\n",
       "Index: []"
      ]
     },
     "execution_count": 27,
     "metadata": {},
     "output_type": "execute_result"
    }
   ],
   "source": [
    "df.isnull().sum()\n",
    "df[np.isnan(df['bmi'])]"
   ]
  },
  {
   "cell_type": "code",
   "execution_count": null,
   "metadata": {},
   "outputs": [],
   "source": []
  },
  {
   "cell_type": "code",
   "execution_count": null,
   "metadata": {},
   "outputs": [],
   "source": []
  },
  {
   "cell_type": "code",
   "execution_count": 28,
   "metadata": {},
   "outputs": [],
   "source": [
    "# plt.figure(figsize=(17,8))\n",
    "# age_len = age_1/age_0\n",
    "# age_len.plot(kind = 'bar')"
   ]
  },
  {
   "cell_type": "code",
   "execution_count": null,
   "metadata": {},
   "outputs": [],
   "source": []
  },
  {
   "cell_type": "markdown",
   "metadata": {},
   "source": [
    "## Split Data"
   ]
  },
  {
   "cell_type": "code",
   "execution_count": null,
   "metadata": {},
   "outputs": [],
   "source": []
  },
  {
   "cell_type": "code",
   "execution_count": 29,
   "metadata": {},
   "outputs": [],
   "source": [
    "from sklearn.model_selection import train_test_split\n",
    "df=df.sample(frac=1)"
   ]
  },
  {
   "cell_type": "code",
   "execution_count": 30,
   "metadata": {},
   "outputs": [
    {
     "data": {
      "text/plain": [
       "array([[64.,  0.,  0., ...,  0.,  1.,  0.],\n",
       "       [31.,  0.,  0., ...,  0.,  1.,  1.],\n",
       "       [60.,  0.,  0., ...,  0.,  1.,  0.],\n",
       "       ...,\n",
       "       [47.,  0.,  0., ...,  0.,  1.,  1.],\n",
       "       [31.,  0.,  0., ...,  0.,  1.,  0.],\n",
       "       [ 2.,  0.,  0., ...,  1.,  0.,  0.]])"
      ]
     },
     "execution_count": 30,
     "metadata": {},
     "output_type": "execute_result"
    }
   ],
   "source": [
    "X = df.drop('stroke', axis =1).values\n",
    "X"
   ]
  },
  {
   "cell_type": "code",
   "execution_count": 31,
   "metadata": {},
   "outputs": [
    {
     "data": {
      "text/plain": [
       "array([0, 0, 0, ..., 0, 0, 0], dtype=int64)"
      ]
     },
     "execution_count": 31,
     "metadata": {},
     "output_type": "execute_result"
    }
   ],
   "source": [
    "y = df['stroke'].values\n",
    "y"
   ]
  },
  {
   "cell_type": "code",
   "execution_count": 32,
   "metadata": {},
   "outputs": [],
   "source": [
    "X_train, X_test, y_train, y_test = train_test_split(X, y, test_size=0.20, random_state=101)"
   ]
  },
  {
   "cell_type": "code",
   "execution_count": 33,
   "metadata": {},
   "outputs": [],
   "source": [
    "from sklearn.preprocessing import MinMaxScaler\n",
    "scaler = MinMaxScaler()\n",
    "\n",
    "X_train = scaler.fit_transform(X_train)\n",
    "X_test = scaler.transform(X_test)"
   ]
  },
  {
   "cell_type": "code",
   "execution_count": 34,
   "metadata": {},
   "outputs": [],
   "source": [
    "import tensorflow as tf\n",
    "from tensorflow.keras.models import Sequential\n",
    "from tensorflow.keras.layers import Dense, Activation,Dropout\n",
    "from tensorflow.keras.constraints import max_norm\n",
    "from tensorflow.keras.callbacks import EarlyStopping, TensorBoard\n",
    "from datetime import datetime\n",
    "\n",
    "early_stop = EarlyStopping(monitor='val_loss', mode='min', verbose=1, patience=30)\n",
    "\n",
    "time = datetime.now().strftime(\"%Y-%m-%d--%H%M\")\n",
    "logdir = 'logs\\\\hparam_tuning'\n",
    "# board = TensorBoard(log_dir=log_dir, histogram_freq=1, write_graph=True, write_images = True, \n",
    "#                     update_freq='epoch', profile_batch=2, embeddings_freq=1)"
   ]
  },
  {
   "cell_type": "code",
   "execution_count": 35,
   "metadata": {},
   "outputs": [
    {
     "name": "stdout",
     "output_type": "stream",
     "text": [
      "Weight for class 0: 0.51\n",
      "Weight for class 1: 27.71\n",
      "Train on 34720 samples, validate on 8680 samples\n",
      "Epoch 1/400\n",
      "34720/34720 [==============================] - 2s 56us/sample - loss: 0.6622 - accuracy: 0.5250 - val_loss: 0.6530 - val_accuracy: 0.4992\n",
      "Epoch 2/400\n",
      "34720/34720 [==============================] - 0s 6us/sample - loss: 0.6305 - accuracy: 0.5654 - val_loss: 0.6245 - val_accuracy: 0.6725\n",
      "Epoch 3/400\n",
      "34720/34720 [==============================] - 0s 6us/sample - loss: 0.6024 - accuracy: 0.6270 - val_loss: 0.5931 - val_accuracy: 0.6164\n",
      "Epoch 4/400\n",
      "34720/34720 [==============================] - 0s 7us/sample - loss: 0.5840 - accuracy: 0.6231 - val_loss: 0.5722 - val_accuracy: 0.7096\n",
      "Epoch 5/400\n",
      "34720/34720 [==============================] - 0s 7us/sample - loss: 0.5702 - accuracy: 0.6489 - val_loss: 0.5538 - val_accuracy: 0.6841\n",
      "Epoch 6/400\n",
      "34720/34720 [==============================] - 0s 6us/sample - loss: 0.5623 - accuracy: 0.6649 - val_loss: 0.5400 - val_accuracy: 0.6653\n",
      "Epoch 7/400\n",
      "34720/34720 [==============================] - 0s 6us/sample - loss: 0.5545 - accuracy: 0.6504 - val_loss: 0.5317 - val_accuracy: 0.6829\n",
      "Epoch 8/400\n",
      "34720/34720 [==============================] - 0s 7us/sample - loss: 0.5375 - accuracy: 0.6643 - val_loss: 0.5230 - val_accuracy: 0.7012\n",
      "Epoch 9/400\n",
      "34720/34720 [==============================] - 0s 7us/sample - loss: 0.5304 - accuracy: 0.6744 - val_loss: 0.5154 - val_accuracy: 0.6901\n",
      "Epoch 10/400\n",
      "34720/34720 [==============================] - 0s 7us/sample - loss: 0.5210 - accuracy: 0.6675 - val_loss: 0.5102 - val_accuracy: 0.7073\n",
      "Epoch 11/400\n",
      "34720/34720 [==============================] - 0s 7us/sample - loss: 0.5205 - accuracy: 0.6822 - val_loss: 0.5041 - val_accuracy: 0.6800\n",
      "Epoch 12/400\n",
      "34720/34720 [==============================] - 0s 7us/sample - loss: 0.5179 - accuracy: 0.6817 - val_loss: 0.5022 - val_accuracy: 0.6786\n",
      "Epoch 13/400\n",
      "34720/34720 [==============================] - ETA: 0s - loss: 0.5108 - accuracy: 0.68 - 0s 7us/sample - loss: 0.5142 - accuracy: 0.6887 - val_loss: 0.5000 - val_accuracy: 0.7006\n",
      "Epoch 14/400\n",
      "34720/34720 [==============================] - 0s 7us/sample - loss: 0.5110 - accuracy: 0.6789 - val_loss: 0.4972 - val_accuracy: 0.7071\n",
      "Epoch 15/400\n",
      "34720/34720 [==============================] - 0s 8us/sample - loss: 0.5076 - accuracy: 0.6779 - val_loss: 0.4958 - val_accuracy: 0.7000\n",
      "Epoch 16/400\n",
      "34720/34720 [==============================] - 0s 7us/sample - loss: 0.5057 - accuracy: 0.6899 - val_loss: 0.4919 - val_accuracy: 0.6933\n",
      "Epoch 17/400\n",
      "34720/34720 [==============================] - 0s 7us/sample - loss: 0.5062 - accuracy: 0.6817 - val_loss: 0.4915 - val_accuracy: 0.6806\n",
      "Epoch 18/400\n",
      "34720/34720 [==============================] - 0s 7us/sample - loss: 0.4985 - accuracy: 0.6912 - val_loss: 0.4905 - val_accuracy: 0.6965\n",
      "Epoch 19/400\n",
      "34720/34720 [==============================] - 0s 6us/sample - loss: 0.5019 - accuracy: 0.6832 - val_loss: 0.4918 - val_accuracy: 0.7177\n",
      "Epoch 20/400\n",
      "34720/34720 [==============================] - 0s 7us/sample - loss: 0.5016 - accuracy: 0.7142 - val_loss: 0.4882 - val_accuracy: 0.6853\n",
      "Epoch 21/400\n",
      "34720/34720 [==============================] - 0s 7us/sample - loss: 0.4978 - accuracy: 0.6920 - val_loss: 0.4901 - val_accuracy: 0.7247\n",
      "Epoch 22/400\n",
      "34720/34720 [==============================] - 0s 7us/sample - loss: 0.4918 - accuracy: 0.6946 - val_loss: 0.4877 - val_accuracy: 0.7026\n",
      "Epoch 23/400\n",
      "34720/34720 [==============================] - 0s 7us/sample - loss: 0.4966 - accuracy: 0.6986 - val_loss: 0.4880 - val_accuracy: 0.7113\n",
      "Epoch 24/400\n",
      "34720/34720 [==============================] - 0s 7us/sample - loss: 0.5009 - accuracy: 0.6850 - val_loss: 0.4854 - val_accuracy: 0.6945\n",
      "Epoch 25/400\n",
      "34720/34720 [==============================] - 0s 7us/sample - loss: 0.4898 - accuracy: 0.7107 - val_loss: 0.4857 - val_accuracy: 0.7130\n",
      "Epoch 26/400\n",
      "34720/34720 [==============================] - 0s 6us/sample - loss: 0.4893 - accuracy: 0.7051 - val_loss: 0.4841 - val_accuracy: 0.7022\n",
      "Epoch 27/400\n",
      "34720/34720 [==============================] - 0s 7us/sample - loss: 0.4830 - accuracy: 0.7007 - val_loss: 0.4840 - val_accuracy: 0.7190\n",
      "Epoch 28/400\n",
      "34720/34720 [==============================] - 0s 7us/sample - loss: 0.4882 - accuracy: 0.7103 - val_loss: 0.4828 - val_accuracy: 0.6857\n",
      "Epoch 29/400\n",
      "34720/34720 [==============================] - 0s 7us/sample - loss: 0.4832 - accuracy: 0.7075 - val_loss: 0.4858 - val_accuracy: 0.7407\n",
      "Epoch 30/400\n",
      "34720/34720 [==============================] - 0s 7us/sample - loss: 0.4859 - accuracy: 0.7121 - val_loss: 0.4820 - val_accuracy: 0.7138\n",
      "Epoch 31/400\n",
      "34720/34720 [==============================] - 0s 8us/sample - loss: 0.4847 - accuracy: 0.6931 - val_loss: 0.4815 - val_accuracy: 0.7158\n",
      "Epoch 32/400\n",
      "34720/34720 [==============================] - 0s 7us/sample - loss: 0.4851 - accuracy: 0.7145 - val_loss: 0.4810 - val_accuracy: 0.6956\n",
      "Epoch 33/400\n",
      "34720/34720 [==============================] - 0s 8us/sample - loss: 0.4777 - accuracy: 0.7042 - val_loss: 0.4828 - val_accuracy: 0.7338\n",
      "Epoch 34/400\n",
      "34720/34720 [==============================] - 0s 8us/sample - loss: 0.4864 - accuracy: 0.7046 - val_loss: 0.4807 - val_accuracy: 0.7276\n",
      "Epoch 35/400\n",
      "34720/34720 [==============================] - 0s 8us/sample - loss: 0.4743 - accuracy: 0.7220 - val_loss: 0.4791 - val_accuracy: 0.7219\n",
      "Epoch 36/400\n",
      "34720/34720 [==============================] - 0s 7us/sample - loss: 0.4792 - accuracy: 0.7116 - val_loss: 0.4806 - val_accuracy: 0.7233\n",
      "Epoch 37/400\n",
      "34720/34720 [==============================] - 0s 7us/sample - loss: 0.4819 - accuracy: 0.7112 - val_loss: 0.4799 - val_accuracy: 0.7213\n",
      "Epoch 38/400\n",
      "34720/34720 [==============================] - 0s 6us/sample - loss: 0.4707 - accuracy: 0.7236 - val_loss: 0.4807 - val_accuracy: 0.7238\n",
      "Epoch 39/400\n",
      "34720/34720 [==============================] - 0s 6us/sample - loss: 0.4821 - accuracy: 0.7019 - val_loss: 0.4805 - val_accuracy: 0.7313\n",
      "Epoch 40/400\n",
      "34720/34720 [==============================] - 0s 6us/sample - loss: 0.4765 - accuracy: 0.7112 - val_loss: 0.4796 - val_accuracy: 0.7164\n",
      "Epoch 41/400\n",
      "34720/34720 [==============================] - 0s 6us/sample - loss: 0.4678 - accuracy: 0.7164 - val_loss: 0.4823 - val_accuracy: 0.7402\n",
      "Epoch 42/400\n",
      "34720/34720 [==============================] - 0s 6us/sample - loss: 0.4671 - accuracy: 0.7167 - val_loss: 0.4801 - val_accuracy: 0.7325\n",
      "Epoch 43/400\n",
      "34720/34720 [==============================] - 0s 6us/sample - loss: 0.4769 - accuracy: 0.7082 - val_loss: 0.4794 - val_accuracy: 0.7264\n",
      "Epoch 44/400\n",
      "34720/34720 [==============================] - 0s 6us/sample - loss: 0.4722 - accuracy: 0.7243 - val_loss: 0.4786 - val_accuracy: 0.7205\n",
      "Epoch 45/400\n",
      "34720/34720 [==============================] - 0s 6us/sample - loss: 0.4731 - accuracy: 0.7161 - val_loss: 0.4766 - val_accuracy: 0.7013\n",
      "Epoch 46/400\n",
      "34720/34720 [==============================] - 0s 6us/sample - loss: 0.4781 - accuracy: 0.7062 - val_loss: 0.4767 - val_accuracy: 0.7000\n",
      "Epoch 47/400\n",
      "34720/34720 [==============================] - 0s 6us/sample - loss: 0.4697 - accuracy: 0.7101 - val_loss: 0.4793 - val_accuracy: 0.7315\n",
      "Epoch 48/400\n",
      "34720/34720 [==============================] - 0s 6us/sample - loss: 0.4623 - accuracy: 0.7185 - val_loss: 0.4799 - val_accuracy: 0.7305\n",
      "Epoch 49/400\n",
      "34720/34720 [==============================] - 0s 6us/sample - loss: 0.4658 - accuracy: 0.7227 - val_loss: 0.4819 - val_accuracy: 0.7397\n",
      "Epoch 50/400\n",
      "34720/34720 [==============================] - 0s 6us/sample - loss: 0.4680 - accuracy: 0.7177 - val_loss: 0.4775 - val_accuracy: 0.7073\n",
      "Epoch 51/400\n",
      "34720/34720 [==============================] - 0s 6us/sample - loss: 0.4675 - accuracy: 0.7090 - val_loss: 0.4828 - val_accuracy: 0.7480\n",
      "Epoch 52/400\n",
      "34720/34720 [==============================] - 0s 6us/sample - loss: 0.4611 - accuracy: 0.7322 - val_loss: 0.4787 - val_accuracy: 0.7224\n",
      "Epoch 53/400\n",
      "34720/34720 [==============================] - 0s 6us/sample - loss: 0.4672 - accuracy: 0.7192 - val_loss: 0.4798 - val_accuracy: 0.7331\n",
      "Epoch 54/400\n",
      "34720/34720 [==============================] - 0s 6us/sample - loss: 0.4668 - accuracy: 0.7184 - val_loss: 0.4785 - val_accuracy: 0.7228\n"
     ]
    },
    {
     "name": "stdout",
     "output_type": "stream",
     "text": [
      "Epoch 55/400\n",
      "34720/34720 [==============================] - 0s 6us/sample - loss: 0.4600 - accuracy: 0.7151 - val_loss: 0.4813 - val_accuracy: 0.7407\n",
      "Epoch 56/400\n",
      "34720/34720 [==============================] - 0s 6us/sample - loss: 0.4690 - accuracy: 0.7241 - val_loss: 0.4788 - val_accuracy: 0.7286\n",
      "Epoch 57/400\n",
      "34720/34720 [==============================] - 0s 6us/sample - loss: 0.4673 - accuracy: 0.7151 - val_loss: 0.4783 - val_accuracy: 0.7145\n",
      "Epoch 58/400\n",
      "34720/34720 [==============================] - 0s 6us/sample - loss: 0.4647 - accuracy: 0.7174 - val_loss: 0.4802 - val_accuracy: 0.7298\n",
      "Epoch 59/400\n",
      "34720/34720 [==============================] - 0s 6us/sample - loss: 0.4630 - accuracy: 0.7200 - val_loss: 0.4791 - val_accuracy: 0.7236\n",
      "Epoch 60/400\n",
      "34720/34720 [==============================] - 0s 6us/sample - loss: 0.4749 - accuracy: 0.7063 - val_loss: 0.4781 - val_accuracy: 0.7266\n",
      "Epoch 61/400\n",
      "34720/34720 [==============================] - 0s 6us/sample - loss: 0.4560 - accuracy: 0.7346 - val_loss: 0.4807 - val_accuracy: 0.7273\n",
      "Epoch 62/400\n",
      "34720/34720 [==============================] - 0s 6us/sample - loss: 0.4575 - accuracy: 0.7064 - val_loss: 0.4799 - val_accuracy: 0.7315\n",
      "Epoch 63/400\n",
      "34720/34720 [==============================] - 0s 6us/sample - loss: 0.4650 - accuracy: 0.7381 - val_loss: 0.4792 - val_accuracy: 0.7247\n",
      "Epoch 64/400\n",
      "34720/34720 [==============================] - 0s 6us/sample - loss: 0.4563 - accuracy: 0.7155 - val_loss: 0.4823 - val_accuracy: 0.7410\n",
      "Epoch 65/400\n",
      "34720/34720 [==============================] - 0s 6us/sample - loss: 0.4622 - accuracy: 0.7305 - val_loss: 0.4779 - val_accuracy: 0.7197\n",
      "Epoch 66/400\n",
      "34720/34720 [==============================] - 0s 6us/sample - loss: 0.4606 - accuracy: 0.7134 - val_loss: 0.4803 - val_accuracy: 0.7402\n",
      "Epoch 67/400\n",
      "34720/34720 [==============================] - 0s 6us/sample - loss: 0.4595 - accuracy: 0.7136 - val_loss: 0.4811 - val_accuracy: 0.7392\n",
      "Epoch 68/400\n",
      "34720/34720 [==============================] - 0s 6us/sample - loss: 0.4606 - accuracy: 0.7417 - val_loss: 0.4784 - val_accuracy: 0.7175\n",
      "Epoch 69/400\n",
      "34720/34720 [==============================] - 0s 5us/sample - loss: 0.4618 - accuracy: 0.7022 - val_loss: 0.4815 - val_accuracy: 0.7404\n",
      "Epoch 70/400\n",
      "34720/34720 [==============================] - 0s 6us/sample - loss: 0.4607 - accuracy: 0.7228 - val_loss: 0.4776 - val_accuracy: 0.7252\n",
      "Epoch 71/400\n",
      "34720/34720 [==============================] - 0s 6us/sample - loss: 0.4592 - accuracy: 0.7200 - val_loss: 0.4805 - val_accuracy: 0.7467\n",
      "Epoch 72/400\n",
      "34720/34720 [==============================] - 0s 6us/sample - loss: 0.4585 - accuracy: 0.7372 - val_loss: 0.4773 - val_accuracy: 0.7175\n",
      "Epoch 73/400\n",
      "34720/34720 [==============================] - 0s 6us/sample - loss: 0.4560 - accuracy: 0.7204 - val_loss: 0.4842 - val_accuracy: 0.7490\n",
      "Epoch 74/400\n",
      "34720/34720 [==============================] - 0s 6us/sample - loss: 0.4520 - accuracy: 0.7258 - val_loss: 0.4814 - val_accuracy: 0.7402\n",
      "Epoch 75/400\n",
      "34720/34720 [==============================] - 0s 6us/sample - loss: 0.4569 - accuracy: 0.7326 - val_loss: 0.4828 - val_accuracy: 0.7411\n",
      "Epoch 00075: early stopping\n"
     ]
    },
    {
     "data": {
      "text/plain": [
       "<tensorflow.python.keras.callbacks.History at 0x19acf92ae08>"
      ]
     },
     "execution_count": 35,
     "metadata": {},
     "output_type": "execute_result"
    }
   ],
   "source": [
    "\n",
    "model = Sequential()\n",
    "# input layer\n",
    "model.add(Dense(39,  activation='relu'))\n",
    "model.add(Dropout(0.1))\n",
    "\n",
    "# hidden layer\n",
    "model.add(Dense(24, activation='relu'))\n",
    "model.add(Dropout(0.1))\n",
    "\n",
    "# # hidden layer\n",
    "# model.add(Dense(18, activation='relu'))\n",
    "# model.add(Dropout(0.1))\n",
    "\n",
    "# hidden layer\n",
    "model.add(Dense(8, activation='relu'))\n",
    "model.add(Dropout(0.1))\n",
    "\n",
    "# output layer\n",
    "model.add(Dense(units=1,activation='sigmoid'))\n",
    "\n",
    "# Compile model\n",
    "model.compile(loss='binary_crossentropy', optimizer='adam',  metrics=['accuracy'] )\n",
    "\n",
    "weight_for_0 = (1 / neg)*(total)/2.0 \n",
    "weight_for_1 = (1 / pos)*(total)/2.0\n",
    "\n",
    "class_weight = {0: weight_for_0, 1: weight_for_1}\n",
    "\n",
    "print('Weight for class 0: {:.2f}'.format(weight_for_0))\n",
    "print('Weight for class 1: {:.2f}'.format(weight_for_1))\n",
    "\n",
    "# weights = {0:1, 1:54}\n",
    "model.fit(x=X_train, \n",
    "          y=y_train, \n",
    "          epochs=400,\n",
    "          class_weight=class_weight,\n",
    "          batch_size=2048,\n",
    "          validation_data=(X_test, y_test), \n",
    "          verbose=1,\n",
    "          callbacks = [early_stop]\n",
    "          )\n"
   ]
  },
  {
   "cell_type": "code",
   "execution_count": 36,
   "metadata": {},
   "outputs": [],
   "source": [
    "# from tensorboard.plugins.hparams import api as hp\n",
    "# HP_NUM_UNITS_L1 = hp.HParam('num_units_l1', hp.Discrete([16, 32]))\n",
    "# HP_NUM_UNITS_L2 = hp.HParam('num_units_l2', hp.Discrete([8,4]))\n",
    "# HP_DROPOUT = hp.HParam('dropout', hp.RealInterval(0.1, 0.2))\n",
    "# HP_OPTIMIZER = hp.HParam('optimizer', hp.Discrete(['adam', 'sgd']))\n",
    "\n",
    "# METRIC_ACCURACY = 'accuracy'\n",
    "\n",
    "# with tf.summary.create_file_writer('logs\\\\hparam_tuning').as_default():\n",
    "#     hp.hparams_config(\n",
    "#         hparams=[HP_NUM_UNITS_L1,HP_NUM_UNITS_L2, HP_DROPOUT, HP_OPTIMIZER],\n",
    "#         metrics=[hp.Metric(METRIC_ACCURACY, display_name='Accuracy')],\n",
    "#   )\n",
    "\n",
    "# def train_test_model(hparams):\n",
    "#     model = Sequential()\n",
    "#     # input layer\n",
    "#     model.add(Dense(hparams[HP_NUM_UNITS_L1],  activation='relu'))\n",
    "#     model.add(Dropout(hparams[HP_DROPOUT]))\n",
    "\n",
    "#     # hidden layer\n",
    "#     model.add(Dense(hparams[HP_NUM_UNITS_L2], activation='relu'))\n",
    "#     model.add(Dropout(hparams[HP_DROPOUT]))\n",
    "    \n",
    "#     model.add(Dense(8, activation='relu'))\n",
    "#     model.add(Dropout(hparams[HP_DROPOUT]))\n",
    "#     # output layer\n",
    "#     model.add(Dense(units=1,activation='sigmoid'))\n",
    "\n",
    "#     # Compile model\n",
    "#     model.compile(loss='binary_crossentropy', optimizer=hparams[HP_OPTIMIZER],  metrics=['accuracy'])\n",
    "    \n",
    "#     model.fit(x=X_train, \n",
    "#           y=y_train, \n",
    "#           epochs=400,\n",
    "#           validation_data=(X_test, y_test), \n",
    "#           verbose=1,\n",
    "#           callbacks = [early_stop,\n",
    "#                        tf.keras.callbacks.TensorBoard(logdir),  # log metrics\n",
    "#                         hp.KerasCallback(logdir, hparams)]\n",
    "#           )\n",
    "    \n",
    "#     _, accuracy = model.evaluate(X_test, y_test)\n",
    "    \n",
    "#     return accuracy\n",
    "\n",
    "# def run(run_dir, hparams):\n",
    "#     with tf.summary.create_file_writer(run_dir).as_default():\n",
    "#         hp.hparams(hparams)  # record the values used in this trial\n",
    "#         accuracy = train_test_model(hparams)\n",
    "#         tf.summary.scalar(METRIC_ACCURACY, accuracy, step=1)\n",
    "\n",
    "# session_num = 0\n",
    "\n",
    "# for num_units_l1 in HP_NUM_UNITS_L1.domain.values:\n",
    "#     for num_units_l2 in HP_NUM_UNITS_L2.domain.values:\n",
    "#         for dropout_rate in (HP_DROPOUT.domain.min_value, HP_DROPOUT.domain.max_value):\n",
    "#             for optimizer in HP_OPTIMIZER.domain.values:\n",
    "#               hparams = {\n",
    "#                   HP_NUM_UNITS_L1: num_units_l1,\n",
    "#                   HP_NUM_UNITS_L2: num_units_l2,\n",
    "#                   HP_DROPOUT: dropout_rate,\n",
    "#                   HP_OPTIMIZER: optimizer,\n",
    "#               }\n",
    "#               run_name = \"run-%d\" % session_num\n",
    "#               print('--- Starting trial: %s' % run_name)\n",
    "#               print({h.name: hparams[h] for h in hparams})\n",
    "#               run('logs\\\\hparam_tuning' + run_name, hparams)\n",
    "#               session_num += 1"
   ]
  },
  {
   "cell_type": "code",
   "execution_count": null,
   "metadata": {},
   "outputs": [],
   "source": []
  },
  {
   "cell_type": "code",
   "execution_count": null,
   "metadata": {},
   "outputs": [],
   "source": []
  },
  {
   "cell_type": "code",
   "execution_count": null,
   "metadata": {},
   "outputs": [],
   "source": []
  },
  {
   "cell_type": "code",
   "execution_count": 37,
   "metadata": {},
   "outputs": [
    {
     "data": {
      "text/plain": [
       "<matplotlib.axes._subplots.AxesSubplot at 0x19acee96408>"
      ]
     },
     "execution_count": 37,
     "metadata": {},
     "output_type": "execute_result"
    },
    {
     "data": {
      "image/png": "[encoded data removed]",
      "text/plain": [
       "<Figure size 432x288 with 1 Axes>"
      ]
     },
     "metadata": {
      "needs_background": "light"
     },
     "output_type": "display_data"
    }
   ],
   "source": [
    "losses = pd.DataFrame(model.history.history)\n",
    "losses[['loss','val_loss']].plot()"
   ]
  },
  {
   "cell_type": "code",
   "execution_count": null,
   "metadata": {},
   "outputs": [],
   "source": []
  },
  {
   "cell_type": "code",
   "execution_count": 38,
   "metadata": {},
   "outputs": [],
   "source": [
    "from sklearn.metrics import classification_report,confusion_matrix"
   ]
  },
  {
   "cell_type": "code",
   "execution_count": 39,
   "metadata": {},
   "outputs": [
    {
     "name": "stdout",
     "output_type": "stream",
     "text": [
      "              precision    recall  f1-score   support\n",
      "\n",
      "           0       1.00      0.74      0.85      8521\n",
      "           1       0.05      0.81      0.10       159\n",
      "\n",
      "    accuracy                           0.74      8680\n",
      "   macro avg       0.53      0.78      0.48      8680\n",
      "weighted avg       0.98      0.74      0.84      8680\n",
      "\n"
     ]
    }
   ],
   "source": [
    "\n",
    "predictions = model.predict_classes(X_test)\n",
    "print(classification_report(y_test,predictions))"
   ]
  },
  {
   "cell_type": "code",
   "execution_count": 40,
   "metadata": {},
   "outputs": [
    {
     "name": "stdout",
     "output_type": "stream",
     "text": [
      "True Negatives:  6304\n",
      "False Positives:  2217\n",
      "False Negatives:  30\n",
      "True Positives:  129\n",
      "Total Fraudulent Transactions:  159\n"
     ]
    },
    {
     "data": {
      "image/png": "[encoded data removed]",
      "text/plain": [
       "<Figure size 360x360 with 2 Axes>"
      ]
     },
     "metadata": {
      "needs_background": "light"
     },
     "output_type": "display_data"
    }
   ],
   "source": [
    "# part of this code is taken from https://www.tensorflow.org/tutorials/structured_data/imbalanced_data\n",
    "\n",
    "def plot_cm(labels, predictions, p=0.5):\n",
    "  cm = confusion_matrix(labels, predictions > p)\n",
    "  plt.figure(figsize=(5,5))\n",
    "  sns.heatmap(cm, annot=True, fmt=\"d\")\n",
    "  plt.title('Confusion matrix @{:.2f}'.format(p))\n",
    "#   plt.ylabel('Actual label')\n",
    "#   plt.xlabel('Predicted label')\n",
    "  plt.ylim(2, 0)\n",
    "  print('True Negatives: ', cm[0][0])\n",
    "  print('False Positives: ', cm[0][1])\n",
    "  print('False Negatives: ', cm[1][0])\n",
    "  print('True Positives: ', cm[1][1])\n",
    "  print('Total Fraudulent Transactions: ', np.sum(cm[1]))\n",
    "plot_cm(y_test,predictions)    "
   ]
  },
  {
   "cell_type": "code",
   "execution_count": 41,
   "metadata": {},
   "outputs": [
    {
     "data": {
      "text/plain": [
       "(array([0.        , 0.26018073, 1.        ]),\n",
       " array([0.        , 0.81132075, 1.        ]),\n",
       " array([2, 1, 0]))"
      ]
     },
     "execution_count": 41,
     "metadata": {},
     "output_type": "execute_result"
    }
   ],
   "source": [
    "roc_curve(y_test,predictions)"
   ]
  },
  {
   "cell_type": "code",
   "execution_count": 42,
   "metadata": {},
   "outputs": [
    {
     "data": {
      "text/plain": [
       "8680"
      ]
     },
     "execution_count": 42,
     "metadata": {},
     "output_type": "execute_result"
    }
   ],
   "source": [
    "len(predictions)"
   ]
  },
  {
   "cell_type": "code",
   "execution_count": 43,
   "metadata": {},
   "outputs": [
    {
     "data": {
      "text/plain": [
       "age                   75.00\n",
       "hypertension           1.00\n",
       "heart_disease          0.00\n",
       "avg_glucose_level    203.48\n",
       "bmi                   34.90\n",
       "never smoked           0.00\n",
       "smokes                 1.00\n",
       "Male                   0.00\n",
       "Never_worked           0.00\n",
       "Private                1.00\n",
       "Self-employed          0.00\n",
       "children               0.00\n",
       "Married                1.00\n",
       "Urban                  1.00\n",
       "Name: 36605, dtype: float64"
      ]
     },
     "execution_count": 43,
     "metadata": {},
     "output_type": "execute_result"
    }
   ],
   "source": [
    "row = 300\n",
    "patient = df.drop('stroke', axis = 1).iloc[row]\n",
    "patient"
   ]
  },
  {
   "cell_type": "code",
   "execution_count": 44,
   "metadata": {},
   "outputs": [
    {
     "ename": "ValueError",
     "evalue": "cannot reshape array of size 14 into shape (1,13)",
     "output_type": "error",
     "traceback": [
      "\u001b[1;31m---------------------------------------------------------------------------\u001b[0m",
      "\u001b[1;31mValueError\u001b[0m                                Traceback (most recent call last)",
      "\u001b[1;32m<ipython-input-44-ad81b7ea6dd2>\u001b[0m in \u001b[0;36m<module>\u001b[1;34m\u001b[0m\n\u001b[1;32m----> 1\u001b[1;33m \u001b[0mpatient\u001b[0m \u001b[1;33m=\u001b[0m \u001b[0mscaler\u001b[0m\u001b[1;33m.\u001b[0m\u001b[0mtransform\u001b[0m\u001b[1;33m(\u001b[0m\u001b[0mpatient\u001b[0m\u001b[1;33m.\u001b[0m\u001b[0mvalues\u001b[0m\u001b[1;33m.\u001b[0m\u001b[0mreshape\u001b[0m\u001b[1;33m(\u001b[0m\u001b[1;36m1\u001b[0m\u001b[1;33m,\u001b[0m\u001b[1;36m13\u001b[0m\u001b[1;33m)\u001b[0m\u001b[1;33m)\u001b[0m\u001b[1;33m\u001b[0m\u001b[1;33m\u001b[0m\u001b[0m\n\u001b[0m\u001b[0;32m      2\u001b[0m \u001b[0mpatient\u001b[0m\u001b[1;33m\u001b[0m\u001b[1;33m\u001b[0m\u001b[0m\n",
      "\u001b[1;31mValueError\u001b[0m: cannot reshape array of size 14 into shape (1,13)"
     ]
    }
   ],
   "source": [
    "patient = scaler.transform(patient.values.reshape(1,13))\n",
    "patient"
   ]
  },
  {
   "cell_type": "code",
   "execution_count": null,
   "metadata": {},
   "outputs": [],
   "source": [
    "model.predict_classes(patient)[0][0]"
   ]
  },
  {
   "cell_type": "code",
   "execution_count": null,
   "metadata": {},
   "outputs": [],
   "source": [
    "for row in range (0,10):\n",
    "    patient = df.drop('stroke', axis = 1).iloc[row]\n",
    "    patient = scaler.transform(patient.values.reshape(1,13))\n",
    "    prediction = (model.predict_classes(patient))[0][0]\n",
    "    print (\"Predicted:{} Actual:{}\".format(prediction,df.iloc[row]['stroke']))"
   ]
  },
  {
   "cell_type": "raw",
   "metadata": {},
   "source": [
    "\n",
    "\n"
   ]
  },
  {
   "cell_type": "code",
   "execution_count": null,
   "metadata": {},
   "outputs": [],
   "source": []
  }
 ],
 "metadata": {
  "kernelspec": {
   "display_name": "Python 3",
   "language": "python",
   "name": "python3"
  },
  "language_info": {
   "codemirror_mode": {
    "name": "ipython",
    "version": 3
   },
   "file_extension": ".py",
   "mimetype": "text/x-python",
   "name": "python",
   "nbconvert_exporter": "python",
   "pygments_lexer": "ipython3",
   "version": "3.7.4"
  }
 },
 "nbformat": 4,
 "nbformat_minor": 2
}
