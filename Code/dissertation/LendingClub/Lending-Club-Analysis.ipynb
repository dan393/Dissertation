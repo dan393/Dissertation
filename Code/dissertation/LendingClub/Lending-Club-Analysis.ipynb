{
 "cells": [
  {
   "cell_type": "code",
   "execution_count": 1,
   "metadata": {
    "pycharm": {
     "is_executing": true
    }
   },
   "outputs": [
    {
     "data": {
      "text/html": [
       "<style>.container { width:80% !important; }</style>"
      ],
      "text/plain": [
       "<IPython.core.display.HTML object>"
      ]
     },
     "metadata": {},
     "output_type": "display_data"
    }
   ],
   "source": [
    "import pandas as pd\n",
    "import numpy as np\n",
    "import matplotlib.pyplot as plt\n",
    "import seaborn as sns\n",
    "import tensorflow as tf\n",
    "import kr_helper_funcs as kr\n",
    "from sklearn.preprocessing import MinMaxScaler\n",
    "import kr_helper_funcs as kr\n",
    "import sklearn\n",
    "from sklearn.metrics import classification_report, confusion_matrix\n",
    "from lime import lime_tabular\n",
    "import shap\n",
    "import tensorflow_addons as tfa\n",
    "from IPython.core.display import display, HTML\n",
    "display(HTML(\"<style>.container { width:80% !important; }</style>\"))"
   ]
  },
  {
   "cell_type": "markdown",
   "metadata": {},
   "source": [
    "# New Model - this is trained using only continous values and the zip_code (the bias) is removed"
   ]
  },
  {
   "cell_type": "code",
   "execution_count": 2,
   "metadata": {
    "pycharm": {
     "is_executing": true
    }
   },
   "outputs": [],
   "source": [
    "name = 'without_postcode'\n",
    "fileName = \"{}/lending-club-values.csv\".format(name)\n",
    "\n",
    "radam = tfa.optimizers.RectifiedAdam()\n",
    "ranger = tfa.optimizers.Lookahead(radam, sync_period=6, slow_step_size=0.5)\n",
    "model = tf.keras.models.load_model('{}/lending-club.h5'.format(name), custom_objects={\"f1\": kr.f1, \"optimizer\": ranger})\n",
    "X_train_unscaled = np.load(\"{}/X_train_unscaled.npy\".format(name))\n",
    "X_test_unscaled = np.load(\"{}/X_test_unscaled.npy\".format(name))\n",
    "y_train = np.load(\"{}/y_test.npy\".format(name))\n",
    "y_test = np.load(\"{}/y_test.npy\".format(name))\n",
    "df = pd.read_csv('{}/lending-club-df.csv'.format(name))\n",
    "scaler = MinMaxScaler()\n",
    "X_train = scaler.fit_transform(X_train_unscaled)\n",
    "X_test = scaler.transform(X_test_unscaled)\n",
    "\n",
    "prev_scaled_row = None\n",
    "cached_map_values = None\n",
    "scaler = MinMaxScaler()\n",
    "X_train = scaler.fit_transform(X_train_unscaled)\n",
    "X_test = scaler.transform(X_test_unscaled)\n",
    "\n",
    "res = pd.read_csv(fileName)"
   ]
  },
  {
   "cell_type": "code",
   "execution_count": 3,
   "metadata": {
    "pycharm": {
     "is_executing": true
    }
   },
   "outputs": [],
   "source": [
    "## Data \n",
    "# original_probability - the probability of the row before any column is changed\n",
    "# new_probability - the new probability after features in the row have been replaced depending on the neutralizing strategy\n",
    "# confidence_diff - difference (original_probability -new_probability) \n",
    "# original_class - the class predicted by the model using the original row\n",
    "# class_change - if the new row is labelled as a different class\n",
    "# no_features - represents the number of features changed inside the row (from 0 to 10 incl)\n",
    "# nsamples - the number of samples the explainer can use to generate an explanation (here we only use auto)\n",
    "# explainer - which explainer has been used? shap, lime, eli5, or random?\n",
    "# time - time taken for the explainer\n",
    "# feature_rankings - in a list with many rankings we can replace the first ones (most important), middle, or last ones (lest important)\n",
    "# strategy - mean:neutralize the points using the mean average of the training set; \n",
    "#            distribution - use 20 randomly selected values equally from both classes to replace this feature, then generate a prediction for each and average the prediction\n",
    "#            distribution_others: neuttralise all other features except the points that are important\n",
    "#i columns represnet the feaure that has been neutralised "
   ]
  },
  {
   "cell_type": "code",
   "execution_count": 4,
   "metadata": {
    "pycharm": {
     "is_executing": true
    }
   },
   "outputs": [
    {
     "data": {
      "text/html": [
       "<div>\n",
       "<style scoped>\n",
       "    .dataframe tbody tr th:only-of-type {\n",
       "        vertical-align: middle;\n",
       "    }\n",
       "\n",
       "    .dataframe tbody tr th {\n",
       "        vertical-align: top;\n",
       "    }\n",
       "\n",
       "    .dataframe thead th {\n",
       "        text-align: right;\n",
       "    }\n",
       "</style>\n",
       "<table border=\"1\" class=\"dataframe\">\n",
       "  <thead>\n",
       "    <tr style=\"text-align: right;\">\n",
       "      <th></th>\n",
       "      <th>original_probability</th>\n",
       "      <th>new_probability</th>\n",
       "      <th>confidence_diff</th>\n",
       "      <th>original_class</th>\n",
       "      <th>class_change</th>\n",
       "      <th>no_features</th>\n",
       "      <th>nsamples</th>\n",
       "      <th>explainer</th>\n",
       "      <th>time</th>\n",
       "      <th>feature_rankings</th>\n",
       "      <th>strategy</th>\n",
       "      <th>i0</th>\n",
       "      <th>i1</th>\n",
       "      <th>i2</th>\n",
       "      <th>i3</th>\n",
       "      <th>i4</th>\n",
       "      <th>i5</th>\n",
       "      <th>i6</th>\n",
       "      <th>i7</th>\n",
       "      <th>i8</th>\n",
       "      <th>i9</th>\n",
       "      <th>i10</th>\n",
       "    </tr>\n",
       "  </thead>\n",
       "  <tbody>\n",
       "    <tr>\n",
       "      <th>0</th>\n",
       "      <td>0.771427</td>\n",
       "      <td>0.771427</td>\n",
       "      <td>0.000000</td>\n",
       "      <td>1</td>\n",
       "      <td>False</td>\n",
       "      <td>0</td>\n",
       "      <td>auto</td>\n",
       "      <td>shap</td>\n",
       "      <td>63.862481</td>\n",
       "      <td>first</td>\n",
       "      <td>mean</td>\n",
       "      <td>NaN</td>\n",
       "      <td>NaN</td>\n",
       "      <td>NaN</td>\n",
       "      <td>NaN</td>\n",
       "      <td>NaN</td>\n",
       "      <td>NaN</td>\n",
       "      <td>NaN</td>\n",
       "      <td>NaN</td>\n",
       "      <td>NaN</td>\n",
       "      <td>NaN</td>\n",
       "      <td>NaN</td>\n",
       "    </tr>\n",
       "    <tr>\n",
       "      <th>1</th>\n",
       "      <td>0.771427</td>\n",
       "      <td>0.771427</td>\n",
       "      <td>0.000000</td>\n",
       "      <td>1</td>\n",
       "      <td>False</td>\n",
       "      <td>0</td>\n",
       "      <td>auto</td>\n",
       "      <td>shap</td>\n",
       "      <td>1.863258</td>\n",
       "      <td>first</td>\n",
       "      <td>distribution</td>\n",
       "      <td>NaN</td>\n",
       "      <td>NaN</td>\n",
       "      <td>NaN</td>\n",
       "      <td>NaN</td>\n",
       "      <td>NaN</td>\n",
       "      <td>NaN</td>\n",
       "      <td>NaN</td>\n",
       "      <td>NaN</td>\n",
       "      <td>NaN</td>\n",
       "      <td>NaN</td>\n",
       "      <td>NaN</td>\n",
       "    </tr>\n",
       "    <tr>\n",
       "      <th>2</th>\n",
       "      <td>0.771427</td>\n",
       "      <td>0.625639</td>\n",
       "      <td>0.145788</td>\n",
       "      <td>1</td>\n",
       "      <td>False</td>\n",
       "      <td>0</td>\n",
       "      <td>auto</td>\n",
       "      <td>shap</td>\n",
       "      <td>1.889663</td>\n",
       "      <td>first</td>\n",
       "      <td>distribution_others</td>\n",
       "      <td>NaN</td>\n",
       "      <td>NaN</td>\n",
       "      <td>NaN</td>\n",
       "      <td>NaN</td>\n",
       "      <td>NaN</td>\n",
       "      <td>NaN</td>\n",
       "      <td>NaN</td>\n",
       "      <td>NaN</td>\n",
       "      <td>NaN</td>\n",
       "      <td>NaN</td>\n",
       "      <td>NaN</td>\n",
       "    </tr>\n",
       "    <tr>\n",
       "      <th>3</th>\n",
       "      <td>0.771427</td>\n",
       "      <td>0.771427</td>\n",
       "      <td>0.000000</td>\n",
       "      <td>1</td>\n",
       "      <td>False</td>\n",
       "      <td>0</td>\n",
       "      <td>auto</td>\n",
       "      <td>shap</td>\n",
       "      <td>0.265599</td>\n",
       "      <td>middle</td>\n",
       "      <td>mean</td>\n",
       "      <td>NaN</td>\n",
       "      <td>NaN</td>\n",
       "      <td>NaN</td>\n",
       "      <td>NaN</td>\n",
       "      <td>NaN</td>\n",
       "      <td>NaN</td>\n",
       "      <td>NaN</td>\n",
       "      <td>NaN</td>\n",
       "      <td>NaN</td>\n",
       "      <td>NaN</td>\n",
       "      <td>NaN</td>\n",
       "    </tr>\n",
       "    <tr>\n",
       "      <th>4</th>\n",
       "      <td>0.771427</td>\n",
       "      <td>0.771427</td>\n",
       "      <td>0.000000</td>\n",
       "      <td>1</td>\n",
       "      <td>False</td>\n",
       "      <td>0</td>\n",
       "      <td>auto</td>\n",
       "      <td>shap</td>\n",
       "      <td>1.840083</td>\n",
       "      <td>middle</td>\n",
       "      <td>distribution</td>\n",
       "      <td>NaN</td>\n",
       "      <td>NaN</td>\n",
       "      <td>NaN</td>\n",
       "      <td>NaN</td>\n",
       "      <td>NaN</td>\n",
       "      <td>NaN</td>\n",
       "      <td>NaN</td>\n",
       "      <td>NaN</td>\n",
       "      <td>NaN</td>\n",
       "      <td>NaN</td>\n",
       "      <td>NaN</td>\n",
       "    </tr>\n",
       "    <tr>\n",
       "      <th>...</th>\n",
       "      <td>...</td>\n",
       "      <td>...</td>\n",
       "      <td>...</td>\n",
       "      <td>...</td>\n",
       "      <td>...</td>\n",
       "      <td>...</td>\n",
       "      <td>...</td>\n",
       "      <td>...</td>\n",
       "      <td>...</td>\n",
       "      <td>...</td>\n",
       "      <td>...</td>\n",
       "      <td>...</td>\n",
       "      <td>...</td>\n",
       "      <td>...</td>\n",
       "      <td>...</td>\n",
       "      <td>...</td>\n",
       "      <td>...</td>\n",
       "      <td>...</td>\n",
       "      <td>...</td>\n",
       "      <td>...</td>\n",
       "      <td>...</td>\n",
       "      <td>...</td>\n",
       "    </tr>\n",
       "    <tr>\n",
       "      <th>79195</th>\n",
       "      <td>0.334269</td>\n",
       "      <td>0.449260</td>\n",
       "      <td>0.114992</td>\n",
       "      <td>0</td>\n",
       "      <td>False</td>\n",
       "      <td>10</td>\n",
       "      <td>auto</td>\n",
       "      <td>eli5</td>\n",
       "      <td>1.353525</td>\n",
       "      <td>middle</td>\n",
       "      <td>distribution</td>\n",
       "      <td>13.0</td>\n",
       "      <td>17.0</td>\n",
       "      <td>15.0</td>\n",
       "      <td>20.0</td>\n",
       "      <td>19.0</td>\n",
       "      <td>10.0</td>\n",
       "      <td>7.0</td>\n",
       "      <td>5.0</td>\n",
       "      <td>12.0</td>\n",
       "      <td>24.0</td>\n",
       "      <td>NaN</td>\n",
       "    </tr>\n",
       "    <tr>\n",
       "      <th>79196</th>\n",
       "      <td>0.334269</td>\n",
       "      <td>0.676450</td>\n",
       "      <td>0.342181</td>\n",
       "      <td>0</td>\n",
       "      <td>True</td>\n",
       "      <td>10</td>\n",
       "      <td>auto</td>\n",
       "      <td>eli5</td>\n",
       "      <td>1.401582</td>\n",
       "      <td>middle</td>\n",
       "      <td>distribution_others</td>\n",
       "      <td>13.0</td>\n",
       "      <td>17.0</td>\n",
       "      <td>15.0</td>\n",
       "      <td>20.0</td>\n",
       "      <td>19.0</td>\n",
       "      <td>10.0</td>\n",
       "      <td>7.0</td>\n",
       "      <td>5.0</td>\n",
       "      <td>12.0</td>\n",
       "      <td>24.0</td>\n",
       "      <td>NaN</td>\n",
       "    </tr>\n",
       "    <tr>\n",
       "      <th>79197</th>\n",
       "      <td>0.334269</td>\n",
       "      <td>0.346747</td>\n",
       "      <td>0.012479</td>\n",
       "      <td>0</td>\n",
       "      <td>False</td>\n",
       "      <td>10</td>\n",
       "      <td>auto</td>\n",
       "      <td>eli5</td>\n",
       "      <td>0.187468</td>\n",
       "      <td>last</td>\n",
       "      <td>mean</td>\n",
       "      <td>5.0</td>\n",
       "      <td>12.0</td>\n",
       "      <td>24.0</td>\n",
       "      <td>31.0</td>\n",
       "      <td>0.0</td>\n",
       "      <td>18.0</td>\n",
       "      <td>11.0</td>\n",
       "      <td>32.0</td>\n",
       "      <td>26.0</td>\n",
       "      <td>28.0</td>\n",
       "      <td>NaN</td>\n",
       "    </tr>\n",
       "    <tr>\n",
       "      <th>79198</th>\n",
       "      <td>0.334269</td>\n",
       "      <td>0.348145</td>\n",
       "      <td>0.013876</td>\n",
       "      <td>0</td>\n",
       "      <td>False</td>\n",
       "      <td>10</td>\n",
       "      <td>auto</td>\n",
       "      <td>eli5</td>\n",
       "      <td>1.268187</td>\n",
       "      <td>last</td>\n",
       "      <td>distribution</td>\n",
       "      <td>5.0</td>\n",
       "      <td>12.0</td>\n",
       "      <td>24.0</td>\n",
       "      <td>31.0</td>\n",
       "      <td>0.0</td>\n",
       "      <td>18.0</td>\n",
       "      <td>11.0</td>\n",
       "      <td>32.0</td>\n",
       "      <td>26.0</td>\n",
       "      <td>28.0</td>\n",
       "      <td>NaN</td>\n",
       "    </tr>\n",
       "    <tr>\n",
       "      <th>79199</th>\n",
       "      <td>0.334269</td>\n",
       "      <td>0.660183</td>\n",
       "      <td>0.325915</td>\n",
       "      <td>0</td>\n",
       "      <td>True</td>\n",
       "      <td>10</td>\n",
       "      <td>auto</td>\n",
       "      <td>eli5</td>\n",
       "      <td>1.543253</td>\n",
       "      <td>last</td>\n",
       "      <td>distribution_others</td>\n",
       "      <td>5.0</td>\n",
       "      <td>12.0</td>\n",
       "      <td>24.0</td>\n",
       "      <td>31.0</td>\n",
       "      <td>0.0</td>\n",
       "      <td>18.0</td>\n",
       "      <td>11.0</td>\n",
       "      <td>32.0</td>\n",
       "      <td>26.0</td>\n",
       "      <td>28.0</td>\n",
       "      <td>NaN</td>\n",
       "    </tr>\n",
       "  </tbody>\n",
       "</table>\n",
       "<p>79200 rows × 22 columns</p>\n",
       "</div>"
      ],
      "text/plain": [
       "       original_probability  new_probability  confidence_diff  original_class  \\\n",
       "0                  0.771427         0.771427         0.000000               1   \n",
       "1                  0.771427         0.771427         0.000000               1   \n",
       "2                  0.771427         0.625639         0.145788               1   \n",
       "3                  0.771427         0.771427         0.000000               1   \n",
       "4                  0.771427         0.771427         0.000000               1   \n",
       "...                     ...              ...              ...             ...   \n",
       "79195              0.334269         0.449260         0.114992               0   \n",
       "79196              0.334269         0.676450         0.342181               0   \n",
       "79197              0.334269         0.346747         0.012479               0   \n",
       "79198              0.334269         0.348145         0.013876               0   \n",
       "79199              0.334269         0.660183         0.325915               0   \n",
       "\n",
       "       class_change  no_features nsamples explainer       time  \\\n",
       "0             False            0     auto      shap  63.862481   \n",
       "1             False            0     auto      shap   1.863258   \n",
       "2             False            0     auto      shap   1.889663   \n",
       "3             False            0     auto      shap   0.265599   \n",
       "4             False            0     auto      shap   1.840083   \n",
       "...             ...          ...      ...       ...        ...   \n",
       "79195         False           10     auto      eli5   1.353525   \n",
       "79196          True           10     auto      eli5   1.401582   \n",
       "79197         False           10     auto      eli5   0.187468   \n",
       "79198         False           10     auto      eli5   1.268187   \n",
       "79199          True           10     auto      eli5   1.543253   \n",
       "\n",
       "      feature_rankings             strategy    i0    i1    i2    i3    i4  \\\n",
       "0                first                 mean   NaN   NaN   NaN   NaN   NaN   \n",
       "1                first         distribution   NaN   NaN   NaN   NaN   NaN   \n",
       "2                first  distribution_others   NaN   NaN   NaN   NaN   NaN   \n",
       "3               middle                 mean   NaN   NaN   NaN   NaN   NaN   \n",
       "4               middle         distribution   NaN   NaN   NaN   NaN   NaN   \n",
       "...                ...                  ...   ...   ...   ...   ...   ...   \n",
       "79195           middle         distribution  13.0  17.0  15.0  20.0  19.0   \n",
       "79196           middle  distribution_others  13.0  17.0  15.0  20.0  19.0   \n",
       "79197             last                 mean   5.0  12.0  24.0  31.0   0.0   \n",
       "79198             last         distribution   5.0  12.0  24.0  31.0   0.0   \n",
       "79199             last  distribution_others   5.0  12.0  24.0  31.0   0.0   \n",
       "\n",
       "         i5    i6    i7    i8    i9  i10  \n",
       "0       NaN   NaN   NaN   NaN   NaN  NaN  \n",
       "1       NaN   NaN   NaN   NaN   NaN  NaN  \n",
       "2       NaN   NaN   NaN   NaN   NaN  NaN  \n",
       "3       NaN   NaN   NaN   NaN   NaN  NaN  \n",
       "4       NaN   NaN   NaN   NaN   NaN  NaN  \n",
       "...     ...   ...   ...   ...   ...  ...  \n",
       "79195  10.0   7.0   5.0  12.0  24.0  NaN  \n",
       "79196  10.0   7.0   5.0  12.0  24.0  NaN  \n",
       "79197  18.0  11.0  32.0  26.0  28.0  NaN  \n",
       "79198  18.0  11.0  32.0  26.0  28.0  NaN  \n",
       "79199  18.0  11.0  32.0  26.0  28.0  NaN  \n",
       "\n",
       "[79200 rows x 22 columns]"
      ]
     },
     "execution_count": 4,
     "metadata": {},
     "output_type": "execute_result"
    }
   ],
   "source": [
    "pd.options.display.max_columns = None\n",
    "res"
   ]
  },
  {
   "cell_type": "code",
   "execution_count": null,
   "metadata": {
    "pycharm": {
     "is_executing": true
    }
   },
   "outputs": [],
   "source": []
  },
  {
   "cell_type": "code",
   "execution_count": 5,
   "metadata": {
    "pycharm": {
     "is_executing": true
    }
   },
   "outputs": [
    {
     "data": {
      "text/plain": [
       "Index(['loan_amnt', 'term', 'int_rate', 'installment', 'sub_grade',\n",
       "       'emp_length', 'home_ownership', 'annual_inc', 'verification_status',\n",
       "       'dti', 'open_acc', 'pub_rec', 'revol_bal', 'revol_util', 'total_acc',\n",
       "       'initial_list_status', 'application_type', 'mort_acc',\n",
       "       'pub_rec_bankruptcies', 'loan_repaid', 'purpose_credit_card',\n",
       "       'purpose_debt_consolidation', 'purpose_educational',\n",
       "       'purpose_home_improvement', 'purpose_house', 'purpose_major_purchase',\n",
       "       'purpose_medical', 'purpose_moving', 'purpose_other',\n",
       "       'purpose_renewable_energy', 'purpose_small_business',\n",
       "       'purpose_vacation', 'purpose_wedding', 'earliest_cr_year'],\n",
       "      dtype='object')"
      ]
     },
     "execution_count": 5,
     "metadata": {},
     "output_type": "execute_result"
    }
   ],
   "source": [
    "df.columns"
   ]
  },
  {
   "cell_type": "code",
   "execution_count": 6,
   "metadata": {
    "pycharm": {
     "is_executing": true
    }
   },
   "outputs": [
    {
     "data": {
      "text/plain": [
       "loan_amnt                     1.000000\n",
       "installment                   0.953213\n",
       "term                          0.391817\n",
       "annual_inc                    0.330614\n",
       "revol_bal                     0.326887\n",
       "verification_status           0.318876\n",
       "mort_acc                      0.225478\n",
       "total_acc                     0.221688\n",
       "open_acc                      0.192518\n",
       "sub_grade                     0.187804\n",
       "home_ownership                0.176265\n",
       "int_rate                      0.174386\n",
       "purpose_debt_consolidation    0.108574\n",
       "emp_length                    0.100202\n",
       "revol_util                    0.097433\n",
       "dti                           0.042188\n",
       "application_type              0.023764\n",
       "purpose_credit_card           0.022690\n",
       "purpose_small_business        0.017957\n",
       "purpose_house                 0.011926\n",
       "purpose_home_improvement      0.001194\n",
       "purpose_renewable_energy     -0.016777\n",
       "purpose_educational          -0.022131\n",
       "purpose_wedding              -0.032901\n",
       "purpose_major_purchase       -0.057894\n",
       "purpose_medical              -0.062915\n",
       "purpose_moving               -0.063621\n",
       "loan_repaid                  -0.065767\n",
       "pub_rec                      -0.072413\n",
       "purpose_vacation             -0.074426\n",
       "initial_list_status          -0.078027\n",
       "pub_rec_bankruptcies         -0.100255\n",
       "purpose_other                -0.126213\n",
       "earliest_cr_year             -0.162025\n",
       "Name: loan_amnt, dtype: float64"
      ]
     },
     "execution_count": 6,
     "metadata": {},
     "output_type": "execute_result"
    }
   ],
   "source": [
    "df.corr()[\"loan_amnt\"].sort_values(ascending=False)"
   ]
  },
  {
   "cell_type": "code",
   "execution_count": 7,
   "metadata": {
    "pycharm": {
     "is_executing": true
    }
   },
   "outputs": [
    {
     "name": "stdout",
     "output_type": "stream",
     "text": [
      "[1, 2, 3, 4, 5, 6, 7, 8, 9, 10, 11, 12, 13, 14, 15, 16, 17, 18, 19]\n",
      "[0.6460802555084229, 0.6305155158042908, 0.6274781823158264, 0.6258445382118225, 0.6246732473373413, 0.6237831115722656, 0.6234939694404602, 0.6223732233047485, 0.6225500106811523, 0.6219271421432495, 0.6216260194778442, 0.6209747195243835, 0.6203930974006653, 0.6202287673950195, 0.6191228032112122, 0.6195740699768066, 0.6192406415939331, 0.6185083389282227, 0.6183699369430542]\n"
     ]
    },
    {
     "data": {
      "image/png": "[encoded data removed]",
      "text/plain": [
       "<Figure size 1152x288 with 2 Axes>"
      ]
     },
     "metadata": {
      "needs_background": "light"
     },
     "output_type": "display_data"
    }
   ],
   "source": [
    "history = pd.read_csv('{}/lending-club-history.csv'.format(name))\n",
    "history_dict = history.to_dict('list')\n",
    "kr.show_plots(history_dict)"
   ]
  },
  {
   "cell_type": "code",
   "execution_count": 8,
   "metadata": {
    "pycharm": {
     "is_executing": true
    }
   },
   "outputs": [
    {
     "name": "stdout",
     "output_type": "stream",
     "text": [
      "WARNING:tensorflow:From <ipython-input-8-ae51c325af4f>:1: Sequential.predict_classes (from tensorflow.python.keras.engine.sequential) is deprecated and will be removed after 2021-01-01.\n",
      "Instructions for updating:\n",
      "Please use instead:* `np.argmax(model.predict(x), axis=-1)`,   if your model does multi-class classification   (e.g. if it uses a `softmax` last-layer activation).* `(model.predict(x) > 0.5).astype(\"int32\")`,   if your model does binary classification   (e.g. if it uses a `sigmoid` last-layer activation).\n"
     ]
    },
    {
     "ename": "InternalError",
     "evalue": " Blas GEMM launch failed : a.shape=(32, 33), b.shape=(33, 512), m=32, n=512, k=33\n\t [[node sequential/dense/MatMul (defined at <ipython-input-8-ae51c325af4f>:1) ]] [Op:__inference_predict_function_797]\n\nFunction call stack:\npredict_function\n",
     "output_type": "error",
     "traceback": [
      "\u001b[1;31m---------------------------------------------------------------------------\u001b[0m",
      "\u001b[1;31mInternalError\u001b[0m                             Traceback (most recent call last)",
      "\u001b[1;32m<ipython-input-8-ae51c325af4f>\u001b[0m in \u001b[0;36m<module>\u001b[1;34m\u001b[0m\n\u001b[1;32m----> 1\u001b[1;33m \u001b[0mpredictions\u001b[0m \u001b[1;33m=\u001b[0m \u001b[0mmodel\u001b[0m\u001b[1;33m.\u001b[0m\u001b[0mpredict_classes\u001b[0m\u001b[1;33m(\u001b[0m\u001b[0mX_test\u001b[0m\u001b[1;33m)\u001b[0m\u001b[1;33m\u001b[0m\u001b[1;33m\u001b[0m\u001b[0m\n\u001b[0m\u001b[0;32m      2\u001b[0m \u001b[0mprint\u001b[0m\u001b[1;33m(\u001b[0m\u001b[0mclassification_report\u001b[0m\u001b[1;33m(\u001b[0m\u001b[0my_test\u001b[0m\u001b[1;33m,\u001b[0m \u001b[0mpredictions\u001b[0m\u001b[1;33m)\u001b[0m\u001b[1;33m)\u001b[0m\u001b[1;33m\u001b[0m\u001b[1;33m\u001b[0m\u001b[0m\n",
      "\u001b[1;32mc:\\users\\dan39\\onedrive\\desktop\\dissertation\\python3.8\\lib\\site-packages\\tensorflow\\python\\util\\deprecation.py\u001b[0m in \u001b[0;36mnew_func\u001b[1;34m(*args, **kwargs)\u001b[0m\n\u001b[0;32m    322\u001b[0m               \u001b[1;34m'in a future version'\u001b[0m \u001b[1;32mif\u001b[0m \u001b[0mdate\u001b[0m \u001b[1;32mis\u001b[0m \u001b[1;32mNone\u001b[0m \u001b[1;32melse\u001b[0m \u001b[1;33m(\u001b[0m\u001b[1;34m'after %s'\u001b[0m \u001b[1;33m%\u001b[0m \u001b[0mdate\u001b[0m\u001b[1;33m)\u001b[0m\u001b[1;33m,\u001b[0m\u001b[1;33m\u001b[0m\u001b[1;33m\u001b[0m\u001b[0m\n\u001b[0;32m    323\u001b[0m               instructions)\n\u001b[1;32m--> 324\u001b[1;33m       \u001b[1;32mreturn\u001b[0m \u001b[0mfunc\u001b[0m\u001b[1;33m(\u001b[0m\u001b[1;33m*\u001b[0m\u001b[0margs\u001b[0m\u001b[1;33m,\u001b[0m \u001b[1;33m**\u001b[0m\u001b[0mkwargs\u001b[0m\u001b[1;33m)\u001b[0m\u001b[1;33m\u001b[0m\u001b[1;33m\u001b[0m\u001b[0m\n\u001b[0m\u001b[0;32m    325\u001b[0m     return tf_decorator.make_decorator(\n\u001b[0;32m    326\u001b[0m         \u001b[0mfunc\u001b[0m\u001b[1;33m,\u001b[0m \u001b[0mnew_func\u001b[0m\u001b[1;33m,\u001b[0m \u001b[1;34m'deprecated'\u001b[0m\u001b[1;33m,\u001b[0m\u001b[1;33m\u001b[0m\u001b[1;33m\u001b[0m\u001b[0m\n",
      "\u001b[1;32mc:\\users\\dan39\\onedrive\\desktop\\dissertation\\python3.8\\lib\\site-packages\\tensorflow\\python\\keras\\engine\\sequential.py\u001b[0m in \u001b[0;36mpredict_classes\u001b[1;34m(self, x, batch_size, verbose)\u001b[0m\n\u001b[0;32m    357\u001b[0m         \u001b[0mA\u001b[0m \u001b[0mnumpy\u001b[0m \u001b[0marray\u001b[0m \u001b[0mof\u001b[0m \u001b[1;32mclass\u001b[0m \u001b[0mpredictions\u001b[0m\u001b[1;33m.\u001b[0m\u001b[1;33m\u001b[0m\u001b[1;33m\u001b[0m\u001b[0m\n\u001b[0;32m    358\u001b[0m     \"\"\"\n\u001b[1;32m--> 359\u001b[1;33m     \u001b[0mproba\u001b[0m \u001b[1;33m=\u001b[0m \u001b[0mself\u001b[0m\u001b[1;33m.\u001b[0m\u001b[0mpredict\u001b[0m\u001b[1;33m(\u001b[0m\u001b[0mx\u001b[0m\u001b[1;33m,\u001b[0m \u001b[0mbatch_size\u001b[0m\u001b[1;33m=\u001b[0m\u001b[0mbatch_size\u001b[0m\u001b[1;33m,\u001b[0m \u001b[0mverbose\u001b[0m\u001b[1;33m=\u001b[0m\u001b[0mverbose\u001b[0m\u001b[1;33m)\u001b[0m\u001b[1;33m\u001b[0m\u001b[1;33m\u001b[0m\u001b[0m\n\u001b[0m\u001b[0;32m    360\u001b[0m     \u001b[1;32mif\u001b[0m \u001b[0mproba\u001b[0m\u001b[1;33m.\u001b[0m\u001b[0mshape\u001b[0m\u001b[1;33m[\u001b[0m\u001b[1;33m-\u001b[0m\u001b[1;36m1\u001b[0m\u001b[1;33m]\u001b[0m \u001b[1;33m>\u001b[0m \u001b[1;36m1\u001b[0m\u001b[1;33m:\u001b[0m\u001b[1;33m\u001b[0m\u001b[1;33m\u001b[0m\u001b[0m\n\u001b[0;32m    361\u001b[0m       \u001b[1;32mreturn\u001b[0m \u001b[0mproba\u001b[0m\u001b[1;33m.\u001b[0m\u001b[0margmax\u001b[0m\u001b[1;33m(\u001b[0m\u001b[0maxis\u001b[0m\u001b[1;33m=\u001b[0m\u001b[1;33m-\u001b[0m\u001b[1;36m1\u001b[0m\u001b[1;33m)\u001b[0m\u001b[1;33m\u001b[0m\u001b[1;33m\u001b[0m\u001b[0m\n",
      "\u001b[1;32mc:\\users\\dan39\\onedrive\\desktop\\dissertation\\python3.8\\lib\\site-packages\\tensorflow\\python\\keras\\engine\\training.py\u001b[0m in \u001b[0;36m_method_wrapper\u001b[1;34m(self, *args, **kwargs)\u001b[0m\n\u001b[0;32m     86\u001b[0m       raise ValueError('{} is not supported in multi-worker mode.'.format(\n\u001b[0;32m     87\u001b[0m           method.__name__))\n\u001b[1;32m---> 88\u001b[1;33m     \u001b[1;32mreturn\u001b[0m \u001b[0mmethod\u001b[0m\u001b[1;33m(\u001b[0m\u001b[0mself\u001b[0m\u001b[1;33m,\u001b[0m \u001b[1;33m*\u001b[0m\u001b[0margs\u001b[0m\u001b[1;33m,\u001b[0m \u001b[1;33m**\u001b[0m\u001b[0mkwargs\u001b[0m\u001b[1;33m)\u001b[0m\u001b[1;33m\u001b[0m\u001b[1;33m\u001b[0m\u001b[0m\n\u001b[0m\u001b[0;32m     89\u001b[0m \u001b[1;33m\u001b[0m\u001b[0m\n\u001b[0;32m     90\u001b[0m   return tf_decorator.make_decorator(\n",
      "\u001b[1;32mc:\\users\\dan39\\onedrive\\desktop\\dissertation\\python3.8\\lib\\site-packages\\tensorflow\\python\\keras\\engine\\training.py\u001b[0m in \u001b[0;36mpredict\u001b[1;34m(self, x, batch_size, verbose, steps, callbacks, max_queue_size, workers, use_multiprocessing)\u001b[0m\n\u001b[0;32m   1266\u001b[0m           \u001b[1;32mfor\u001b[0m \u001b[0mstep\u001b[0m \u001b[1;32min\u001b[0m \u001b[0mdata_handler\u001b[0m\u001b[1;33m.\u001b[0m\u001b[0msteps\u001b[0m\u001b[1;33m(\u001b[0m\u001b[1;33m)\u001b[0m\u001b[1;33m:\u001b[0m\u001b[1;33m\u001b[0m\u001b[1;33m\u001b[0m\u001b[0m\n\u001b[0;32m   1267\u001b[0m             \u001b[0mcallbacks\u001b[0m\u001b[1;33m.\u001b[0m\u001b[0mon_predict_batch_begin\u001b[0m\u001b[1;33m(\u001b[0m\u001b[0mstep\u001b[0m\u001b[1;33m)\u001b[0m\u001b[1;33m\u001b[0m\u001b[1;33m\u001b[0m\u001b[0m\n\u001b[1;32m-> 1268\u001b[1;33m             \u001b[0mtmp_batch_outputs\u001b[0m \u001b[1;33m=\u001b[0m \u001b[0mpredict_function\u001b[0m\u001b[1;33m(\u001b[0m\u001b[0miterator\u001b[0m\u001b[1;33m)\u001b[0m\u001b[1;33m\u001b[0m\u001b[1;33m\u001b[0m\u001b[0m\n\u001b[0m\u001b[0;32m   1269\u001b[0m             \u001b[1;31m# Catch OutOfRangeError for Datasets of unknown size.\u001b[0m\u001b[1;33m\u001b[0m\u001b[1;33m\u001b[0m\u001b[1;33m\u001b[0m\u001b[0m\n\u001b[0;32m   1270\u001b[0m             \u001b[1;31m# This blocks until the batch has finished executing.\u001b[0m\u001b[1;33m\u001b[0m\u001b[1;33m\u001b[0m\u001b[1;33m\u001b[0m\u001b[0m\n",
      "\u001b[1;32mc:\\users\\dan39\\onedrive\\desktop\\dissertation\\python3.8\\lib\\site-packages\\tensorflow\\python\\eager\\def_function.py\u001b[0m in \u001b[0;36m__call__\u001b[1;34m(self, *args, **kwds)\u001b[0m\n\u001b[0;32m    578\u001b[0m         \u001b[0mxla_context\u001b[0m\u001b[1;33m.\u001b[0m\u001b[0mExit\u001b[0m\u001b[1;33m(\u001b[0m\u001b[1;33m)\u001b[0m\u001b[1;33m\u001b[0m\u001b[1;33m\u001b[0m\u001b[0m\n\u001b[0;32m    579\u001b[0m     \u001b[1;32melse\u001b[0m\u001b[1;33m:\u001b[0m\u001b[1;33m\u001b[0m\u001b[1;33m\u001b[0m\u001b[0m\n\u001b[1;32m--> 580\u001b[1;33m       \u001b[0mresult\u001b[0m \u001b[1;33m=\u001b[0m \u001b[0mself\u001b[0m\u001b[1;33m.\u001b[0m\u001b[0m_call\u001b[0m\u001b[1;33m(\u001b[0m\u001b[1;33m*\u001b[0m\u001b[0margs\u001b[0m\u001b[1;33m,\u001b[0m \u001b[1;33m**\u001b[0m\u001b[0mkwds\u001b[0m\u001b[1;33m)\u001b[0m\u001b[1;33m\u001b[0m\u001b[1;33m\u001b[0m\u001b[0m\n\u001b[0m\u001b[0;32m    581\u001b[0m \u001b[1;33m\u001b[0m\u001b[0m\n\u001b[0;32m    582\u001b[0m     \u001b[1;32mif\u001b[0m \u001b[0mtracing_count\u001b[0m \u001b[1;33m==\u001b[0m \u001b[0mself\u001b[0m\u001b[1;33m.\u001b[0m\u001b[0m_get_tracing_count\u001b[0m\u001b[1;33m(\u001b[0m\u001b[1;33m)\u001b[0m\u001b[1;33m:\u001b[0m\u001b[1;33m\u001b[0m\u001b[1;33m\u001b[0m\u001b[0m\n",
      "\u001b[1;32mc:\\users\\dan39\\onedrive\\desktop\\dissertation\\python3.8\\lib\\site-packages\\tensorflow\\python\\eager\\def_function.py\u001b[0m in \u001b[0;36m_call\u001b[1;34m(self, *args, **kwds)\u001b[0m\n\u001b[0;32m    648\u001b[0m               *args, **kwds)\n\u001b[0;32m    649\u001b[0m       \u001b[1;31m# If we did not create any variables the trace we have is good enough.\u001b[0m\u001b[1;33m\u001b[0m\u001b[1;33m\u001b[0m\u001b[1;33m\u001b[0m\u001b[0m\n\u001b[1;32m--> 650\u001b[1;33m       \u001b[1;32mreturn\u001b[0m \u001b[0mself\u001b[0m\u001b[1;33m.\u001b[0m\u001b[0m_concrete_stateful_fn\u001b[0m\u001b[1;33m.\u001b[0m\u001b[0m_filtered_call\u001b[0m\u001b[1;33m(\u001b[0m\u001b[0mcanon_args\u001b[0m\u001b[1;33m,\u001b[0m \u001b[0mcanon_kwds\u001b[0m\u001b[1;33m)\u001b[0m  \u001b[1;31m# pylint: disable=protected-access\u001b[0m\u001b[1;33m\u001b[0m\u001b[1;33m\u001b[0m\u001b[0m\n\u001b[0m\u001b[0;32m    651\u001b[0m \u001b[1;33m\u001b[0m\u001b[0m\n\u001b[0;32m    652\u001b[0m     \u001b[1;32mdef\u001b[0m \u001b[0mfn_with_cond\u001b[0m\u001b[1;33m(\u001b[0m\u001b[1;33m*\u001b[0m\u001b[0minner_args\u001b[0m\u001b[1;33m,\u001b[0m \u001b[1;33m**\u001b[0m\u001b[0minner_kwds\u001b[0m\u001b[1;33m)\u001b[0m\u001b[1;33m:\u001b[0m\u001b[1;33m\u001b[0m\u001b[1;33m\u001b[0m\u001b[0m\n",
      "\u001b[1;32mc:\\users\\dan39\\onedrive\\desktop\\dissertation\\python3.8\\lib\\site-packages\\tensorflow\\python\\eager\\function.py\u001b[0m in \u001b[0;36m_filtered_call\u001b[1;34m(self, args, kwargs)\u001b[0m\n\u001b[0;32m   1659\u001b[0m       \u001b[0;31m`\u001b[0m\u001b[0margs\u001b[0m\u001b[0;31m`\u001b[0m \u001b[1;32mand\u001b[0m\u001b[0;31m \u001b[0m\u001b[0;31m`\u001b[0m\u001b[0mkwargs\u001b[0m\u001b[0;31m`\u001b[0m\u001b[1;33m.\u001b[0m\u001b[1;33m\u001b[0m\u001b[1;33m\u001b[0m\u001b[0m\n\u001b[0;32m   1660\u001b[0m     \"\"\"\n\u001b[1;32m-> 1661\u001b[1;33m     return self._call_flat(\n\u001b[0m\u001b[0;32m   1662\u001b[0m         (t for t in nest.flatten((args, kwargs), expand_composites=True)\n\u001b[0;32m   1663\u001b[0m          if isinstance(t, (ops.Tensor,\n",
      "\u001b[1;32mc:\\users\\dan39\\onedrive\\desktop\\dissertation\\python3.8\\lib\\site-packages\\tensorflow\\python\\eager\\function.py\u001b[0m in \u001b[0;36m_call_flat\u001b[1;34m(self, args, captured_inputs, cancellation_manager)\u001b[0m\n\u001b[0;32m   1743\u001b[0m         and executing_eagerly):\n\u001b[0;32m   1744\u001b[0m       \u001b[1;31m# No tape is watching; skip to running the function.\u001b[0m\u001b[1;33m\u001b[0m\u001b[1;33m\u001b[0m\u001b[1;33m\u001b[0m\u001b[0m\n\u001b[1;32m-> 1745\u001b[1;33m       return self._build_call_outputs(self._inference_function.call(\n\u001b[0m\u001b[0;32m   1746\u001b[0m           ctx, args, cancellation_manager=cancellation_manager))\n\u001b[0;32m   1747\u001b[0m     forward_backward = self._select_forward_and_backward_functions(\n",
      "\u001b[1;32mc:\\users\\dan39\\onedrive\\desktop\\dissertation\\python3.8\\lib\\site-packages\\tensorflow\\python\\eager\\function.py\u001b[0m in \u001b[0;36mcall\u001b[1;34m(self, ctx, args, cancellation_manager)\u001b[0m\n\u001b[0;32m    591\u001b[0m       \u001b[1;32mwith\u001b[0m \u001b[0m_InterpolateFunctionError\u001b[0m\u001b[1;33m(\u001b[0m\u001b[0mself\u001b[0m\u001b[1;33m)\u001b[0m\u001b[1;33m:\u001b[0m\u001b[1;33m\u001b[0m\u001b[1;33m\u001b[0m\u001b[0m\n\u001b[0;32m    592\u001b[0m         \u001b[1;32mif\u001b[0m \u001b[0mcancellation_manager\u001b[0m \u001b[1;32mis\u001b[0m \u001b[1;32mNone\u001b[0m\u001b[1;33m:\u001b[0m\u001b[1;33m\u001b[0m\u001b[1;33m\u001b[0m\u001b[0m\n\u001b[1;32m--> 593\u001b[1;33m           outputs = execute.execute(\n\u001b[0m\u001b[0;32m    594\u001b[0m               \u001b[0mstr\u001b[0m\u001b[1;33m(\u001b[0m\u001b[0mself\u001b[0m\u001b[1;33m.\u001b[0m\u001b[0msignature\u001b[0m\u001b[1;33m.\u001b[0m\u001b[0mname\u001b[0m\u001b[1;33m)\u001b[0m\u001b[1;33m,\u001b[0m\u001b[1;33m\u001b[0m\u001b[1;33m\u001b[0m\u001b[0m\n\u001b[0;32m    595\u001b[0m               \u001b[0mnum_outputs\u001b[0m\u001b[1;33m=\u001b[0m\u001b[0mself\u001b[0m\u001b[1;33m.\u001b[0m\u001b[0m_num_outputs\u001b[0m\u001b[1;33m,\u001b[0m\u001b[1;33m\u001b[0m\u001b[1;33m\u001b[0m\u001b[0m\n",
      "\u001b[1;32mc:\\users\\dan39\\onedrive\\desktop\\dissertation\\python3.8\\lib\\site-packages\\tensorflow\\python\\eager\\execute.py\u001b[0m in \u001b[0;36mquick_execute\u001b[1;34m(op_name, num_outputs, inputs, attrs, ctx, name)\u001b[0m\n\u001b[0;32m     57\u001b[0m   \u001b[1;32mtry\u001b[0m\u001b[1;33m:\u001b[0m\u001b[1;33m\u001b[0m\u001b[1;33m\u001b[0m\u001b[0m\n\u001b[0;32m     58\u001b[0m     \u001b[0mctx\u001b[0m\u001b[1;33m.\u001b[0m\u001b[0mensure_initialized\u001b[0m\u001b[1;33m(\u001b[0m\u001b[1;33m)\u001b[0m\u001b[1;33m\u001b[0m\u001b[1;33m\u001b[0m\u001b[0m\n\u001b[1;32m---> 59\u001b[1;33m     tensors = pywrap_tfe.TFE_Py_Execute(ctx._handle, device_name, op_name,\n\u001b[0m\u001b[0;32m     60\u001b[0m                                         inputs, attrs, num_outputs)\n\u001b[0;32m     61\u001b[0m   \u001b[1;32mexcept\u001b[0m \u001b[0mcore\u001b[0m\u001b[1;33m.\u001b[0m\u001b[0m_NotOkStatusException\u001b[0m \u001b[1;32mas\u001b[0m \u001b[0me\u001b[0m\u001b[1;33m:\u001b[0m\u001b[1;33m\u001b[0m\u001b[1;33m\u001b[0m\u001b[0m\n",
      "\u001b[1;31mInternalError\u001b[0m:  Blas GEMM launch failed : a.shape=(32, 33), b.shape=(33, 512), m=32, n=512, k=33\n\t [[node sequential/dense/MatMul (defined at <ipython-input-8-ae51c325af4f>:1) ]] [Op:__inference_predict_function_797]\n\nFunction call stack:\npredict_function\n"
     ]
    }
   ],
   "source": [
    "predictions = model.predict_classes(X_test)\n",
    "print(classification_report(y_test, predictions))"
   ]
  },
  {
   "cell_type": "code",
   "execution_count": null,
   "metadata": {
    "pycharm": {
     "is_executing": true
    },
    "scrolled": true
   },
   "outputs": [],
   "source": [
    "kr.plot_cm(y_test, predictions, [\"unpaid\", \"paid\"])"
   ]
  },
  {
   "cell_type": "code",
   "execution_count": null,
   "metadata": {
    "pycharm": {
     "is_executing": true
    }
   },
   "outputs": [],
   "source": [
    "plt.figure(figsize=(15,20))\n",
    "sns.heatmap(df.corr(),annot=True,cmap='viridis', linewidth=1)\n",
    "plt.ylim(20, 0)\n"
   ]
  },
  {
   "cell_type": "code",
   "execution_count": null,
   "metadata": {
    "pycharm": {
     "is_executing": true
    }
   },
   "outputs": [],
   "source": [
    "def plot_roc(name, labels, predictions, ax, **kwargs):\n",
    "    fp, tp, _ = sklearn.metrics.roc_curve(labels, predictions)\n",
    "    lw = 2\n",
    "    plt.plot(fp, tp, color='darkorange',\n",
    "             lw=lw, label='ROC curve '+ name, **kwargs)\n",
    "    plt.plot([0, 1], [0, 1], color='navy', lw=lw, linestyle='--')\n",
    "    plt.xlim([0.0, 1.0])\n",
    "    plt.ylim([0.0, 1.05])\n",
    "    plt.xlabel('False Positive Rate')\n",
    "    plt.ylabel('True Positive Rate')\n",
    "    plt.title('Receiver operating characteristic example')\n",
    "    plt.legend(loc=\"lower right\")\n",
    "    \n",
    "def plot_model_results(model):\n",
    "    fig, (f1, f2, f3, f4) =plt.subplots(1,4, figsize=(25,6))\n",
    "    predictions = model.predict_classes(X_test)\n",
    "    report = classification_report(y_test,predictions)\n",
    "    print(report)\n",
    "    report_json = classification_report(y_test,predictions, output_dict=True)\n",
    "#     save_report_to_latex(model_name, report_json)\n",
    "    \n",
    "    \n",
    "    losses = pd.DataFrame(history)\n",
    "    fig1 = losses[['loss','val_loss']].plot(ax=f1) \n",
    "    fig1.set_ylabel('Cost')\n",
    "    fig1.set_xlabel('Epochs')\n",
    "    \n",
    "    cm = confusion_matrix(y_test,predictions > 0.5)\n",
    "    fig2= sns.heatmap(cm, annot=True, fmt=\"d\", ax=f2)\n",
    "    fig2.set_title('Confusion matrix @{:.2f}'.format(0.5))\n",
    "    fig2.set_ylabel('Actual label')\n",
    "    fig2.set_xlabel('Predicted label')\n",
    "    fig2.set_ylim(2, 0)\n",
    "\n",
    "    fig3 = plot_roc(\"Train Baseline\",y_train, model.predict_classes(X_train[:len(X_test)]) , ax=f4)\n",
    "    fig3 = plot_roc(\"Test Baseline\", y_test, model.predict_classes(X_test), ax=f4, linestyle='--')\n",
    "    \n",
    "    fig4 = losses[['accuracy','val_accuracy']].plot(ax=f3) \n",
    "    fig4.set_ylabel('Accuracy')\n",
    "    fig4.set_xlabel('Epochs')\n",
    "#     save('/building_ann/' + model_name + '.png')\n",
    "    plt.show()\n",
    "plot_model_results(model)"
   ]
  },
  {
   "cell_type": "code",
   "execution_count": null,
   "metadata": {
    "pycharm": {
     "is_executing": true
    }
   },
   "outputs": [],
   "source": [
    "len(X_test)"
   ]
  },
  {
   "cell_type": "code",
   "execution_count": null,
   "metadata": {
    "pycharm": {
     "is_executing": true
    }
   },
   "outputs": [],
   "source": [
    "res[(res['nsamples'] == 'auto') & (res['explainer'] == 'random')].head()\n"
   ]
  },
  {
   "cell_type": "markdown",
   "metadata": {},
   "source": [
    "## G1 Number of rows from each class (50 for class 0 and 50 for class 1)"
   ]
  },
  {
   "cell_type": "code",
   "execution_count": null,
   "metadata": {
    "pycharm": {
     "is_executing": true
    }
   },
   "outputs": [],
   "source": [
    "sns.countplot(x=\"original_class\",data=res[(res['nsamples'] == 'auto') & (res['strategy'] == 'distribution') & (res['explainer'] == 'eli5') \n",
    "                                          & (res['explainer'] == 'eli5') & (res['feature_rankings'] == 'first')  & (res['no_features'] == 0)])\n",
    "plt.title(\"Number of rows predicted as the same class vs predicted as opposite class after columns have been neutralized based on the explainer's identified features\")"
   ]
  },
  {
   "cell_type": "markdown",
   "metadata": {},
   "source": [
    "## G2 All class changes (per class) across all explainers that occured while using strategy distribution and feature ranking first"
   ]
  },
  {
   "cell_type": "code",
   "execution_count": null,
   "metadata": {
    "pycharm": {
     "is_executing": true
    }
   },
   "outputs": [],
   "source": [
    "sns.countplot(x=\"original_class\",data=res[(res['nsamples'] == 'auto') & (res['strategy'] == 'distribution') & (res['feature_rankings'] == 'first') ], hue = 'class_change')\n",
    "plt.title(\"Number of rows predicted as the same class vs predicted as opposite class after columns have been neutralized based on the explainer's identified features\")"
   ]
  },
  {
   "cell_type": "markdown",
   "metadata": {},
   "source": [
    "## G3 All class changes (per explainer) across both classes that occured while using strategy distribution and feature ranking first"
   ]
  },
  {
   "cell_type": "code",
   "execution_count": null,
   "metadata": {
    "pycharm": {
     "is_executing": true
    }
   },
   "outputs": [],
   "source": [
    "sns.countplot(x=\"explainer\",data=res[(res['nsamples'] == 'auto') & (res['strategy'] == 'distribution') ], hue = 'class_change')\n",
    "plt.title(\"Number of rows predicted as the same class vs predicted as opposite class after columns have been neutralized based on the explainer's identified features\")"
   ]
  },
  {
   "cell_type": "code",
   "execution_count": null,
   "metadata": {
    "pycharm": {
     "is_executing": true
    }
   },
   "outputs": [],
   "source": [
    "res.count()"
   ]
  },
  {
   "cell_type": "code",
   "execution_count": null,
   "metadata": {
    "pycharm": {
     "is_executing": true
    }
   },
   "outputs": [],
   "source": [
    "df.columns"
   ]
  },
  {
   "cell_type": "markdown",
   "metadata": {},
   "source": [
    "## G4 This shows a total count for each explainer of features that appear in the i coulumns regradless of their position (importance). For eli5 the count is always the same as it always returns the same features independent of the row (this is a global feature importance). The  (res[\"original_class\"] == 0) can be commented out for a count specific to a class"
   ]
  },
  {
   "cell_type": "code",
   "execution_count": null,
   "metadata": {
    "pycharm": {
     "is_executing": true
    }
   },
   "outputs": [],
   "source": [
    "def get_countplot(explainer, feature_rankings=\"first\"):\n",
    "    columns = df.drop('loan_repaid', axis=1).columns\n",
    "    result = res[(res['nsamples'] == 'auto') & (res['explainer'] == explainer) & (res[\"feature_rankings\"] == feature_rankings) & \n",
    "#                  (res[\"original_class\"] == 1) & \n",
    "                 (res['strategy'] == 'distribution') & (res[\"no_features\"]==10)].drop(['original_probability',\"new_probability\", \"confidence_diff\", \"original_class\", \"class_change\",\"no_features\",\"nsamples\",\"explainer\",\"time\",\"feature_rankings\", \"strategy\"],axis=1)\n",
    "    result.columns = [''] * len(result.columns)\n",
    "    flat_list = pd.DataFrame([columns[int(item)] for sublist in result.values.tolist() for item in sublist if not pd.isnull(item)])\n",
    "    return flat_list\n",
    "\n",
    "f, ax = plt.subplots(nrows=2, ncols=2, figsize=(35, 20))\n",
    "plt.figure(figsize=(25,4))\n",
    "\n",
    "countplot_list = get_countplot(\"shap\", \"first\")\n",
    "# print(countplot_list)\n",
    "ax[0][0] = sns.countplot(x =0, data =  countplot_list, order = countplot_list[0].value_counts().index, ax=ax[0][0])\n",
    "ax[0][0].set_xticklabels(ax[0][0].get_xticklabels(), rotation=40, ha=\"right\")\n",
    "ax[0][0].set_title(\"Shap - Contplot across all feature importances\")\n",
    "\n",
    "countplot_list = get_countplot(\"lime\")\n",
    "ax[0][1] = sns.countplot(x =0, data =  countplot_list, order = countplot_list[0].value_counts().index, ax=ax[0][1])\n",
    "ax[0][1].set_xticklabels(ax[0][1].get_xticklabels(), rotation=40, ha=\"right\")\n",
    "ax[0][1].set_title(\"Lime - Contplot across all feature importances\")\n",
    "\n",
    "countplot_list = get_countplot(\"eli5\")\n",
    "ax[1][0] = sns.countplot(x =0, data =  countplot_list, order = countplot_list[0].value_counts().index, ax=ax[1][0])\n",
    "ax[1][0].set_xticklabels(ax[1][0].get_xticklabels(), rotation=40, ha=\"right\")\n",
    "ax[1][0].set_title(\"Eli5 - Contplot across all feature importances\")\n",
    "\n",
    "countplot_list = get_countplot(\"random\")\n",
    "ax[1][1] = sns.countplot(x =0, data =  countplot_list, order = countplot_list[0].value_counts().index, ax=ax[1][1])\n",
    "ax[1][1].set_xticklabels(ax[1][1].get_xticklabels(), rotation=40, ha=\"right\")\n",
    "ax[1][1].set_title(\"Random - Contplot across all feature importances\")"
   ]
  },
  {
   "cell_type": "markdown",
   "metadata": {},
   "source": [
    "## G5 Correlation on original dataset"
   ]
  },
  {
   "cell_type": "code",
   "execution_count": null,
   "metadata": {
    "pycharm": {
     "is_executing": true
    }
   },
   "outputs": [],
   "source": [
    "df.head()"
   ]
  },
  {
   "cell_type": "code",
   "execution_count": null,
   "metadata": {
    "pycharm": {
     "is_executing": true
    }
   },
   "outputs": [],
   "source": [
    "# Correlation on original dataset\n",
    "df.corr()[\"loan_amnt\"]"
   ]
  },
  {
   "cell_type": "markdown",
   "metadata": {},
   "source": [
    "## G6 Distribution of class changes based on explainer and number of features eliminated. The graphs look fine for class 1 but the model is biased for class 0. ((res[\"original_class\"] == 0)) and res['strategy'] == 'distribution_others') are interesting to change"
   ]
  },
  {
   "cell_type": "code",
   "execution_count": null,
   "metadata": {
    "pycharm": {
     "is_executing": true
    }
   },
   "outputs": [],
   "source": [
    "f, ax = plt.subplots(nrows=1, ncols=4, figsize=(25, 4))\n",
    "\n",
    "data = res[(res['nsamples'] == 'auto') &  (res[\"feature_rankings\"] == \"first\") \n",
    "#                & (res[\"original_class\"] == 1)\n",
    "               & (res['strategy'] == 'distribution')]\n",
    "\n",
    "ax[0]=sns.countplot(x=\"no_features\",data=data[data['explainer'] == 'shap'], hue = 'class_change', ax = ax[0])\n",
    "ax[0].set_title(\"Shap\")\n",
    "\n",
    "ax[1]=sns.countplot(x=\"no_features\",data=data[data['explainer'] == 'lime'], hue = 'class_change', ax = ax[1])\n",
    "ax[1].set_title(\"Lime\")\n",
    "\n",
    "ax[2]=sns.countplot(x=\"no_features\",data=data[data['explainer'] == 'eli5'], hue = 'class_change', ax = ax[2])\n",
    "ax[2].set_title(\"Eli5\")\n",
    "\n",
    "ax[3]=sns.countplot(x=\"no_features\",data=data[data['explainer'] == 'random'], hue = 'class_change', ax = ax[3])\n",
    "ax[3].set_title(\"Random\")"
   ]
  },
  {
   "cell_type": "markdown",
   "metadata": {},
   "source": [
    "## G7 Average of confidence level change vs number of features neutralized. If no feature is altered the (old prediction - new prediction) == 0 should stay the same. The more features we change, the higher should the difference increase. This average is on both classes"
   ]
  },
  {
   "cell_type": "code",
   "execution_count": null,
   "metadata": {
    "pycharm": {
     "is_executing": true
    }
   },
   "outputs": [],
   "source": [
    "f, ax = plt.subplots(nrows=1, ncols=3, figsize=(20, 4))\n",
    "\n",
    "def get_data(explainer, feature_rankings ):\n",
    "    data = res[(res['nsamples'] == 'auto') &  (res[\"feature_rankings\"] == feature_rankings) & (res['strategy'] == 'distribution')]\n",
    "    return data[data['explainer'] == explainer].groupby(\"no_features\")[\"confidence_diff\"].mean()\n",
    "\n",
    "feature_rankings = \"first\"\n",
    "no_of_features = list(range(0, len(get_data(\"random\", \"first\")) ))\n",
    "ax[0].plot( no_of_features,  get_data(\"random\", feature_rankings), color='navy', marker='*', linestyle='-', label='Random')\n",
    "ax[0].plot( no_of_features, get_data(\"shap\", feature_rankings) , color='green', marker='x', linestyle='-', label='Shap')\n",
    "ax[0].plot( no_of_features, get_data(\"lime\", feature_rankings) , color='red', marker='o', linestyle='-', label='Lime')\n",
    "ax[0].plot( no_of_features, get_data(\"eli5\", feature_rankings) , color='yellow', marker='*', linestyle='-', label='Eli5(Baseline)')\n",
    "ax[0].set_title(\"For feature rankings first\")\n",
    "ax[0].legend(loc='best')\n",
    "\n",
    "feature_rankings = \"middle\"\n",
    "no_of_features = list(range(0, len(get_data(\"random\", feature_rankings)) ))\n",
    "ax[1].plot( no_of_features, get_data(\"random\", feature_rankings), color='navy', marker='*', linestyle='-', label='Random')\n",
    "ax[1].plot( no_of_features, get_data(\"shap\", feature_rankings), color='green', marker='x', linestyle='-', label='Shap')\n",
    "ax[1].plot( no_of_features,get_data(\"lime\", feature_rankings), color='red', marker='o', linestyle='-', label='Lime')\n",
    "ax[1].plot( no_of_features, get_data(\"eli5\", feature_rankings), color='yellow', marker='*', linestyle='-', label='Eli5(Baseline)')\n",
    "ax[1].set_title(\"For feature rankings middle\")\n",
    "ax[1].legend(loc='best')\n",
    "\n",
    "feature_rankings = \"last\"\n",
    "no_of_features = list(range(0, len(get_data(\"random\", feature_rankings)) ))\n",
    "ax[2].plot( no_of_features, get_data(\"random\", feature_rankings), color='navy', marker='*', linestyle='-', label='Random')\n",
    "ax[2].plot( no_of_features, get_data(\"shap\", feature_rankings), color='green', marker='x', linestyle='-', label='Shap')\n",
    "ax[2].plot( no_of_features,get_data(\"lime\", feature_rankings), color='red', marker='o', linestyle='-', label='Lime')\n",
    "ax[2].plot( no_of_features, get_data(\"eli5\", feature_rankings), color='yellow', marker='*', linestyle='-', label='Eli5(Baseline)')\n",
    "ax[2].set_title(\"For feature rankings last\")\n",
    "ax[2].legend(loc='best')"
   ]
  },
  {
   "cell_type": "code",
   "execution_count": null,
   "metadata": {
    "pycharm": {
     "is_executing": true
    }
   },
   "outputs": [],
   "source": [
    "res[(res['nsamples'] == 'auto') ].groupby(\"no_features\")[\"confidence_diff\"].mean() "
   ]
  },
  {
   "cell_type": "code",
   "execution_count": null,
   "metadata": {},
   "outputs": [],
   "source": [
    "from numpy.random import seed\n",
    "from numpy.random import randn\n",
    "from scipy.stats import wilcoxon\n",
    "def t_test(data1, data2):\n",
    "    # seed the random number generator\n",
    "    seed(1)\n",
    "    # generate two independent samples\n",
    "#     data1 = 5 * randn(100) + 50\n",
    "#     data2 = 5 * randn(100) + 51\n",
    "    # compare samples\n",
    "    stat, p = wilcoxon(data1, data2)\n",
    "    print('Statistics=%.3f, p=%.3f' % (stat, p))\n",
    "    # interpret\n",
    "    alpha = 0.05\n",
    "    if p > alpha:\n",
    "        print('Same distribution (fail to reject H0)')\n",
    "    else:\n",
    "        print('Different distribution (reject H0)')"
   ]
  },
  {
   "cell_type": "markdown",
   "metadata": {},
   "source": [
    "## G8 Average of confidence level change vs number of features neutralized. If no feature is altered the (old prediction - new prediction) == 0 should stay the same. The more features we change, the higher should the difference increase. This average is per class"
   ]
  },
  {
   "cell_type": "code",
   "execution_count": null,
   "metadata": {
    "pycharm": {
     "is_executing": true
    }
   },
   "outputs": [],
   "source": [
    "# Same as the graph above but the plot is class specific, in this case for class 1. For class 0, there are not enough datapoints to plot the graph\n",
    "f, ax = plt.subplots(nrows=1, ncols=2, figsize=(16, 4))\n",
    "\n",
    "def get_data(explainer, original_class):\n",
    "    default_data = res[(res['nsamples'] == 'auto') & (res[\"feature_rankings\"] == \"first\") & (res['strategy'] == 'distribution')]\n",
    "    return default_data[(default_data['explainer'] == explainer) & (default_data['original_class'] == original_class)].groupby(\"no_features\")[\"confidence_diff\"].mean()\n",
    "\n",
    "original_class = 1\n",
    "plt.figure(figsize=(11,4))\n",
    "no_of_features = list(range(0, len(get_data(\"random\", original_class)) ))\n",
    "ax[0].plot( no_of_features, get_data(\"random\", original_class), color='navy', marker='*', linestyle='-', label='Random')\n",
    "ax[0].plot( no_of_features, get_data(\"shap\", original_class), color='green', marker='x', linestyle='-', label='Shap')\n",
    "ax[0].plot( no_of_features, get_data(\"lime\", original_class), color='red', marker='o', linestyle='-', label='Lime')\n",
    "ax[0].plot( no_of_features, get_data(\"eli5\", original_class), color='yellow', marker='o', linestyle='-', label='Eli5')\n",
    "ax[0].set_title(\"Class {}\".format(original_class))\n",
    "ax[0].legend(loc='best')\n",
    "\n",
    "original_class = 0\n",
    "plt.figure(figsize=(11,4))\n",
    "no_of_features = list(range(0, len(get_data(\"random\", original_class)) ))\n",
    "ax[1].plot( no_of_features, get_data(\"random\", original_class), color='navy', marker='*', linestyle='-', label='Random')\n",
    "ax[1].plot( no_of_features, get_data(\"shap\", original_class), color='green', marker='x', linestyle='-', label='Shap')\n",
    "ax[1].plot( no_of_features, get_data(\"lime\", original_class), color='red', marker='o', linestyle='-', label='Lime')\n",
    "ax[1].plot( no_of_features, get_data(\"eli5\", original_class), color='yellow', marker='o', linestyle='-', label='Eli5')\n",
    "ax[1].set_title(\"Class {}\".format(original_class))\n",
    "ax[1].legend(loc='best')\n",
    "\n",
    "\n",
    "data_shap = list(get_data(\"shap\", 1).values)\n",
    "data_shap.extend(list(get_data(\"shap\", 0).values))\n",
    "\n",
    "data_lime = list(get_data(\"lime\", 1).values)\n",
    "data_lime.extend(list(get_data(\"lime\", 0).values))\n",
    "t_test(data_shap, data_lime)"
   ]
  },
  {
   "cell_type": "code",
   "execution_count": null,
   "metadata": {},
   "outputs": [],
   "source": [
    "data_lime"
   ]
  },
  {
   "cell_type": "markdown",
   "metadata": {},
   "source": [
    "## G9 Percentage of rows where the new prediction favours the original class instead of decreasing its probability or has no impact. (old prediction - new prediction) <=0.1. Interesting to change ((res[\"original_class\"] == 0/1))"
   ]
  },
  {
   "cell_type": "code",
   "execution_count": null,
   "metadata": {
    "pycharm": {
     "is_executing": true
    }
   },
   "outputs": [],
   "source": [
    "def get_data(explainer, feature_rankings):\n",
    "    data = res[(res['nsamples'] == 'auto') & (res[\"feature_rankings\"] == feature_rankings) \n",
    "#                & (res[\"original_class\"] == 1)\n",
    "               & (res['strategy'] == 'distribution')] \n",
    "    data_count = data[(res['confidence_diff'] < 0.01)]\n",
    "    return data_count[data_count['explainer'] == explainer].groupby(\"no_features\")[\"confidence_diff\"].count() / data[data['explainer'] == explainer].groupby(\"no_features\")[\"confidence_diff\"].count()\n",
    "\n",
    "f, ax = plt.subplots(nrows=1, ncols=2, figsize=(16, 4))\n",
    "\n",
    "feature_rankings = \"first\"\n",
    "no_of_features = list(range(0, len(get_data(\"random\", feature_rankings)) ))\n",
    "ax[0].plot( no_of_features, get_data(\"random\", feature_rankings), color='navy', marker='*', linestyle='-', label='Random Confidence level change vs no of features')\n",
    "ax[0].plot( no_of_features, get_data(\"shap\", feature_rankings), color='green', marker='x', linestyle='-', label='Shap Confidence level change vs no of features')\n",
    "ax[0].plot( no_of_features, get_data(\"lime\", feature_rankings), color='red', marker='o', linestyle='-', label='Lime Confidence level change vs no of features')\n",
    "ax[0].plot( no_of_features, get_data(\"eli5\", feature_rankings), color='yellow', marker='o', linestyle='-', label='Eli5 Confidence level change vs no of features')\n",
    "ax[0].set_title(\"feature_rankings = first\")\n",
    "ax[0].legend(loc='best')\n",
    "\n",
    "feature_rankings = \"last\"\n",
    "no_of_features = list(range(0, len(get_data(\"random\", feature_rankings)) ))\n",
    "ax[1].plot( no_of_features, get_data(\"random\", feature_rankings), color='navy', marker='*', linestyle='-', label='Random Confidence level change vs no of features')\n",
    "ax[1].plot( no_of_features, get_data(\"shap\", feature_rankings), color='green', marker='x', linestyle='-', label='Shap Confidence level change vs no of features')\n",
    "ax[1].plot( no_of_features, get_data(\"lime\", feature_rankings), color='red', marker='o', linestyle='-', label='Lime Confidence level change vs no of features')\n",
    "ax[1].plot( no_of_features, get_data(\"eli5\", feature_rankings), color='yellow', marker='o', linestyle='-', label='Eli5 Confidence level change vs no of features')\n",
    "ax[1].set_title(\"feature_rankings = last\")\n",
    "ax[1].legend(loc='best')"
   ]
  },
  {
   "cell_type": "markdown",
   "metadata": {},
   "source": [
    "## G10 Average time for shap and lime to compute feature importances using nsamples auto (default). Shap is significantly higher. "
   ]
  },
  {
   "cell_type": "code",
   "execution_count": null,
   "metadata": {
    "pycharm": {
     "is_executing": true
    }
   },
   "outputs": [],
   "source": [
    "avg_shap = res[(res[\"no_features\"]==0) & (res['explainer'] == 'shap')  & (res[\"feature_rankings\"] == \"first\") & (res['strategy'] == 'mean')].groupby(\"nsamples\")[\"time\"].mean()\n",
    "avg_lime = res[(res[\"no_features\"]==0) & (res['explainer'] == 'lime')  & (res[\"feature_rankings\"] == \"first\") & (res['strategy'] == 'mean')].groupby(\"nsamples\")[\"time\"].mean()\n",
    "\n",
    "plt.figure(figsize=(10,4))\n",
    "# plt.set_title('Training & Validation Loss')\n",
    "no_of_features = list(range(0, len(avg_shap)))\n",
    "# plt.plot( no_of_features, avg_random, color='navy', marker='*', linestyle='-', label='Random')\n",
    "plt.plot( avg_lime.keys(), avg_shap, color='green', marker='x', linestyle='-', label='Shap')\n",
    "plt.plot( avg_lime.keys(), avg_lime, color='red', marker='o', linestyle='-', label='Lime')\n",
    "plt.title(\"Average time taken for each explainer to compute top 30 most important features of a row based on the nsamples allowed to compute\")\n",
    "plt.legend(loc='best')"
   ]
  },
  {
   "cell_type": "markdown",
   "metadata": {},
   "source": [
    "# Some graphs generated by explainers"
   ]
  },
  {
   "cell_type": "markdown",
   "metadata": {},
   "source": [
    "## G11 Eli5 This computes the global feature importance - this is not a true eli5 algorithm."
   ]
  },
  {
   "cell_type": "code",
   "execution_count": null,
   "metadata": {
    "pycharm": {
     "is_executing": true
    }
   },
   "outputs": [],
   "source": [
    "from keras.wrappers.scikit_learn import KerasClassifier, KerasRegressor\n",
    "import eli5\n",
    "from eli5.sklearn import PermutationImportance\n",
    "\n",
    "def base_model():       \n",
    "    return model\n",
    "# X_train_unscaled, X_test_unscaled, y_train, y_test\n",
    "# train_x, val_x, train_y, val_y\n",
    "my_model = KerasRegressor(build_fn=base_model)    \n",
    "my_model.fit(X_test, y_test)\n",
    "\n",
    "perm = PermutationImportance(my_model).fit(X_test[0:1000],y_test[0:1000])\n",
    "eli5.show_weights(perm, feature_names = list(df.drop('loan_repaid', axis=1).columns))"
   ]
  },
  {
   "cell_type": "code",
   "execution_count": null,
   "metadata": {},
   "outputs": [],
   "source": [
    "help(PermutationImportance)"
   ]
  },
  {
   "cell_type": "markdown",
   "metadata": {},
   "source": [
    "## G12 Lime example"
   ]
  },
  {
   "cell_type": "code",
   "execution_count": null,
   "metadata": {
    "pycharm": {
     "is_executing": true
    }
   },
   "outputs": [],
   "source": [
    "row_number=2\n",
    "columns = list(df.drop('loan_repaid', axis=1).columns)\n",
    "explainer_lime = lime_tabular.LimeTabularExplainer(X_train, class_names=list(['Charged off', 'Fully paid']), feature_names= list(df.drop('loan_repaid', axis=1).columns))\n",
    "exp = explainer_lime.explain_instance(X_test[row_number], model.predict, num_features=30, top_labels=30)  \n",
    "exp.show_in_notebook(show_table=True, show_all=False)\n",
    "# model.predict()"
   ]
  },
  {
   "cell_type": "markdown",
   "metadata": {},
   "source": [
    "## G13 Shap example decision plot"
   ]
  },
  {
   "cell_type": "code",
   "execution_count": null,
   "metadata": {
    "pycharm": {
     "is_executing": true
    }
   },
   "outputs": [],
   "source": [
    "# eli5.show_prediction(model, X_test[row_number].reshape(1, X_test.shape[1]))"
   ]
  },
  {
   "cell_type": "code",
   "execution_count": null,
   "metadata": {
    "pycharm": {
     "is_executing": true
    }
   },
   "outputs": [],
   "source": [
    "# https://slundberg.github.io/shap/notebooks/plots/decision_plot.html -- types of plots available for shap\n",
    "import shap\n",
    "def predict_fn(x):\n",
    "    preds = model.predict(x).reshape(-1, 1)\n",
    "    p0 = 1 - preds\n",
    "    return np.hstack((p0, preds))\n",
    "row_number=2\n",
    "explainer_shap = shap.KernelExplainer(predict_fn, X_train[0:1000])\n",
    "shap_values = explainer_shap.shap_values(X_test[row_number].reshape(1, X_test.shape[1]), nsamples=\"auto\", l1_reg=\"num_features(30)\")\n",
    "\n",
    "shap.decision_plot(explainer_shap.expected_value[0], shap_values[0][0, :], X_test[row_number], feature_names=list(df.drop('loan_repaid', axis=1).columns), link=\"logit\")"
   ]
  },
  {
   "cell_type": "markdown",
   "metadata": {},
   "source": [
    "## G14 Shap example force plot (same as a decision plot)"
   ]
  },
  {
   "cell_type": "code",
   "execution_count": null,
   "metadata": {
    "pycharm": {
     "is_executing": true
    }
   },
   "outputs": [],
   "source": [
    "shap.initjs()\n",
    "shap.force_plot(explainer_shap.expected_value[0], shap_values[0][0, :], X_test[row_number], feature_names=list(df.drop('loan_repaid', axis=1).columns), link=\"logit\")"
   ]
  },
  {
   "cell_type": "code",
   "execution_count": null,
   "metadata": {
    "pycharm": {
     "is_executing": true
    }
   },
   "outputs": [],
   "source": [
    "explainer_shap.expected_value"
   ]
  },
  {
   "cell_type": "code",
   "execution_count": null,
   "metadata": {
    "pycharm": {
     "is_executing": true
    }
   },
   "outputs": [],
   "source": [
    "class_avg_1 = [a for a in y_test if a  ==1]\n",
    "sum(class_avg_1)/len(y_train)\n",
    "# class_avg_1\n",
    "model.predict(X_test[row_number].reshape(1, X_test.shape[1]))"
   ]
  },
  {
   "cell_type": "markdown",
   "metadata": {},
   "source": [
    "## G15 Shap summary plot ( a global feature importance plot - only 10 values are used as it would not complete otherwise)"
   ]
  },
  {
   "cell_type": "code",
   "execution_count": null,
   "metadata": {
    "pycharm": {
     "is_executing": true
    }
   },
   "outputs": [],
   "source": [
    "global_shap_values = explainer_shap.shap_values(X_test[0:10])\n",
    "shap.summary_plot(global_shap_values, X_test[0:10])"
   ]
  },
  {
   "cell_type": "code",
   "execution_count": null,
   "metadata": {
    "pycharm": {
     "is_executing": true
    }
   },
   "outputs": [],
   "source": [
    "help(shap.summary_plot)"
   ]
  },
  {
   "cell_type": "code",
   "execution_count": null,
   "metadata": {
    "pycharm": {
     "is_executing": true,
     "name": "#%%\n"
    }
   },
   "outputs": [],
   "source": [
    "shap.summary_plot(global_shap_values, X_test[0:10], plot_type=\"bar\", feature_names=list(df.drop('loan_repaid', axis=1).columns))"
   ]
  },
  {
   "cell_type": "markdown",
   "metadata": {},
   "source": [
    "## G16 Tensorboard results - ordereded by ray/tune/keras_info/val_binary_accuracy"
   ]
  },
  {
   "cell_type": "code",
   "execution_count": null,
   "metadata": {
    "pycharm": {
     "is_executing": true,
     "name": "#%%\n"
    }
   },
   "outputs": [],
   "source": [
    "%reload_ext tensorboard\n",
    "%tensorboard --logdir \"tune_results/\" "
   ]
  },
  {
   "cell_type": "code",
   "execution_count": null,
   "metadata": {
    "pycharm": {
     "is_executing": true
    }
   },
   "outputs": [],
   "source": [
    "stop\n",
    "import os\n",
    "path=\"/home/dan393/ray_results_f/create_model_tune_cofig\"\n",
    "os.chdir(path)\n",
    "for file in os.listdir():\n",
    "    if os.path.isdir(file):\n",
    "        split_words = file.split(\"_\")\n",
    "        os.rename(file, \"create_model_tune_cofig_{}_{}\".format(split_words[4], split_words[len(split_words)-1]))"
   ]
  },
  {
   "cell_type": "code",
   "execution_count": null,
   "metadata": {
    "pycharm": {
     "is_executing": true
    }
   },
   "outputs": [],
   "source": []
  },
  {
   "cell_type": "code",
   "execution_count": null,
   "metadata": {
    "pycharm": {
     "is_executing": true
    }
   },
   "outputs": [],
   "source": [
    "import os\n",
    "path=\"/home/dan393/ray_results_f/create_model_tune_cofig\"\n",
    "os.chdir(path)\n",
    "for file in os.listdir():\n",
    "    if os.path.isdir(file):\n",
    "        split_words = file.split(\"_\")\n",
    "        os.rename(file, \"create_model_tune_cofig_{}_{}\".format(split_words[4], split_words[len(split_words)-1]))"
   ]
  }
 ],
 "metadata": {
  "kernelspec": {
   "display_name": "Python 3",
   "language": "python",
   "name": "python3"
  },
  "language_info": {
   "codemirror_mode": {
    "name": "ipython",
    "version": 3
   },
   "file_extension": ".py",
   "mimetype": "text/x-python",
   "name": "python",
   "nbconvert_exporter": "python",
   "pygments_lexer": "ipython3",
   "version": "3.8.4"
  }
 },
 "nbformat": 4,
 "nbformat_minor": 4
}
