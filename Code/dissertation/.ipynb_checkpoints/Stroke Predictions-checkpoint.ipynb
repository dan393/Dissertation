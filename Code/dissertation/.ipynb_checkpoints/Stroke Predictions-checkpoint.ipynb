{
 "cells": [
  {
   "cell_type": "code",
   "execution_count": 1,
   "metadata": {
    "pycharm": {
     "is_executing": false
    }
   },
   "outputs": [],
   "source": [
    "import numpy as np # linear algebra\n",
    "import pandas as pd # data processing, CSV file I/O (e.g. pd.read_csv)\n",
    "import matplotlib.pyplot as plt\n",
    "import seaborn as sns\n",
    "\n",
    "from sklearn.metrics import roc_curve"
   ]
  },
  {
   "cell_type": "markdown",
   "metadata": {},
   "source": [
    "# Helper methods"
   ]
  },
  {
   "cell_type": "code",
   "execution_count": 2,
   "metadata": {},
   "outputs": [],
   "source": [
    "def save(path):\n",
    "    plt.savefig('../../images' + path)"
   ]
  },
  {
   "cell_type": "code",
   "execution_count": 3,
   "metadata": {
    "pycharm": {
     "is_executing": false
    }
   },
   "outputs": [
    {
     "name": "stdout",
     "output_type": "stream",
     "text": [
      "<class 'pandas.core.frame.DataFrame'>\n",
      "RangeIndex: 1762 entries, 0 to 1761\n",
      "Data columns (total 11 columns):\n",
      "gender               1762 non-null object\n",
      "age                  1762 non-null float64\n",
      "hypertension         1762 non-null int64\n",
      "heart_disease        1762 non-null int64\n",
      "ever_married         1762 non-null object\n",
      "work_type            1762 non-null object\n",
      "Residence_type       1762 non-null object\n",
      "avg_glucose_level    1762 non-null float64\n",
      "bmi                  1599 non-null float64\n",
      "smoking_status       1332 non-null object\n",
      "stroke               1762 non-null int64\n",
      "dtypes: float64(3), int64(3), object(5)\n",
      "memory usage: 151.5+ KB\n"
     ]
    }
   ],
   "source": [
    "# df  = pd.read_csv(\"../input/stroke-dataset/stroke.csv\")\n",
    "df  = pd.read_csv(\"../input/stroke-dataset/stroke_subset.csv\")\n",
    "\n",
    "df = df.drop('id',axis=1)\n",
    "df.info()"
   ]
  },
  {
   "cell_type": "markdown",
   "metadata": {
    "pycharm": {
     "is_executing": false
    }
   },
   "source": [
    "# Data Exploration"
   ]
  },
  {
   "cell_type": "code",
   "execution_count": 4,
   "metadata": {},
   "outputs": [
    {
     "data": {
      "image/png": "[encoded data removed]",
      "text/plain": [
       "<Figure size 360x360 with 1 Axes>"
      ]
     },
     "metadata": {
      "needs_background": "light"
     },
     "output_type": "display_data"
    }
   ],
   "source": [
    "plt.figure(figsize=(5,5))\n",
    "sns.countplot(x='stroke',data=df)\n",
    "save('/building_ann/stroke_countplot.png')"
   ]
  },
  {
   "cell_type": "code",
   "execution_count": 5,
   "metadata": {},
   "outputs": [
    {
     "data": {
      "text/html": [
       "<div>\n",
       "<style scoped>\n",
       "    .dataframe tbody tr th:only-of-type {\n",
       "        vertical-align: middle;\n",
       "    }\n",
       "\n",
       "    .dataframe tbody tr th {\n",
       "        vertical-align: top;\n",
       "    }\n",
       "\n",
       "    .dataframe thead th {\n",
       "        text-align: right;\n",
       "    }\n",
       "</style>\n",
       "<table border=\"1\" class=\"dataframe\">\n",
       "  <thead>\n",
       "    <tr style=\"text-align: right;\">\n",
       "      <th></th>\n",
       "      <th>age</th>\n",
       "      <th>hypertension</th>\n",
       "      <th>heart_disease</th>\n",
       "      <th>avg_glucose_level</th>\n",
       "      <th>bmi</th>\n",
       "      <th>stroke</th>\n",
       "    </tr>\n",
       "  </thead>\n",
       "  <tbody>\n",
       "    <tr>\n",
       "      <td>age</td>\n",
       "      <td>1.000000</td>\n",
       "      <td>0.267847</td>\n",
       "      <td>0.294475</td>\n",
       "      <td>0.246566</td>\n",
       "      <td>0.160549</td>\n",
       "      <td>0.579968</td>\n",
       "    </tr>\n",
       "    <tr>\n",
       "      <td>hypertension</td>\n",
       "      <td>0.267847</td>\n",
       "      <td>1.000000</td>\n",
       "      <td>0.118990</td>\n",
       "      <td>0.142819</td>\n",
       "      <td>0.119180</td>\n",
       "      <td>0.224668</td>\n",
       "    </tr>\n",
       "    <tr>\n",
       "      <td>heart_disease</td>\n",
       "      <td>0.294475</td>\n",
       "      <td>0.118990</td>\n",
       "      <td>1.000000</td>\n",
       "      <td>0.199041</td>\n",
       "      <td>0.015130</td>\n",
       "      <td>0.278404</td>\n",
       "    </tr>\n",
       "    <tr>\n",
       "      <td>avg_glucose_level</td>\n",
       "      <td>0.246566</td>\n",
       "      <td>0.142819</td>\n",
       "      <td>0.199041</td>\n",
       "      <td>1.000000</td>\n",
       "      <td>0.181739</td>\n",
       "      <td>0.229474</td>\n",
       "    </tr>\n",
       "    <tr>\n",
       "      <td>bmi</td>\n",
       "      <td>0.160549</td>\n",
       "      <td>0.119180</td>\n",
       "      <td>0.015130</td>\n",
       "      <td>0.181739</td>\n",
       "      <td>1.000000</td>\n",
       "      <td>0.035706</td>\n",
       "    </tr>\n",
       "    <tr>\n",
       "      <td>stroke</td>\n",
       "      <td>0.579968</td>\n",
       "      <td>0.224668</td>\n",
       "      <td>0.278404</td>\n",
       "      <td>0.229474</td>\n",
       "      <td>0.035706</td>\n",
       "      <td>1.000000</td>\n",
       "    </tr>\n",
       "  </tbody>\n",
       "</table>\n",
       "</div>"
      ],
      "text/plain": [
       "                        age  hypertension  heart_disease  avg_glucose_level  \\\n",
       "age                1.000000      0.267847       0.294475           0.246566   \n",
       "hypertension       0.267847      1.000000       0.118990           0.142819   \n",
       "heart_disease      0.294475      0.118990       1.000000           0.199041   \n",
       "avg_glucose_level  0.246566      0.142819       0.199041           1.000000   \n",
       "bmi                0.160549      0.119180       0.015130           0.181739   \n",
       "stroke             0.579968      0.224668       0.278404           0.229474   \n",
       "\n",
       "                        bmi    stroke  \n",
       "age                0.160549  0.579968  \n",
       "hypertension       0.119180  0.224668  \n",
       "heart_disease      0.015130  0.278404  \n",
       "avg_glucose_level  0.181739  0.229474  \n",
       "bmi                1.000000  0.035706  \n",
       "stroke             0.035706  1.000000  "
      ]
     },
     "execution_count": 5,
     "metadata": {},
     "output_type": "execute_result"
    }
   ],
   "source": [
    "df.corr()"
   ]
  },
  {
   "cell_type": "code",
   "execution_count": 6,
   "metadata": {},
   "outputs": [
    {
     "name": "stdout",
     "output_type": "stream",
     "text": [
      "Examples:\n",
      "    Total: 1762\n",
      "    Positive: 782 (44.38% of total)\n",
      "\n"
     ]
    }
   ],
   "source": [
    "neg, pos = np.bincount(df['stroke'])\n",
    "total = neg + pos\n",
    "print('Examples:\\n    Total: {}\\n    Positive: {} ({:.2f}% of total)\\n'.format(\n",
    "    total, pos, 100 * pos / total))"
   ]
  },
  {
   "cell_type": "code",
   "execution_count": 7,
   "metadata": {
    "pycharm": {
     "is_executing": false
    },
    "scrolled": false
   },
   "outputs": [
    {
     "data": {
      "image/png": "[encoded data removed]",
      "text/plain": [
       "<Figure size 720x576 with 1 Axes>"
      ]
     },
     "metadata": {
      "needs_background": "light"
     },
     "output_type": "display_data"
    }
   ],
   "source": [
    "plt.figure(figsize=(10,8))\n",
    "sns.distplot(df.loc[df['stroke'] == 1]['age'], label='Stroke Patients', kde_kws={\"shade\": True},hist=False, bins =20)\n",
    "sns.distplot(df.loc[df['heart_disease'] == 1]['age'], label='Heart Disease Patients', kde_kws={\"shade\": True},hist=False, bins =20)\n",
    "sns.distplot(df.loc[df['hypertension'] == 1]['age'], label='Hypertension', kde_kws={\"shade\": True},hist=False, bins =20)\n",
    "plt.legend()\n",
    "save('/building_ann/stroke_age_distplot.png')"
   ]
  },
  {
   "cell_type": "code",
   "execution_count": null,
   "metadata": {},
   "outputs": [],
   "source": []
  },
  {
   "cell_type": "code",
   "execution_count": null,
   "metadata": {},
   "outputs": [],
   "source": []
  },
  {
   "cell_type": "code",
   "execution_count": 8,
   "metadata": {},
   "outputs": [
    {
     "data": {
      "text/plain": [
       "Female    1023\n",
       "Male       739\n",
       "Name: gender, dtype: int64"
      ]
     },
     "execution_count": 8,
     "metadata": {},
     "output_type": "execute_result"
    }
   ],
   "source": [
    "df['gender'].value_counts()"
   ]
  },
  {
   "cell_type": "code",
   "execution_count": null,
   "metadata": {
    "scrolled": false
   },
   "outputs": [],
   "source": []
  },
  {
   "cell_type": "code",
   "execution_count": 9,
   "metadata": {},
   "outputs": [
    {
     "data": {
      "text/plain": [
       "gender                     Female\n",
       "age                            78\n",
       "hypertension                    0\n",
       "heart_disease                   0\n",
       "ever_married                  Yes\n",
       "work_type                 Private\n",
       "Residence_type              Rural\n",
       "avg_glucose_level          235.63\n",
       "bmi                          32.3\n",
       "smoking_status       never smoked\n",
       "stroke                          1\n",
       "Name: 95, dtype: object"
      ]
     },
     "execution_count": 9,
     "metadata": {},
     "output_type": "execute_result"
    }
   ],
   "source": [
    "df.iloc[95]\n"
   ]
  },
  {
   "cell_type": "code",
   "execution_count": null,
   "metadata": {},
   "outputs": [],
   "source": []
  },
  {
   "cell_type": "code",
   "execution_count": null,
   "metadata": {},
   "outputs": [],
   "source": []
  },
  {
   "cell_type": "code",
   "execution_count": null,
   "metadata": {},
   "outputs": [],
   "source": []
  },
  {
   "cell_type": "code",
   "execution_count": null,
   "metadata": {},
   "outputs": [],
   "source": []
  },
  {
   "cell_type": "code",
   "execution_count": null,
   "metadata": {},
   "outputs": [],
   "source": []
  },
  {
   "cell_type": "code",
   "execution_count": null,
   "metadata": {
    "scrolled": false
   },
   "outputs": [],
   "source": []
  },
  {
   "cell_type": "code",
   "execution_count": null,
   "metadata": {},
   "outputs": [],
   "source": []
  },
  {
   "cell_type": "code",
   "execution_count": 10,
   "metadata": {},
   "outputs": [],
   "source": [
    "# def fill_smoking_status(smoking_status):\n",
    "#     if pd.isnull(smoking_status):\n",
    "#         return np.nan\n",
    "#     elif smoking_status=='never smoked':\n",
    "#         return 0\n",
    "#     elif smoking_status=='formerly smoked':\n",
    "#         return 1\n",
    "#     else: \n",
    "#         return 3\n",
    "# df['smoking_status'] = df.apply(lambda x : fill_smoking_status(x['smoking_status']), axis=1)\n",
    "\n",
    "\n",
    "\n",
    "# plt.figure(figsize=(9,9))\n",
    "# sns.heatmap(df.corr(),annot=True,cmap='viridis')\n",
    "# plt.ylim(9, 0)\n",
    "# # plt.xlim(0, 1)"
   ]
  },
  {
   "cell_type": "code",
   "execution_count": 11,
   "metadata": {},
   "outputs": [
    {
     "data": {
      "image/png": "[encoded data removed]",
      "text/plain": [
       "<Figure size 1080x1080 with 2 Axes>"
      ]
     },
     "metadata": {
      "needs_background": "light"
     },
     "output_type": "display_data"
    }
   ],
   "source": [
    "def map_smoking_status(smoking_status):\n",
    "    if pd.isnull(smoking_status):\n",
    "        return np.nan\n",
    "    elif smoking_status=='never smoked':\n",
    "        return 0\n",
    "    elif smoking_status=='formerly smoked':\n",
    "        return 1\n",
    "    else: \n",
    "        return 1\n",
    "def fill_work_type(work_type):\n",
    "    if work_type == 'children':\n",
    "        return 0\n",
    "    elif work_type == 'Never_worked':\n",
    "        return 1\n",
    "    elif work_type == 'Self-employed':\n",
    "        return 2\n",
    "    elif work_type == 'Private':\n",
    "        return 3\n",
    "    else: \n",
    "        return 4\n",
    "df_hm = pd.read_csv(\"../input/stroke-dataset/stroke.csv\")\n",
    "df_hm['smoking_status'] = df_hm.apply(lambda x : map_smoking_status(x['smoking_status']), axis=1)\n",
    "df_hm['ever_married'] = df_hm.apply(lambda x : 1 if x['ever_married']=='Yes' else 0, axis =1)\n",
    "df_hm['Residence_type'] = df_hm.apply(lambda x : 1 if x['Residence_type']=='Urban' else 0, axis =1)\n",
    "df_hm['work_type'] = df_hm.apply(lambda x : fill_work_type(x['work_type']), axis =1)\n",
    "df_hm['gender'] = df_hm.apply(lambda x : 1 if x['gender']=='Male' else 0, axis =1)\n",
    "\n",
    "plt.figure(figsize=(15,15))\n",
    "sns.heatmap(df_hm.corr(),annot=True,cmap='viridis', linewidth=1)\n",
    "plt.ylim(12, 0)\n",
    "save('/building_ann/heatmap.png')"
   ]
  },
  {
   "cell_type": "code",
   "execution_count": 12,
   "metadata": {
    "scrolled": true
   },
   "outputs": [
    {
     "data": {
      "image/png": "[encoded data removed]",
      "text/plain": [
       "<Figure size 360x360 with 1 Axes>"
      ]
     },
     "metadata": {
      "needs_background": "light"
     },
     "output_type": "display_data"
    }
   ],
   "source": [
    "plt.figure(figsize=(5,5))\n",
    "sns.scatterplot(x='age',y='bmi',data=df)\n",
    "save('/building_ann/age_bmi_scatterplot.png')"
   ]
  },
  {
   "cell_type": "code",
   "execution_count": 96,
   "metadata": {},
   "outputs": [
    {
     "data": {
      "image/png": "[encoded data removed]",
      "text/plain": [
       "<Figure size 360x360 with 1 Axes>"
      ]
     },
     "metadata": {
      "needs_background": "light"
     },
     "output_type": "display_data"
    }
   ],
   "source": [
    "plt.figure(figsize=(5,5))\n",
    "df = pd.read_csv(\"../input/stroke-dataset/stroke.csv\")\n",
    "sns.countplot(x='smoking_status',data=df,hue='gender')\n",
    "save('/building_ann/smoking_scatterplot.png')"
   ]
  },
  {
   "cell_type": "code",
   "execution_count": 97,
   "metadata": {},
   "outputs": [
    {
     "ename": "ValueError",
     "evalue": "Could not interpret input 'smoking_status'",
     "output_type": "error",
     "traceback": [
      "\u001b[1;31m---------------------------------------------------------------------------\u001b[0m",
      "\u001b[1;31mValueError\u001b[0m                                Traceback (most recent call last)",
      "\u001b[1;32m<ipython-input-97-3b9ba280f10e>\u001b[0m in \u001b[0;36m<module>\u001b[1;34m\u001b[0m\n\u001b[0;32m      1\u001b[0m \u001b[0mdf\u001b[0m \u001b[1;33m=\u001b[0m \u001b[0mpd\u001b[0m\u001b[1;33m.\u001b[0m\u001b[0mDataFrame\u001b[0m\u001b[1;33m(\u001b[0m\u001b[0mdict\u001b[0m\u001b[1;33m(\u001b[0m\u001b[0mx\u001b[0m\u001b[1;33m=\u001b[0m\u001b[0mnp\u001b[0m\u001b[1;33m.\u001b[0m\u001b[0mrandom\u001b[0m\u001b[1;33m.\u001b[0m\u001b[0mpoisson\u001b[0m\u001b[1;33m(\u001b[0m\u001b[1;36m4\u001b[0m\u001b[1;33m,\u001b[0m \u001b[1;36m500\u001b[0m\u001b[1;33m)\u001b[0m\u001b[1;33m)\u001b[0m\u001b[1;33m)\u001b[0m\u001b[1;33m\u001b[0m\u001b[1;33m\u001b[0m\u001b[0m\n\u001b[1;32m----> 2\u001b[1;33m \u001b[0max\u001b[0m \u001b[1;33m=\u001b[0m \u001b[0msns\u001b[0m\u001b[1;33m.\u001b[0m\u001b[0mbarplot\u001b[0m\u001b[1;33m(\u001b[0m\u001b[0mx\u001b[0m\u001b[1;33m=\u001b[0m\u001b[1;34m'smoking_status'\u001b[0m\u001b[1;33m,\u001b[0m \u001b[0my\u001b[0m\u001b[1;33m=\u001b[0m\u001b[1;34m'gender'\u001b[0m\u001b[1;33m,\u001b[0m \u001b[0mdata\u001b[0m\u001b[1;33m=\u001b[0m\u001b[0mdf\u001b[0m\u001b[1;33m,\u001b[0m \u001b[0mestimator\u001b[0m\u001b[1;33m=\u001b[0m\u001b[1;32mlambda\u001b[0m \u001b[0mx\u001b[0m\u001b[1;33m:\u001b[0m \u001b[0mlen\u001b[0m\u001b[1;33m(\u001b[0m\u001b[0mx\u001b[0m\u001b[1;33m)\u001b[0m \u001b[1;33m/\u001b[0m \u001b[0mlen\u001b[0m\u001b[1;33m(\u001b[0m\u001b[0mdf\u001b[0m\u001b[1;33m)\u001b[0m \u001b[1;33m*\u001b[0m \u001b[1;36m100\u001b[0m\u001b[1;33m)\u001b[0m\u001b[1;33m\u001b[0m\u001b[1;33m\u001b[0m\u001b[0m\n\u001b[0m",
      "\u001b[1;32m~\\Anaconda3\\lib\\site-packages\\seaborn\\categorical.py\u001b[0m in \u001b[0;36mbarplot\u001b[1;34m(x, y, hue, data, order, hue_order, estimator, ci, n_boot, units, orient, color, palette, saturation, errcolor, errwidth, capsize, dodge, ax, **kwargs)\u001b[0m\n\u001b[0;32m   3147\u001b[0m                           \u001b[0mestimator\u001b[0m\u001b[1;33m,\u001b[0m \u001b[0mci\u001b[0m\u001b[1;33m,\u001b[0m \u001b[0mn_boot\u001b[0m\u001b[1;33m,\u001b[0m \u001b[0munits\u001b[0m\u001b[1;33m,\u001b[0m\u001b[1;33m\u001b[0m\u001b[1;33m\u001b[0m\u001b[0m\n\u001b[0;32m   3148\u001b[0m                           \u001b[0morient\u001b[0m\u001b[1;33m,\u001b[0m \u001b[0mcolor\u001b[0m\u001b[1;33m,\u001b[0m \u001b[0mpalette\u001b[0m\u001b[1;33m,\u001b[0m \u001b[0msaturation\u001b[0m\u001b[1;33m,\u001b[0m\u001b[1;33m\u001b[0m\u001b[1;33m\u001b[0m\u001b[0m\n\u001b[1;32m-> 3149\u001b[1;33m                           errcolor, errwidth, capsize, dodge)\n\u001b[0m\u001b[0;32m   3150\u001b[0m \u001b[1;33m\u001b[0m\u001b[0m\n\u001b[0;32m   3151\u001b[0m     \u001b[1;32mif\u001b[0m \u001b[0max\u001b[0m \u001b[1;32mis\u001b[0m \u001b[1;32mNone\u001b[0m\u001b[1;33m:\u001b[0m\u001b[1;33m\u001b[0m\u001b[1;33m\u001b[0m\u001b[0m\n",
      "\u001b[1;32m~\\Anaconda3\\lib\\site-packages\\seaborn\\categorical.py\u001b[0m in \u001b[0;36m__init__\u001b[1;34m(self, x, y, hue, data, order, hue_order, estimator, ci, n_boot, units, orient, color, palette, saturation, errcolor, errwidth, capsize, dodge)\u001b[0m\n\u001b[0;32m   1605\u001b[0m         \u001b[1;34m\"\"\"Initialize the plotter.\"\"\"\u001b[0m\u001b[1;33m\u001b[0m\u001b[1;33m\u001b[0m\u001b[0m\n\u001b[0;32m   1606\u001b[0m         self.establish_variables(x, y, hue, data, orient,\n\u001b[1;32m-> 1607\u001b[1;33m                                  order, hue_order, units)\n\u001b[0m\u001b[0;32m   1608\u001b[0m         \u001b[0mself\u001b[0m\u001b[1;33m.\u001b[0m\u001b[0mestablish_colors\u001b[0m\u001b[1;33m(\u001b[0m\u001b[0mcolor\u001b[0m\u001b[1;33m,\u001b[0m \u001b[0mpalette\u001b[0m\u001b[1;33m,\u001b[0m \u001b[0msaturation\u001b[0m\u001b[1;33m)\u001b[0m\u001b[1;33m\u001b[0m\u001b[1;33m\u001b[0m\u001b[0m\n\u001b[0;32m   1609\u001b[0m         \u001b[0mself\u001b[0m\u001b[1;33m.\u001b[0m\u001b[0mestimate_statistic\u001b[0m\u001b[1;33m(\u001b[0m\u001b[0mestimator\u001b[0m\u001b[1;33m,\u001b[0m \u001b[0mci\u001b[0m\u001b[1;33m,\u001b[0m \u001b[0mn_boot\u001b[0m\u001b[1;33m)\u001b[0m\u001b[1;33m\u001b[0m\u001b[1;33m\u001b[0m\u001b[0m\n",
      "\u001b[1;32m~\\Anaconda3\\lib\\site-packages\\seaborn\\categorical.py\u001b[0m in \u001b[0;36mestablish_variables\u001b[1;34m(self, x, y, hue, data, orient, order, hue_order, units)\u001b[0m\n\u001b[0;32m    153\u001b[0m                 \u001b[1;32mif\u001b[0m \u001b[0misinstance\u001b[0m\u001b[1;33m(\u001b[0m\u001b[0minput\u001b[0m\u001b[1;33m,\u001b[0m \u001b[0mstring_types\u001b[0m\u001b[1;33m)\u001b[0m\u001b[1;33m:\u001b[0m\u001b[1;33m\u001b[0m\u001b[1;33m\u001b[0m\u001b[0m\n\u001b[0;32m    154\u001b[0m                     \u001b[0merr\u001b[0m \u001b[1;33m=\u001b[0m \u001b[1;34m\"Could not interpret input '{}'\"\u001b[0m\u001b[1;33m.\u001b[0m\u001b[0mformat\u001b[0m\u001b[1;33m(\u001b[0m\u001b[0minput\u001b[0m\u001b[1;33m)\u001b[0m\u001b[1;33m\u001b[0m\u001b[1;33m\u001b[0m\u001b[0m\n\u001b[1;32m--> 155\u001b[1;33m                     \u001b[1;32mraise\u001b[0m \u001b[0mValueError\u001b[0m\u001b[1;33m(\u001b[0m\u001b[0merr\u001b[0m\u001b[1;33m)\u001b[0m\u001b[1;33m\u001b[0m\u001b[1;33m\u001b[0m\u001b[0m\n\u001b[0m\u001b[0;32m    156\u001b[0m \u001b[1;33m\u001b[0m\u001b[0m\n\u001b[0;32m    157\u001b[0m             \u001b[1;31m# Figure out the plotting orientation\u001b[0m\u001b[1;33m\u001b[0m\u001b[1;33m\u001b[0m\u001b[1;33m\u001b[0m\u001b[0m\n",
      "\u001b[1;31mValueError\u001b[0m: Could not interpret input 'smoking_status'"
     ]
    }
   ],
   "source": [
    "df = pd.DataFrame(dict(x=np.random.poisson(4, 500)))\n",
    "ax = sns.barplot(x='smoking_status', y='gender', data=df, estimator=lambda x: len(x) / len(df) * 100)"
   ]
  },
  {
   "cell_type": "code",
   "execution_count": 43,
   "metadata": {
    "scrolled": true
   },
   "outputs": [
    {
     "data": {
      "text/plain": [
       "0.4438138479001135"
      ]
     },
     "execution_count": 43,
     "metadata": {},
     "output_type": "execute_result"
    }
   ],
   "source": [
    "len(df[df['stroke'] == 1 ])/len(df)"
   ]
  },
  {
   "cell_type": "code",
   "execution_count": null,
   "metadata": {},
   "outputs": [],
   "source": []
  },
  {
   "cell_type": "code",
   "execution_count": 125,
   "metadata": {},
   "outputs": [
    {
     "data": {
      "text/plain": [
       "<matplotlib.axes._subplots.AxesSubplot at 0x28095e376c8>"
      ]
     },
     "execution_count": 125,
     "metadata": {},
     "output_type": "execute_result"
    },
    {
     "data": {
      "image/png": "[encoded data removed]",
      "text/plain": [
       "<Figure size 360x360 with 1 Axes>"
      ]
     },
     "metadata": {
      "needs_background": "light"
     },
     "output_type": "display_data"
    }
   ],
   "source": [
    "# Adapted code from: https://github.com/mwaskom/seaborn/issues/1027\n",
    "plt.figure(figsize=(5,5))\n",
    "df = pd.read_csv(\"../input/stroke-dataset/stroke.csv\")\n",
    "x, y, hue = \"smoking_status\", \"percentage\", \"gender\"\n",
    "hue_order = [\"Male\", \"Female\"]\n",
    "\n",
    "#f, axes = plt.subplots(1, 2)\n",
    "# sns.countplot(x=x, hue=hue, data=df, ax=axes[0])\n",
    "prop_df = (df[x]\n",
    "           .groupby(df[hue])\n",
    "           .value_counts(normalize=True)\n",
    "           .rename(y)\n",
    "           .reset_index())\n",
    "\n",
    "sns.barplot(x=x, y=y, hue=hue, data=prop_df)#, ax=axes[1])"
   ]
  },
  {
   "cell_type": "code",
   "execution_count": 127,
   "metadata": {},
   "outputs": [
    {
     "name": "stdout",
     "output_type": "stream",
     "text": [
      "smoking_status\n",
      "formerly smoked    0.029494\n",
      "never smoked       0.017691\n",
      "smokes             0.020268\n",
      "Name: stroke, dtype: float64\n"
     ]
    }
   ],
   "source": [
    "\n",
    "stroke_y = df[df['stroke'] == 1 ].groupby(\"smoking_status\").count()['stroke']\n",
    "stroke_n = df[df['stroke'] == 0 ].groupby(\"smoking_status\").count()['stroke']\n",
    "print(stroke_y/(stroke_y + stroke_n))"
   ]
  },
  {
   "cell_type": "code",
   "execution_count": 134,
   "metadata": {},
   "outputs": [
    {
     "data": {
      "text/plain": [
       "smoking_status   stroke\n",
       "formerly smoked  0         0.970506\n",
       "                 1         0.029494\n",
       "never smoked     0         0.982309\n",
       "                 1         0.017691\n",
       "smokes           0         0.979732\n",
       "                 1         0.020268\n",
       "Name: stroke, dtype: float64"
      ]
     },
     "execution_count": 134,
     "metadata": {},
     "output_type": "execute_result"
    }
   ],
   "source": [
    "df.groupby(\"smoking_status\")['stroke'].value_counts(normalize=True)"
   ]
  },
  {
   "cell_type": "code",
   "execution_count": 132,
   "metadata": {},
   "outputs": [
    {
     "ename": "AttributeError",
     "evalue": "'DataFrameGroupBy' object has no attribute 'value_counts'",
     "output_type": "error",
     "traceback": [
      "\u001b[1;31m---------------------------------------------------------------------------\u001b[0m",
      "\u001b[1;31mAttributeError\u001b[0m                            Traceback (most recent call last)",
      "\u001b[1;32m<ipython-input-132-0daa874b50dd>\u001b[0m in \u001b[0;36m<module>\u001b[1;34m\u001b[0m\n\u001b[1;32m----> 1\u001b[1;33m \u001b[0mdf\u001b[0m\u001b[1;33m[\u001b[0m\u001b[0mdf\u001b[0m\u001b[1;33m[\u001b[0m\u001b[1;34m'stroke'\u001b[0m\u001b[1;33m]\u001b[0m \u001b[1;33m==\u001b[0m \u001b[1;36m1\u001b[0m \u001b[1;33m]\u001b[0m\u001b[1;33m.\u001b[0m\u001b[0mgroupby\u001b[0m\u001b[1;33m(\u001b[0m\u001b[1;34m\"smoking_status\"\u001b[0m\u001b[1;33m)\u001b[0m\u001b[1;33m.\u001b[0m\u001b[0mvalue_counts\u001b[0m\u001b[1;33m(\u001b[0m\u001b[0mnormalize\u001b[0m\u001b[1;33m=\u001b[0m\u001b[1;32mTrue\u001b[0m\u001b[1;33m)\u001b[0m\u001b[1;33m\u001b[0m\u001b[1;33m\u001b[0m\u001b[0m\n\u001b[0m",
      "\u001b[1;32m~\\Anaconda3\\lib\\site-packages\\pandas\\core\\groupby\\groupby.py\u001b[0m in \u001b[0;36m__getattr__\u001b[1;34m(self, attr)\u001b[0m\n\u001b[0;32m    564\u001b[0m \u001b[1;33m\u001b[0m\u001b[0m\n\u001b[0;32m    565\u001b[0m         raise AttributeError(\n\u001b[1;32m--> 566\u001b[1;33m             \u001b[1;34m\"%r object has no attribute %r\"\u001b[0m \u001b[1;33m%\u001b[0m \u001b[1;33m(\u001b[0m\u001b[0mtype\u001b[0m\u001b[1;33m(\u001b[0m\u001b[0mself\u001b[0m\u001b[1;33m)\u001b[0m\u001b[1;33m.\u001b[0m\u001b[0m__name__\u001b[0m\u001b[1;33m,\u001b[0m \u001b[0mattr\u001b[0m\u001b[1;33m)\u001b[0m\u001b[1;33m\u001b[0m\u001b[1;33m\u001b[0m\u001b[0m\n\u001b[0m\u001b[0;32m    567\u001b[0m         )\n\u001b[0;32m    568\u001b[0m \u001b[1;33m\u001b[0m\u001b[0m\n",
      "\u001b[1;31mAttributeError\u001b[0m: 'DataFrameGroupBy' object has no attribute 'value_counts'"
     ]
    }
   ],
   "source": [
    "df[df['stroke'] == 1 ].groupby(\"smoking_status\").value_counts(normalize=True)"
   ]
  },
  {
   "cell_type": "code",
   "execution_count": 16,
   "metadata": {},
   "outputs": [
    {
     "data": {
      "text/plain": [
       "array([1023,  739], dtype=int64)"
      ]
     },
     "execution_count": 16,
     "metadata": {},
     "output_type": "execute_result"
    }
   ],
   "source": [
    "np.bincount(df.apply(lambda x : 1 if x['gender']=='Male' else 0, axis =1))"
   ]
  },
  {
   "cell_type": "code",
   "execution_count": 17,
   "metadata": {},
   "outputs": [
    {
     "data": {
      "text/plain": [
       "array([980, 782], dtype=int64)"
      ]
     },
     "execution_count": 17,
     "metadata": {},
     "output_type": "execute_result"
    }
   ],
   "source": [
    "np.bincount(df['stroke'])"
   ]
  },
  {
   "cell_type": "code",
   "execution_count": null,
   "metadata": {},
   "outputs": [],
   "source": []
  },
  {
   "cell_type": "code",
   "execution_count": 18,
   "metadata": {},
   "outputs": [],
   "source": [
    "# def fill_smoking_status(smoking_status, isMale):\n",
    "#     if smoking_status=='never smoked':\n",
    "#         return 0\n",
    "#     else: \n",
    "#         return isMale if pd.isnull(smoking_status) else 1\n",
    "# df['smoking_status'] = df.apply(lambda x : fill_smoking_status(x['smoking_status'], x['Male']), axis=1)\n",
    "\n",
    "\n",
    "\n",
    "# plt.figure(figsize=(9,9))\n",
    "# sns.heatmap(df.corr(),annot=True,cmap='viridis')\n",
    "# plt.ylim(9, 0)\n",
    "# # plt.xlim(0, 1)"
   ]
  },
  {
   "cell_type": "markdown",
   "metadata": {},
   "source": [
    "# Missing Data"
   ]
  },
  {
   "cell_type": "code",
   "execution_count": 19,
   "metadata": {},
   "outputs": [
    {
     "data": {
      "text/plain": [
       "gender                 0\n",
       "age                    0\n",
       "hypertension           0\n",
       "heart_disease          0\n",
       "ever_married           0\n",
       "work_type              0\n",
       "Residence_type         0\n",
       "avg_glucose_level      0\n",
       "bmi                  163\n",
       "smoking_status       430\n",
       "stroke                 0\n",
       "dtype: int64"
      ]
     },
     "execution_count": 19,
     "metadata": {},
     "output_type": "execute_result"
    }
   ],
   "source": [
    "df.isnull().sum()"
   ]
  },
  {
   "cell_type": "code",
   "execution_count": 20,
   "metadata": {},
   "outputs": [
    {
     "data": {
      "text/html": [
       "<div>\n",
       "<style scoped>\n",
       "    .dataframe tbody tr th:only-of-type {\n",
       "        vertical-align: middle;\n",
       "    }\n",
       "\n",
       "    .dataframe tbody tr th {\n",
       "        vertical-align: top;\n",
       "    }\n",
       "\n",
       "    .dataframe thead th {\n",
       "        text-align: right;\n",
       "    }\n",
       "</style>\n",
       "<table border=\"1\" class=\"dataframe\">\n",
       "  <thead>\n",
       "    <tr style=\"text-align: right;\">\n",
       "      <th></th>\n",
       "      <th>age</th>\n",
       "      <th>hypertension</th>\n",
       "      <th>heart_disease</th>\n",
       "      <th>avg_glucose_level</th>\n",
       "      <th>bmi</th>\n",
       "      <th>stroke</th>\n",
       "      <th>never smoked</th>\n",
       "      <th>smokes</th>\n",
       "      <th>Male</th>\n",
       "      <th>Never_worked</th>\n",
       "      <th>Private</th>\n",
       "      <th>Self-employed</th>\n",
       "      <th>children</th>\n",
       "      <th>Married</th>\n",
       "      <th>Urban</th>\n",
       "    </tr>\n",
       "  </thead>\n",
       "  <tbody>\n",
       "    <tr>\n",
       "      <td>0</td>\n",
       "      <td>67.0</td>\n",
       "      <td>0</td>\n",
       "      <td>1</td>\n",
       "      <td>228.69</td>\n",
       "      <td>36.600000</td>\n",
       "      <td>1</td>\n",
       "      <td>0</td>\n",
       "      <td>0</td>\n",
       "      <td>1</td>\n",
       "      <td>0</td>\n",
       "      <td>1</td>\n",
       "      <td>0</td>\n",
       "      <td>0</td>\n",
       "      <td>1</td>\n",
       "      <td>1</td>\n",
       "    </tr>\n",
       "    <tr>\n",
       "      <td>1</td>\n",
       "      <td>61.0</td>\n",
       "      <td>0</td>\n",
       "      <td>0</td>\n",
       "      <td>202.21</td>\n",
       "      <td>29.581844</td>\n",
       "      <td>1</td>\n",
       "      <td>1</td>\n",
       "      <td>0</td>\n",
       "      <td>0</td>\n",
       "      <td>0</td>\n",
       "      <td>0</td>\n",
       "      <td>1</td>\n",
       "      <td>0</td>\n",
       "      <td>1</td>\n",
       "      <td>0</td>\n",
       "    </tr>\n",
       "    <tr>\n",
       "      <td>2</td>\n",
       "      <td>80.0</td>\n",
       "      <td>0</td>\n",
       "      <td>1</td>\n",
       "      <td>105.92</td>\n",
       "      <td>32.500000</td>\n",
       "      <td>1</td>\n",
       "      <td>1</td>\n",
       "      <td>0</td>\n",
       "      <td>1</td>\n",
       "      <td>0</td>\n",
       "      <td>1</td>\n",
       "      <td>0</td>\n",
       "      <td>0</td>\n",
       "      <td>1</td>\n",
       "      <td>0</td>\n",
       "    </tr>\n",
       "    <tr>\n",
       "      <td>3</td>\n",
       "      <td>49.0</td>\n",
       "      <td>0</td>\n",
       "      <td>0</td>\n",
       "      <td>171.23</td>\n",
       "      <td>34.400000</td>\n",
       "      <td>1</td>\n",
       "      <td>0</td>\n",
       "      <td>1</td>\n",
       "      <td>0</td>\n",
       "      <td>0</td>\n",
       "      <td>1</td>\n",
       "      <td>0</td>\n",
       "      <td>0</td>\n",
       "      <td>1</td>\n",
       "      <td>1</td>\n",
       "    </tr>\n",
       "    <tr>\n",
       "      <td>4</td>\n",
       "      <td>79.0</td>\n",
       "      <td>1</td>\n",
       "      <td>0</td>\n",
       "      <td>174.12</td>\n",
       "      <td>24.000000</td>\n",
       "      <td>1</td>\n",
       "      <td>1</td>\n",
       "      <td>0</td>\n",
       "      <td>0</td>\n",
       "      <td>0</td>\n",
       "      <td>0</td>\n",
       "      <td>1</td>\n",
       "      <td>0</td>\n",
       "      <td>1</td>\n",
       "      <td>0</td>\n",
       "    </tr>\n",
       "    <tr>\n",
       "      <td>...</td>\n",
       "      <td>...</td>\n",
       "      <td>...</td>\n",
       "      <td>...</td>\n",
       "      <td>...</td>\n",
       "      <td>...</td>\n",
       "      <td>...</td>\n",
       "      <td>...</td>\n",
       "      <td>...</td>\n",
       "      <td>...</td>\n",
       "      <td>...</td>\n",
       "      <td>...</td>\n",
       "      <td>...</td>\n",
       "      <td>...</td>\n",
       "      <td>...</td>\n",
       "      <td>...</td>\n",
       "    </tr>\n",
       "    <tr>\n",
       "      <td>1757</td>\n",
       "      <td>65.0</td>\n",
       "      <td>0</td>\n",
       "      <td>0</td>\n",
       "      <td>88.57</td>\n",
       "      <td>29.000000</td>\n",
       "      <td>0</td>\n",
       "      <td>0</td>\n",
       "      <td>1</td>\n",
       "      <td>1</td>\n",
       "      <td>0</td>\n",
       "      <td>1</td>\n",
       "      <td>0</td>\n",
       "      <td>0</td>\n",
       "      <td>1</td>\n",
       "      <td>1</td>\n",
       "    </tr>\n",
       "    <tr>\n",
       "      <td>1758</td>\n",
       "      <td>65.0</td>\n",
       "      <td>1</td>\n",
       "      <td>0</td>\n",
       "      <td>180.76</td>\n",
       "      <td>26.900000</td>\n",
       "      <td>0</td>\n",
       "      <td>1</td>\n",
       "      <td>0</td>\n",
       "      <td>0</td>\n",
       "      <td>0</td>\n",
       "      <td>1</td>\n",
       "      <td>0</td>\n",
       "      <td>0</td>\n",
       "      <td>1</td>\n",
       "      <td>1</td>\n",
       "    </tr>\n",
       "    <tr>\n",
       "      <td>1759</td>\n",
       "      <td>46.0</td>\n",
       "      <td>0</td>\n",
       "      <td>0</td>\n",
       "      <td>83.12</td>\n",
       "      <td>29.600000</td>\n",
       "      <td>0</td>\n",
       "      <td>0</td>\n",
       "      <td>0</td>\n",
       "      <td>1</td>\n",
       "      <td>0</td>\n",
       "      <td>0</td>\n",
       "      <td>1</td>\n",
       "      <td>0</td>\n",
       "      <td>1</td>\n",
       "      <td>1</td>\n",
       "    </tr>\n",
       "    <tr>\n",
       "      <td>1760</td>\n",
       "      <td>53.0</td>\n",
       "      <td>0</td>\n",
       "      <td>0</td>\n",
       "      <td>94.89</td>\n",
       "      <td>28.500000</td>\n",
       "      <td>0</td>\n",
       "      <td>1</td>\n",
       "      <td>0</td>\n",
       "      <td>1</td>\n",
       "      <td>0</td>\n",
       "      <td>0</td>\n",
       "      <td>1</td>\n",
       "      <td>0</td>\n",
       "      <td>1</td>\n",
       "      <td>1</td>\n",
       "    </tr>\n",
       "    <tr>\n",
       "      <td>1761</td>\n",
       "      <td>79.0</td>\n",
       "      <td>0</td>\n",
       "      <td>0</td>\n",
       "      <td>239.52</td>\n",
       "      <td>25.500000</td>\n",
       "      <td>0</td>\n",
       "      <td>1</td>\n",
       "      <td>0</td>\n",
       "      <td>0</td>\n",
       "      <td>0</td>\n",
       "      <td>1</td>\n",
       "      <td>0</td>\n",
       "      <td>0</td>\n",
       "      <td>0</td>\n",
       "      <td>0</td>\n",
       "    </tr>\n",
       "  </tbody>\n",
       "</table>\n",
       "<p>1762 rows × 15 columns</p>\n",
       "</div>"
      ],
      "text/plain": [
       "       age  hypertension  heart_disease  avg_glucose_level        bmi  stroke  \\\n",
       "0     67.0             0              1             228.69  36.600000       1   \n",
       "1     61.0             0              0             202.21  29.581844       1   \n",
       "2     80.0             0              1             105.92  32.500000       1   \n",
       "3     49.0             0              0             171.23  34.400000       1   \n",
       "4     79.0             1              0             174.12  24.000000       1   \n",
       "...    ...           ...            ...                ...        ...     ...   \n",
       "1757  65.0             0              0              88.57  29.000000       0   \n",
       "1758  65.0             1              0             180.76  26.900000       0   \n",
       "1759  46.0             0              0              83.12  29.600000       0   \n",
       "1760  53.0             0              0              94.89  28.500000       0   \n",
       "1761  79.0             0              0             239.52  25.500000       0   \n",
       "\n",
       "      never smoked  smokes  Male  Never_worked  Private  Self-employed  \\\n",
       "0                0       0     1             0        1              0   \n",
       "1                1       0     0             0        0              1   \n",
       "2                1       0     1             0        1              0   \n",
       "3                0       1     0             0        1              0   \n",
       "4                1       0     0             0        0              1   \n",
       "...            ...     ...   ...           ...      ...            ...   \n",
       "1757             0       1     1             0        1              0   \n",
       "1758             1       0     0             0        1              0   \n",
       "1759             0       0     1             0        0              1   \n",
       "1760             1       0     1             0        0              1   \n",
       "1761             1       0     0             0        1              0   \n",
       "\n",
       "      children  Married  Urban  \n",
       "0            0        1      1  \n",
       "1            0        1      0  \n",
       "2            0        1      0  \n",
       "3            0        1      1  \n",
       "4            0        1      0  \n",
       "...        ...      ...    ...  \n",
       "1757         0        1      1  \n",
       "1758         0        1      1  \n",
       "1759         0        1      1  \n",
       "1760         0        1      1  \n",
       "1761         0        0      0  \n",
       "\n",
       "[1762 rows x 15 columns]"
      ]
     },
     "execution_count": 20,
     "metadata": {},
     "output_type": "execute_result"
    }
   ],
   "source": [
    "\n",
    "\n",
    "def fill_smoking_status(smoking_status, work_type, gender):\n",
    "    if not pd.isnull(smoking_status):\n",
    "        return smoking_status\n",
    "    if work_type=='children' or gender =='Female':\n",
    "        return 'never smoked'\n",
    "    return 'smokes'\n",
    "\n",
    "df['smoking_status'] = df.apply(lambda x : fill_smoking_status(x['smoking_status'], x['work_type'], x['gender']), axis=1)\n",
    "\n",
    "smoking_dummies = pd.get_dummies(df['smoking_status'],drop_first=True)\n",
    "df = pd.concat([df.drop('smoking_status',axis=1),smoking_dummies],axis=1)\n",
    "\n",
    "df['gender'] = df['gender'].replace([\"Other\"], \"Male\")\n",
    "gender_dummies = pd.get_dummies(df['gender'],drop_first=True)\n",
    "df = pd.concat([df.drop('gender',axis=1),gender_dummies],axis=1)\n",
    "\n",
    "bmi_avg= df.groupby('work_type').mean()['bmi']\n",
    "df['bmi'] = df.apply(lambda x : bmi_avg[x['work_type']] if np.isnan(x['bmi']) else x['bmi'], axis =1)\n",
    "\n",
    "\n",
    "work_type_dummies = pd.get_dummies(df['work_type'],drop_first=True)\n",
    "df = pd.concat([df.drop('work_type',axis=1),work_type_dummies],axis=1)\n",
    "\n",
    "married_dummies = pd.get_dummies(df['ever_married'],drop_first=True)\n",
    "df = pd.concat([df.drop('ever_married',axis=1),married_dummies],axis=1)\n",
    "df = df.rename(columns={'Yes': 'Married'})\n",
    "\n",
    "residence_dummies = pd.get_dummies(df['Residence_type'],drop_first=True)\n",
    "df = pd.concat([df.drop('Residence_type',axis=1),residence_dummies],axis=1)\n",
    "\n",
    "# df = df.drop('id',axis=1)\n",
    "\n",
    "\n",
    "df"
   ]
  },
  {
   "cell_type": "code",
   "execution_count": null,
   "metadata": {},
   "outputs": [],
   "source": []
  },
  {
   "cell_type": "code",
   "execution_count": 21,
   "metadata": {},
   "outputs": [
    {
     "data": {
      "text/plain": [
       "age                  0\n",
       "hypertension         0\n",
       "heart_disease        0\n",
       "avg_glucose_level    0\n",
       "bmi                  0\n",
       "stroke               0\n",
       "never smoked         0\n",
       "smokes               0\n",
       "Male                 0\n",
       "Never_worked         0\n",
       "Private              0\n",
       "Self-employed        0\n",
       "children             0\n",
       "Married              0\n",
       "Urban                0\n",
       "dtype: int64"
      ]
     },
     "execution_count": 21,
     "metadata": {},
     "output_type": "execute_result"
    }
   ],
   "source": [
    "\n",
    "df.isnull().sum()"
   ]
  },
  {
   "cell_type": "code",
   "execution_count": null,
   "metadata": {},
   "outputs": [],
   "source": []
  },
  {
   "cell_type": "code",
   "execution_count": null,
   "metadata": {},
   "outputs": [],
   "source": []
  },
  {
   "cell_type": "code",
   "execution_count": null,
   "metadata": {},
   "outputs": [],
   "source": []
  },
  {
   "cell_type": "code",
   "execution_count": 22,
   "metadata": {},
   "outputs": [
    {
     "data": {
      "text/plain": [
       "<matplotlib.axes._subplots.AxesSubplot at 0x280882a55c8>"
      ]
     },
     "execution_count": 22,
     "metadata": {},
     "output_type": "execute_result"
    },
    {
     "data": {
      "image/png": "[encoded data removed]",
      "text/plain": [
       "<Figure size 576x576 with 1 Axes>"
      ]
     },
     "metadata": {
      "needs_background": "light"
     },
     "output_type": "display_data"
    }
   ],
   "source": [
    "plt.figure(figsize=(8,8))\n",
    "sns.boxplot(x='stroke',y='age',data=df)"
   ]
  },
  {
   "cell_type": "code",
   "execution_count": null,
   "metadata": {},
   "outputs": [],
   "source": []
  },
  {
   "cell_type": "code",
   "execution_count": 23,
   "metadata": {},
   "outputs": [],
   "source": [
    "# # sorted(df['smoking_status'].unique())\n",
    "# plt.figure(figsize=(10,10))\n",
    "# sns.countplot(x='stroke',data=df,hue='smoking_status')"
   ]
  },
  {
   "cell_type": "code",
   "execution_count": 24,
   "metadata": {},
   "outputs": [
    {
     "data": {
      "text/html": [
       "<div>\n",
       "<style scoped>\n",
       "    .dataframe tbody tr th:only-of-type {\n",
       "        vertical-align: middle;\n",
       "    }\n",
       "\n",
       "    .dataframe tbody tr th {\n",
       "        vertical-align: top;\n",
       "    }\n",
       "\n",
       "    .dataframe thead th {\n",
       "        text-align: right;\n",
       "    }\n",
       "</style>\n",
       "<table border=\"1\" class=\"dataframe\">\n",
       "  <thead>\n",
       "    <tr style=\"text-align: right;\">\n",
       "      <th></th>\n",
       "      <th>age</th>\n",
       "      <th>hypertension</th>\n",
       "      <th>heart_disease</th>\n",
       "      <th>avg_glucose_level</th>\n",
       "      <th>bmi</th>\n",
       "      <th>stroke</th>\n",
       "      <th>never smoked</th>\n",
       "      <th>smokes</th>\n",
       "      <th>Male</th>\n",
       "      <th>Never_worked</th>\n",
       "      <th>Private</th>\n",
       "      <th>Self-employed</th>\n",
       "      <th>children</th>\n",
       "      <th>Married</th>\n",
       "      <th>Urban</th>\n",
       "    </tr>\n",
       "  </thead>\n",
       "  <tbody>\n",
       "    <tr>\n",
       "      <td>age</td>\n",
       "      <td>1.000000</td>\n",
       "      <td>0.267847</td>\n",
       "      <td>0.294475</td>\n",
       "      <td>0.246566</td>\n",
       "      <td>0.163048</td>\n",
       "      <td>0.579968</td>\n",
       "      <td>-0.190074</td>\n",
       "      <td>0.009105</td>\n",
       "      <td>0.013431</td>\n",
       "      <td>-0.087147</td>\n",
       "      <td>0.011899</td>\n",
       "      <td>0.313666</td>\n",
       "      <td>-0.576320</td>\n",
       "      <td>0.573934</td>\n",
       "      <td>0.037018</td>\n",
       "    </tr>\n",
       "    <tr>\n",
       "      <td>hypertension</td>\n",
       "      <td>0.267847</td>\n",
       "      <td>1.000000</td>\n",
       "      <td>0.118990</td>\n",
       "      <td>0.142819</td>\n",
       "      <td>0.113083</td>\n",
       "      <td>0.224668</td>\n",
       "      <td>-0.025376</td>\n",
       "      <td>-0.035926</td>\n",
       "      <td>-0.004269</td>\n",
       "      <td>-0.023531</td>\n",
       "      <td>-0.029921</td>\n",
       "      <td>0.120370</td>\n",
       "      <td>-0.121367</td>\n",
       "      <td>0.121496</td>\n",
       "      <td>0.010258</td>\n",
       "    </tr>\n",
       "    <tr>\n",
       "      <td>heart_disease</td>\n",
       "      <td>0.294475</td>\n",
       "      <td>0.118990</td>\n",
       "      <td>1.000000</td>\n",
       "      <td>0.199041</td>\n",
       "      <td>0.017320</td>\n",
       "      <td>0.278404</td>\n",
       "      <td>-0.124201</td>\n",
       "      <td>0.063402</td>\n",
       "      <td>0.110268</td>\n",
       "      <td>-0.020045</td>\n",
       "      <td>-0.014192</td>\n",
       "      <td>0.095595</td>\n",
       "      <td>-0.103385</td>\n",
       "      <td>0.117976</td>\n",
       "      <td>-0.021110</td>\n",
       "    </tr>\n",
       "    <tr>\n",
       "      <td>avg_glucose_level</td>\n",
       "      <td>0.246566</td>\n",
       "      <td>0.142819</td>\n",
       "      <td>0.199041</td>\n",
       "      <td>1.000000</td>\n",
       "      <td>0.175658</td>\n",
       "      <td>0.229474</td>\n",
       "      <td>-0.071842</td>\n",
       "      <td>0.019092</td>\n",
       "      <td>0.055109</td>\n",
       "      <td>0.003598</td>\n",
       "      <td>0.013565</td>\n",
       "      <td>0.044188</td>\n",
       "      <td>-0.110076</td>\n",
       "      <td>0.166297</td>\n",
       "      <td>-0.039946</td>\n",
       "    </tr>\n",
       "    <tr>\n",
       "      <td>bmi</td>\n",
       "      <td>0.163048</td>\n",
       "      <td>0.113083</td>\n",
       "      <td>0.017320</td>\n",
       "      <td>0.175658</td>\n",
       "      <td>1.000000</td>\n",
       "      <td>0.043374</td>\n",
       "      <td>-0.118906</td>\n",
       "      <td>0.065251</td>\n",
       "      <td>-0.007373</td>\n",
       "      <td>-0.059979</td>\n",
       "      <td>0.183033</td>\n",
       "      <td>-0.000843</td>\n",
       "      <td>-0.359148</td>\n",
       "      <td>0.220638</td>\n",
       "      <td>0.022440</td>\n",
       "    </tr>\n",
       "    <tr>\n",
       "      <td>stroke</td>\n",
       "      <td>0.579968</td>\n",
       "      <td>0.224668</td>\n",
       "      <td>0.278404</td>\n",
       "      <td>0.229474</td>\n",
       "      <td>0.043374</td>\n",
       "      <td>1.000000</td>\n",
       "      <td>-0.158064</td>\n",
       "      <td>0.042978</td>\n",
       "      <td>0.055607</td>\n",
       "      <td>-0.047653</td>\n",
       "      <td>-0.042572</td>\n",
       "      <td>0.207332</td>\n",
       "      <td>-0.241313</td>\n",
       "      <td>0.289846</td>\n",
       "      <td>0.014978</td>\n",
       "    </tr>\n",
       "    <tr>\n",
       "      <td>never smoked</td>\n",
       "      <td>-0.190074</td>\n",
       "      <td>-0.025376</td>\n",
       "      <td>-0.124201</td>\n",
       "      <td>-0.071842</td>\n",
       "      <td>-0.118906</td>\n",
       "      <td>-0.158064</td>\n",
       "      <td>1.000000</td>\n",
       "      <td>-0.616672</td>\n",
       "      <td>-0.287795</td>\n",
       "      <td>0.006331</td>\n",
       "      <td>-0.092056</td>\n",
       "      <td>-0.045444</td>\n",
       "      <td>0.253502</td>\n",
       "      <td>-0.196822</td>\n",
       "      <td>-0.034260</td>\n",
       "    </tr>\n",
       "    <tr>\n",
       "      <td>smokes</td>\n",
       "      <td>0.009105</td>\n",
       "      <td>-0.035926</td>\n",
       "      <td>0.063402</td>\n",
       "      <td>0.019092</td>\n",
       "      <td>0.065251</td>\n",
       "      <td>0.042978</td>\n",
       "      <td>-0.616672</td>\n",
       "      <td>1.000000</td>\n",
       "      <td>0.253453</td>\n",
       "      <td>0.019370</td>\n",
       "      <td>0.103113</td>\n",
       "      <td>-0.029771</td>\n",
       "      <td>-0.156328</td>\n",
       "      <td>0.074260</td>\n",
       "      <td>-0.008573</td>\n",
       "    </tr>\n",
       "    <tr>\n",
       "      <td>Male</td>\n",
       "      <td>0.013431</td>\n",
       "      <td>-0.004269</td>\n",
       "      <td>0.110268</td>\n",
       "      <td>0.055109</td>\n",
       "      <td>-0.007373</td>\n",
       "      <td>0.055607</td>\n",
       "      <td>-0.287795</td>\n",
       "      <td>0.253453</td>\n",
       "      <td>1.000000</td>\n",
       "      <td>0.041144</td>\n",
       "      <td>-0.016562</td>\n",
       "      <td>0.000919</td>\n",
       "      <td>0.040438</td>\n",
       "      <td>0.005365</td>\n",
       "      <td>0.011686</td>\n",
       "    </tr>\n",
       "    <tr>\n",
       "      <td>Never_worked</td>\n",
       "      <td>-0.087147</td>\n",
       "      <td>-0.023531</td>\n",
       "      <td>-0.020045</td>\n",
       "      <td>0.003598</td>\n",
       "      <td>-0.059979</td>\n",
       "      <td>-0.047653</td>\n",
       "      <td>0.006331</td>\n",
       "      <td>0.019370</td>\n",
       "      <td>0.041144</td>\n",
       "      <td>1.000000</td>\n",
       "      <td>-0.063651</td>\n",
       "      <td>-0.028676</td>\n",
       "      <td>-0.014678</td>\n",
       "      <td>-0.095059</td>\n",
       "      <td>0.010609</td>\n",
       "    </tr>\n",
       "    <tr>\n",
       "      <td>Private</td>\n",
       "      <td>0.011899</td>\n",
       "      <td>-0.029921</td>\n",
       "      <td>-0.014192</td>\n",
       "      <td>0.013565</td>\n",
       "      <td>0.183033</td>\n",
       "      <td>-0.042572</td>\n",
       "      <td>-0.092056</td>\n",
       "      <td>0.103113</td>\n",
       "      <td>-0.016562</td>\n",
       "      <td>-0.063651</td>\n",
       "      <td>1.000000</td>\n",
       "      <td>-0.641383</td>\n",
       "      <td>-0.328289</td>\n",
       "      <td>0.088824</td>\n",
       "      <td>-0.018647</td>\n",
       "    </tr>\n",
       "    <tr>\n",
       "      <td>Self-employed</td>\n",
       "      <td>0.313666</td>\n",
       "      <td>0.120370</td>\n",
       "      <td>0.095595</td>\n",
       "      <td>0.044188</td>\n",
       "      <td>-0.000843</td>\n",
       "      <td>0.207332</td>\n",
       "      <td>-0.045444</td>\n",
       "      <td>-0.029771</td>\n",
       "      <td>0.000919</td>\n",
       "      <td>-0.028676</td>\n",
       "      <td>-0.641383</td>\n",
       "      <td>1.000000</td>\n",
       "      <td>-0.147900</td>\n",
       "      <td>0.142225</td>\n",
       "      <td>0.044299</td>\n",
       "    </tr>\n",
       "    <tr>\n",
       "      <td>children</td>\n",
       "      <td>-0.576320</td>\n",
       "      <td>-0.121367</td>\n",
       "      <td>-0.103385</td>\n",
       "      <td>-0.110076</td>\n",
       "      <td>-0.359148</td>\n",
       "      <td>-0.241313</td>\n",
       "      <td>0.253502</td>\n",
       "      <td>-0.156328</td>\n",
       "      <td>0.040438</td>\n",
       "      <td>-0.014678</td>\n",
       "      <td>-0.328289</td>\n",
       "      <td>-0.147900</td>\n",
       "      <td>1.000000</td>\n",
       "      <td>-0.490287</td>\n",
       "      <td>-0.049128</td>\n",
       "    </tr>\n",
       "    <tr>\n",
       "      <td>Married</td>\n",
       "      <td>0.573934</td>\n",
       "      <td>0.121496</td>\n",
       "      <td>0.117976</td>\n",
       "      <td>0.166297</td>\n",
       "      <td>0.220638</td>\n",
       "      <td>0.289846</td>\n",
       "      <td>-0.196822</td>\n",
       "      <td>0.074260</td>\n",
       "      <td>0.005365</td>\n",
       "      <td>-0.095059</td>\n",
       "      <td>0.088824</td>\n",
       "      <td>0.142225</td>\n",
       "      <td>-0.490287</td>\n",
       "      <td>1.000000</td>\n",
       "      <td>0.027233</td>\n",
       "    </tr>\n",
       "    <tr>\n",
       "      <td>Urban</td>\n",
       "      <td>0.037018</td>\n",
       "      <td>0.010258</td>\n",
       "      <td>-0.021110</td>\n",
       "      <td>-0.039946</td>\n",
       "      <td>0.022440</td>\n",
       "      <td>0.014978</td>\n",
       "      <td>-0.034260</td>\n",
       "      <td>-0.008573</td>\n",
       "      <td>0.011686</td>\n",
       "      <td>0.010609</td>\n",
       "      <td>-0.018647</td>\n",
       "      <td>0.044299</td>\n",
       "      <td>-0.049128</td>\n",
       "      <td>0.027233</td>\n",
       "      <td>1.000000</td>\n",
       "    </tr>\n",
       "  </tbody>\n",
       "</table>\n",
       "</div>"
      ],
      "text/plain": [
       "                        age  hypertension  heart_disease  avg_glucose_level  \\\n",
       "age                1.000000      0.267847       0.294475           0.246566   \n",
       "hypertension       0.267847      1.000000       0.118990           0.142819   \n",
       "heart_disease      0.294475      0.118990       1.000000           0.199041   \n",
       "avg_glucose_level  0.246566      0.142819       0.199041           1.000000   \n",
       "bmi                0.163048      0.113083       0.017320           0.175658   \n",
       "stroke             0.579968      0.224668       0.278404           0.229474   \n",
       "never smoked      -0.190074     -0.025376      -0.124201          -0.071842   \n",
       "smokes             0.009105     -0.035926       0.063402           0.019092   \n",
       "Male               0.013431     -0.004269       0.110268           0.055109   \n",
       "Never_worked      -0.087147     -0.023531      -0.020045           0.003598   \n",
       "Private            0.011899     -0.029921      -0.014192           0.013565   \n",
       "Self-employed      0.313666      0.120370       0.095595           0.044188   \n",
       "children          -0.576320     -0.121367      -0.103385          -0.110076   \n",
       "Married            0.573934      0.121496       0.117976           0.166297   \n",
       "Urban              0.037018      0.010258      -0.021110          -0.039946   \n",
       "\n",
       "                        bmi    stroke  never smoked    smokes      Male  \\\n",
       "age                0.163048  0.579968     -0.190074  0.009105  0.013431   \n",
       "hypertension       0.113083  0.224668     -0.025376 -0.035926 -0.004269   \n",
       "heart_disease      0.017320  0.278404     -0.124201  0.063402  0.110268   \n",
       "avg_glucose_level  0.175658  0.229474     -0.071842  0.019092  0.055109   \n",
       "bmi                1.000000  0.043374     -0.118906  0.065251 -0.007373   \n",
       "stroke             0.043374  1.000000     -0.158064  0.042978  0.055607   \n",
       "never smoked      -0.118906 -0.158064      1.000000 -0.616672 -0.287795   \n",
       "smokes             0.065251  0.042978     -0.616672  1.000000  0.253453   \n",
       "Male              -0.007373  0.055607     -0.287795  0.253453  1.000000   \n",
       "Never_worked      -0.059979 -0.047653      0.006331  0.019370  0.041144   \n",
       "Private            0.183033 -0.042572     -0.092056  0.103113 -0.016562   \n",
       "Self-employed     -0.000843  0.207332     -0.045444 -0.029771  0.000919   \n",
       "children          -0.359148 -0.241313      0.253502 -0.156328  0.040438   \n",
       "Married            0.220638  0.289846     -0.196822  0.074260  0.005365   \n",
       "Urban              0.022440  0.014978     -0.034260 -0.008573  0.011686   \n",
       "\n",
       "                   Never_worked   Private  Self-employed  children   Married  \\\n",
       "age                   -0.087147  0.011899       0.313666 -0.576320  0.573934   \n",
       "hypertension          -0.023531 -0.029921       0.120370 -0.121367  0.121496   \n",
       "heart_disease         -0.020045 -0.014192       0.095595 -0.103385  0.117976   \n",
       "avg_glucose_level      0.003598  0.013565       0.044188 -0.110076  0.166297   \n",
       "bmi                   -0.059979  0.183033      -0.000843 -0.359148  0.220638   \n",
       "stroke                -0.047653 -0.042572       0.207332 -0.241313  0.289846   \n",
       "never smoked           0.006331 -0.092056      -0.045444  0.253502 -0.196822   \n",
       "smokes                 0.019370  0.103113      -0.029771 -0.156328  0.074260   \n",
       "Male                   0.041144 -0.016562       0.000919  0.040438  0.005365   \n",
       "Never_worked           1.000000 -0.063651      -0.028676 -0.014678 -0.095059   \n",
       "Private               -0.063651  1.000000      -0.641383 -0.328289  0.088824   \n",
       "Self-employed         -0.028676 -0.641383       1.000000 -0.147900  0.142225   \n",
       "children              -0.014678 -0.328289      -0.147900  1.000000 -0.490287   \n",
       "Married               -0.095059  0.088824       0.142225 -0.490287  1.000000   \n",
       "Urban                  0.010609 -0.018647       0.044299 -0.049128  0.027233   \n",
       "\n",
       "                      Urban  \n",
       "age                0.037018  \n",
       "hypertension       0.010258  \n",
       "heart_disease     -0.021110  \n",
       "avg_glucose_level -0.039946  \n",
       "bmi                0.022440  \n",
       "stroke             0.014978  \n",
       "never smoked      -0.034260  \n",
       "smokes            -0.008573  \n",
       "Male               0.011686  \n",
       "Never_worked       0.010609  \n",
       "Private           -0.018647  \n",
       "Self-employed      0.044299  \n",
       "children          -0.049128  \n",
       "Married            0.027233  \n",
       "Urban              1.000000  "
      ]
     },
     "execution_count": 24,
     "metadata": {},
     "output_type": "execute_result"
    }
   ],
   "source": [
    "df.corr()"
   ]
  },
  {
   "cell_type": "code",
   "execution_count": null,
   "metadata": {},
   "outputs": [],
   "source": []
  },
  {
   "cell_type": "code",
   "execution_count": null,
   "metadata": {},
   "outputs": [],
   "source": []
  },
  {
   "cell_type": "code",
   "execution_count": null,
   "metadata": {},
   "outputs": [],
   "source": []
  },
  {
   "cell_type": "code",
   "execution_count": 25,
   "metadata": {},
   "outputs": [
    {
     "data": {
      "text/html": [
       "<div>\n",
       "<style scoped>\n",
       "    .dataframe tbody tr th:only-of-type {\n",
       "        vertical-align: middle;\n",
       "    }\n",
       "\n",
       "    .dataframe tbody tr th {\n",
       "        vertical-align: top;\n",
       "    }\n",
       "\n",
       "    .dataframe thead th {\n",
       "        text-align: right;\n",
       "    }\n",
       "</style>\n",
       "<table border=\"1\" class=\"dataframe\">\n",
       "  <thead>\n",
       "    <tr style=\"text-align: right;\">\n",
       "      <th></th>\n",
       "      <th>age</th>\n",
       "      <th>hypertension</th>\n",
       "      <th>heart_disease</th>\n",
       "      <th>avg_glucose_level</th>\n",
       "      <th>bmi</th>\n",
       "      <th>stroke</th>\n",
       "      <th>never smoked</th>\n",
       "      <th>smokes</th>\n",
       "      <th>Male</th>\n",
       "      <th>Never_worked</th>\n",
       "      <th>Private</th>\n",
       "      <th>Self-employed</th>\n",
       "      <th>children</th>\n",
       "      <th>Married</th>\n",
       "      <th>Urban</th>\n",
       "    </tr>\n",
       "  </thead>\n",
       "  <tbody>\n",
       "  </tbody>\n",
       "</table>\n",
       "</div>"
      ],
      "text/plain": [
       "Empty DataFrame\n",
       "Columns: [age, hypertension, heart_disease, avg_glucose_level, bmi, stroke, never smoked, smokes, Male, Never_worked, Private, Self-employed, children, Married, Urban]\n",
       "Index: []"
      ]
     },
     "execution_count": 25,
     "metadata": {},
     "output_type": "execute_result"
    }
   ],
   "source": [
    "df.isnull().sum()\n",
    "df[np.isnan(df['bmi'])]"
   ]
  },
  {
   "cell_type": "code",
   "execution_count": null,
   "metadata": {},
   "outputs": [],
   "source": []
  },
  {
   "cell_type": "code",
   "execution_count": null,
   "metadata": {},
   "outputs": [],
   "source": []
  },
  {
   "cell_type": "code",
   "execution_count": 26,
   "metadata": {},
   "outputs": [],
   "source": [
    "# plt.figure(figsize=(17,8))\n",
    "# age_len = age_1/age_0\n",
    "# age_len.plot(kind = 'bar')"
   ]
  },
  {
   "cell_type": "code",
   "execution_count": null,
   "metadata": {},
   "outputs": [],
   "source": []
  },
  {
   "cell_type": "markdown",
   "metadata": {},
   "source": [
    "## Split Data"
   ]
  },
  {
   "cell_type": "code",
   "execution_count": 27,
   "metadata": {},
   "outputs": [],
   "source": [
    "from sklearn.model_selection import train_test_split\n",
    "df=df.sample(frac=1)"
   ]
  },
  {
   "cell_type": "code",
   "execution_count": 28,
   "metadata": {},
   "outputs": [
    {
     "data": {
      "text/plain": [
       "array([[76.,  0.,  0., ...,  0.,  1.,  1.],\n",
       "       [15.,  0.,  0., ...,  1.,  0.,  0.],\n",
       "       [40.,  0.,  0., ...,  0.,  1.,  0.],\n",
       "       ...,\n",
       "       [43.,  0.,  0., ...,  0.,  1.,  1.],\n",
       "       [45.,  0.,  0., ...,  0.,  1.,  1.],\n",
       "       [77.,  0.,  0., ...,  0.,  1.,  0.]])"
      ]
     },
     "execution_count": 28,
     "metadata": {},
     "output_type": "execute_result"
    }
   ],
   "source": [
    "X = df.drop('stroke', axis =1).values\n",
    "X"
   ]
  },
  {
   "cell_type": "code",
   "execution_count": 29,
   "metadata": {},
   "outputs": [
    {
     "data": {
      "text/plain": [
       "array([0, 0, 0, ..., 0, 1, 1], dtype=int64)"
      ]
     },
     "execution_count": 29,
     "metadata": {},
     "output_type": "execute_result"
    }
   ],
   "source": [
    "y = df['stroke'].values\n",
    "y"
   ]
  },
  {
   "cell_type": "code",
   "execution_count": 30,
   "metadata": {},
   "outputs": [],
   "source": [
    "X_train, X_test, y_train, y_test = train_test_split(X, y, test_size=0.20, random_state=101)"
   ]
  },
  {
   "cell_type": "code",
   "execution_count": 31,
   "metadata": {},
   "outputs": [],
   "source": [
    "from sklearn.preprocessing import MinMaxScaler\n",
    "scaler = MinMaxScaler()\n",
    "\n",
    "X_train = scaler.fit_transform(X_train)\n",
    "X_test = scaler.transform(X_test)"
   ]
  },
  {
   "cell_type": "code",
   "execution_count": 32,
   "metadata": {},
   "outputs": [],
   "source": [
    "import tensorflow as tf\n",
    "from tensorflow.keras.models import Sequential\n",
    "from tensorflow.keras.layers import Dense, Activation,Dropout\n",
    "from tensorflow.keras.constraints import max_norm\n",
    "from tensorflow.keras.callbacks import EarlyStopping, TensorBoard\n",
    "from datetime import datetime\n",
    "\n",
    "early_stop = EarlyStopping(monitor='val_loss', mode='min', verbose=1, patience=30)\n",
    "\n",
    "time = datetime.now().strftime(\"%Y-%m-%d--%H%M\")\n",
    "logdir = 'logs\\\\hparam_tuning'\n",
    "# board = TensorBoard(log_dir=log_dir, histogram_freq=1, write_graph=True, write_images = True, \n",
    "#                     update_freq='epoch', profile_batch=2, embeddings_freq=1)"
   ]
  },
  {
   "cell_type": "code",
   "execution_count": 33,
   "metadata": {},
   "outputs": [
    {
     "name": "stdout",
     "output_type": "stream",
     "text": [
      "Weight for class 0: 0.90\n",
      "Weight for class 1: 1.13\n",
      "Train on 1409 samples, validate on 353 samples\n",
      "Epoch 1/400\n",
      "1409/1409 [==============================] - 4s 3ms/sample - loss: 0.7033 - accuracy: 0.4599 - val_loss: 0.7009 - val_accuracy: 0.4589\n",
      "Epoch 2/400\n",
      "1409/1409 [==============================] - 0s 181us/sample - loss: 0.6998 - accuracy: 0.4727 - val_loss: 0.6976 - val_accuracy: 0.4646\n",
      "Epoch 3/400\n",
      "1409/1409 [==============================] - 0s 83us/sample - loss: 0.6982 - accuracy: 0.4833 - val_loss: 0.6944 - val_accuracy: 0.4674\n",
      "Epoch 4/400\n",
      "1409/1409 [==============================] - 0s 46us/sample - loss: 0.6945 - accuracy: 0.4982 - val_loss: 0.6914 - val_accuracy: 0.4901\n",
      "Epoch 5/400\n",
      "1409/1409 [==============================] - 0s 52us/sample - loss: 0.6985 - accuracy: 0.4769 - val_loss: 0.6884 - val_accuracy: 0.5439\n",
      "Epoch 6/400\n",
      "1409/1409 [==============================] - 0s 47us/sample - loss: 0.6934 - accuracy: 0.5067 - val_loss: 0.6856 - val_accuracy: 0.5779\n",
      "Epoch 7/400\n",
      "1409/1409 [==============================] - 0s 47us/sample - loss: 0.6888 - accuracy: 0.5358 - val_loss: 0.6830 - val_accuracy: 0.5949\n",
      "Epoch 8/400\n",
      "1409/1409 [==============================] - 0s 50us/sample - loss: 0.6881 - accuracy: 0.5507 - val_loss: 0.6804 - val_accuracy: 0.6062\n",
      "Epoch 9/400\n",
      "1409/1409 [==============================] - 0s 43us/sample - loss: 0.6839 - accuracy: 0.5806 - val_loss: 0.6780 - val_accuracy: 0.6317\n",
      "Epoch 10/400\n",
      "1409/1409 [==============================] - 0s 51us/sample - loss: 0.6840 - accuracy: 0.5664 - val_loss: 0.6757 - val_accuracy: 0.6232\n",
      "Epoch 11/400\n",
      "1409/1409 [==============================] - 0s 41us/sample - loss: 0.6830 - accuracy: 0.5678 - val_loss: 0.6737 - val_accuracy: 0.6261\n",
      "Epoch 12/400\n",
      "1409/1409 [==============================] - 0s 42us/sample - loss: 0.6804 - accuracy: 0.5742 - val_loss: 0.6717 - val_accuracy: 0.6374\n",
      "Epoch 13/400\n",
      "1409/1409 [==============================] - 0s 42us/sample - loss: 0.6793 - accuracy: 0.5820 - val_loss: 0.6698 - val_accuracy: 0.6572\n",
      "Epoch 14/400\n",
      "1409/1409 [==============================] - 0s 38us/sample - loss: 0.6767 - accuracy: 0.5955 - val_loss: 0.6678 - val_accuracy: 0.6516\n",
      "Epoch 15/400\n",
      "1409/1409 [==============================] - 0s 38us/sample - loss: 0.6748 - accuracy: 0.6018 - val_loss: 0.6658 - val_accuracy: 0.6487\n",
      "Epoch 16/400\n",
      "1409/1409 [==============================] - 0s 42us/sample - loss: 0.6752 - accuracy: 0.5969 - val_loss: 0.6637 - val_accuracy: 0.6657\n",
      "Epoch 17/400\n",
      "1409/1409 [==============================] - 0s 45us/sample - loss: 0.6723 - accuracy: 0.6160 - val_loss: 0.6617 - val_accuracy: 0.6714\n",
      "Epoch 18/400\n",
      "1409/1409 [==============================] - 0s 51us/sample - loss: 0.6720 - accuracy: 0.5990 - val_loss: 0.6596 - val_accuracy: 0.6742\n",
      "Epoch 19/400\n",
      "1409/1409 [==============================] - 0s 41us/sample - loss: 0.6671 - accuracy: 0.6167 - val_loss: 0.6574 - val_accuracy: 0.6799\n",
      "Epoch 20/400\n",
      "1409/1409 [==============================] - 0s 40us/sample - loss: 0.6629 - accuracy: 0.6352 - val_loss: 0.6552 - val_accuracy: 0.6941\n",
      "Epoch 21/400\n",
      "1409/1409 [==============================] - 0s 38us/sample - loss: 0.6659 - accuracy: 0.6075 - val_loss: 0.6531 - val_accuracy: 0.6884\n",
      "Epoch 22/400\n",
      "1409/1409 [==============================] - 0s 38us/sample - loss: 0.6631 - accuracy: 0.6274 - val_loss: 0.6508 - val_accuracy: 0.6884\n",
      "Epoch 23/400\n",
      "1409/1409 [==============================] - 0s 40us/sample - loss: 0.6631 - accuracy: 0.6302 - val_loss: 0.6485 - val_accuracy: 0.6856\n",
      "Epoch 24/400\n",
      "1409/1409 [==============================] - 0s 40us/sample - loss: 0.6583 - accuracy: 0.6295 - val_loss: 0.6462 - val_accuracy: 0.6884\n",
      "Epoch 25/400\n",
      "1409/1409 [==============================] - 0s 43us/sample - loss: 0.6573 - accuracy: 0.6366 - val_loss: 0.6438 - val_accuracy: 0.6884\n",
      "Epoch 26/400\n",
      "1409/1409 [==============================] - 0s 43us/sample - loss: 0.6551 - accuracy: 0.6373 - val_loss: 0.6413 - val_accuracy: 0.6912\n",
      "Epoch 27/400\n",
      "1409/1409 [==============================] - 0s 42us/sample - loss: 0.6568 - accuracy: 0.6160 - val_loss: 0.6388 - val_accuracy: 0.6941\n",
      "Epoch 28/400\n",
      "1409/1409 [==============================] - 0s 42us/sample - loss: 0.6534 - accuracy: 0.6437 - val_loss: 0.6362 - val_accuracy: 0.6941\n",
      "Epoch 29/400\n",
      "1409/1409 [==============================] - 0s 38us/sample - loss: 0.6476 - accuracy: 0.6359 - val_loss: 0.6336 - val_accuracy: 0.7054\n",
      "Epoch 30/400\n",
      "1409/1409 [==============================] - 0s 40us/sample - loss: 0.6484 - accuracy: 0.6380 - val_loss: 0.6310 - val_accuracy: 0.7025\n",
      "Epoch 31/400\n",
      "1409/1409 [==============================] - 0s 41us/sample - loss: 0.6452 - accuracy: 0.6615 - val_loss: 0.6282 - val_accuracy: 0.7082\n",
      "Epoch 32/400\n",
      "1409/1409 [==============================] - 0s 47us/sample - loss: 0.6397 - accuracy: 0.6622 - val_loss: 0.6254 - val_accuracy: 0.7167\n",
      "Epoch 33/400\n",
      "1409/1409 [==============================] - 0s 40us/sample - loss: 0.6399 - accuracy: 0.6586 - val_loss: 0.6226 - val_accuracy: 0.7195\n",
      "Epoch 34/400\n",
      "1409/1409 [==============================] - 0s 53us/sample - loss: 0.6437 - accuracy: 0.6501 - val_loss: 0.6198 - val_accuracy: 0.7110\n",
      "Epoch 35/400\n",
      "1409/1409 [==============================] - 0s 40us/sample - loss: 0.6363 - accuracy: 0.6700 - val_loss: 0.6168 - val_accuracy: 0.7195\n",
      "Epoch 36/400\n",
      "1409/1409 [==============================] - 0s 41us/sample - loss: 0.6321 - accuracy: 0.6714 - val_loss: 0.6138 - val_accuracy: 0.7167\n",
      "Epoch 37/400\n",
      "1409/1409 [==============================] - 0s 39us/sample - loss: 0.6323 - accuracy: 0.6650 - val_loss: 0.6108 - val_accuracy: 0.7224\n",
      "Epoch 38/400\n",
      "1409/1409 [==============================] - 0s 32us/sample - loss: 0.6317 - accuracy: 0.6572 - val_loss: 0.6078 - val_accuracy: 0.7224\n",
      "Epoch 39/400\n",
      "1409/1409 [==============================] - 0s 31us/sample - loss: 0.6277 - accuracy: 0.6600 - val_loss: 0.6048 - val_accuracy: 0.7252\n",
      "Epoch 40/400\n",
      "1409/1409 [==============================] - 0s 31us/sample - loss: 0.6259 - accuracy: 0.6586 - val_loss: 0.6017 - val_accuracy: 0.7280\n",
      "Epoch 41/400\n",
      "1409/1409 [==============================] - 0s 33us/sample - loss: 0.6268 - accuracy: 0.6678 - val_loss: 0.5988 - val_accuracy: 0.7252\n",
      "Epoch 42/400\n",
      "1409/1409 [==============================] - 0s 35us/sample - loss: 0.6192 - accuracy: 0.6714 - val_loss: 0.5957 - val_accuracy: 0.7224\n",
      "Epoch 43/400\n",
      "1409/1409 [==============================] - 0s 39us/sample - loss: 0.6161 - accuracy: 0.6828 - val_loss: 0.5926 - val_accuracy: 0.7252\n",
      "Epoch 44/400\n",
      "1409/1409 [==============================] - 0s 42us/sample - loss: 0.6139 - accuracy: 0.6877 - val_loss: 0.5895 - val_accuracy: 0.7224\n",
      "Epoch 45/400\n",
      "1409/1409 [==============================] - 0s 42us/sample - loss: 0.6116 - accuracy: 0.6877 - val_loss: 0.5865 - val_accuracy: 0.7252\n",
      "Epoch 46/400\n",
      "1409/1409 [==============================] - 0s 47us/sample - loss: 0.6070 - accuracy: 0.6856 - val_loss: 0.5835 - val_accuracy: 0.7224\n",
      "Epoch 47/400\n",
      "1409/1409 [==============================] - 0s 44us/sample - loss: 0.6060 - accuracy: 0.6891 - val_loss: 0.5805 - val_accuracy: 0.7224\n",
      "Epoch 48/400\n",
      "1409/1409 [==============================] - 0s 39us/sample - loss: 0.6069 - accuracy: 0.6927 - val_loss: 0.5775 - val_accuracy: 0.7224\n",
      "Epoch 49/400\n",
      "1409/1409 [==============================] - 0s 34us/sample - loss: 0.6030 - accuracy: 0.6849 - val_loss: 0.5745 - val_accuracy: 0.7252\n",
      "Epoch 50/400\n",
      "1409/1409 [==============================] - 0s 35us/sample - loss: 0.5980 - accuracy: 0.6906 - val_loss: 0.5716 - val_accuracy: 0.7252\n",
      "Epoch 51/400\n",
      "1409/1409 [==============================] - 0s 33us/sample - loss: 0.5953 - accuracy: 0.6977 - val_loss: 0.5687 - val_accuracy: 0.7337\n",
      "Epoch 52/400\n",
      "1409/1409 [==============================] - 0s 36us/sample - loss: 0.5898 - accuracy: 0.7069 - val_loss: 0.5658 - val_accuracy: 0.7365\n",
      "Epoch 53/400\n",
      "1409/1409 [==============================] - 0s 31us/sample - loss: 0.5912 - accuracy: 0.6998 - val_loss: 0.5629 - val_accuracy: 0.7280\n",
      "Epoch 54/400\n",
      "1409/1409 [==============================] - 0s 35us/sample - loss: 0.5879 - accuracy: 0.7012 - val_loss: 0.5600 - val_accuracy: 0.7309\n",
      "Epoch 55/400\n",
      "1409/1409 [==============================] - 0s 33us/sample - loss: 0.5870 - accuracy: 0.7026 - val_loss: 0.5571 - val_accuracy: 0.7309\n"
     ]
    },
    {
     "name": "stdout",
     "output_type": "stream",
     "text": [
      "Epoch 56/400\n",
      "1409/1409 [==============================] - 0s 35us/sample - loss: 0.5864 - accuracy: 0.7005 - val_loss: 0.5544 - val_accuracy: 0.7337\n",
      "Epoch 57/400\n",
      "1409/1409 [==============================] - 0s 33us/sample - loss: 0.5732 - accuracy: 0.7197 - val_loss: 0.5517 - val_accuracy: 0.7337\n",
      "Epoch 58/400\n",
      "1409/1409 [==============================] - 0s 32us/sample - loss: 0.5797 - accuracy: 0.7097 - val_loss: 0.5491 - val_accuracy: 0.7365\n",
      "Epoch 59/400\n",
      "1409/1409 [==============================] - 0s 33us/sample - loss: 0.5817 - accuracy: 0.7182 - val_loss: 0.5465 - val_accuracy: 0.7337\n",
      "Epoch 60/400\n",
      "1409/1409 [==============================] - 0s 32us/sample - loss: 0.5854 - accuracy: 0.6934 - val_loss: 0.5439 - val_accuracy: 0.7252\n",
      "Epoch 61/400\n",
      "1409/1409 [==============================] - 0s 32us/sample - loss: 0.5635 - accuracy: 0.7175 - val_loss: 0.5413 - val_accuracy: 0.7252\n",
      "Epoch 62/400\n",
      "1409/1409 [==============================] - 0s 35us/sample - loss: 0.5639 - accuracy: 0.7395 - val_loss: 0.5388 - val_accuracy: 0.7252\n",
      "Epoch 63/400\n",
      "1409/1409 [==============================] - 0s 33us/sample - loss: 0.5662 - accuracy: 0.7033 - val_loss: 0.5363 - val_accuracy: 0.7280\n",
      "Epoch 64/400\n",
      "1409/1409 [==============================] - 0s 35us/sample - loss: 0.5660 - accuracy: 0.7147 - val_loss: 0.5339 - val_accuracy: 0.7280\n",
      "Epoch 65/400\n",
      "1409/1409 [==============================] - 0s 34us/sample - loss: 0.5606 - accuracy: 0.7260 - val_loss: 0.5315 - val_accuracy: 0.7280\n",
      "Epoch 66/400\n",
      "1409/1409 [==============================] - 0s 34us/sample - loss: 0.5603 - accuracy: 0.7062 - val_loss: 0.5292 - val_accuracy: 0.7280\n",
      "Epoch 67/400\n",
      "1409/1409 [==============================] - 0s 35us/sample - loss: 0.5598 - accuracy: 0.7175 - val_loss: 0.5269 - val_accuracy: 0.7365\n",
      "Epoch 68/400\n",
      "1409/1409 [==============================] - 0s 35us/sample - loss: 0.5524 - accuracy: 0.7239 - val_loss: 0.5246 - val_accuracy: 0.7394\n",
      "Epoch 69/400\n",
      "1409/1409 [==============================] - 0s 35us/sample - loss: 0.5484 - accuracy: 0.7239 - val_loss: 0.5224 - val_accuracy: 0.7394\n",
      "Epoch 70/400\n",
      "1409/1409 [==============================] - 0s 33us/sample - loss: 0.5507 - accuracy: 0.7175 - val_loss: 0.5202 - val_accuracy: 0.7365\n",
      "Epoch 71/400\n",
      "1409/1409 [==============================] - 0s 36us/sample - loss: 0.5431 - accuracy: 0.7346 - val_loss: 0.5182 - val_accuracy: 0.7422\n",
      "Epoch 72/400\n",
      "1409/1409 [==============================] - 0s 38us/sample - loss: 0.5499 - accuracy: 0.7268 - val_loss: 0.5162 - val_accuracy: 0.7422\n",
      "Epoch 73/400\n",
      "1409/1409 [==============================] - 0s 33us/sample - loss: 0.5453 - accuracy: 0.7360 - val_loss: 0.5144 - val_accuracy: 0.7479\n",
      "Epoch 74/400\n",
      "1409/1409 [==============================] - 0s 35us/sample - loss: 0.5338 - accuracy: 0.7317 - val_loss: 0.5126 - val_accuracy: 0.7507\n",
      "Epoch 75/400\n",
      "1409/1409 [==============================] - 0s 33us/sample - loss: 0.5375 - accuracy: 0.7232 - val_loss: 0.5109 - val_accuracy: 0.7535\n",
      "Epoch 76/400\n",
      "1409/1409 [==============================] - 0s 32us/sample - loss: 0.5292 - accuracy: 0.7367 - val_loss: 0.5094 - val_accuracy: 0.7507\n",
      "Epoch 77/400\n",
      "1409/1409 [==============================] - 0s 33us/sample - loss: 0.5365 - accuracy: 0.7410 - val_loss: 0.5081 - val_accuracy: 0.7564\n",
      "Epoch 78/400\n",
      "1409/1409 [==============================] - 0s 36us/sample - loss: 0.5532 - accuracy: 0.7197 - val_loss: 0.5067 - val_accuracy: 0.7564\n",
      "Epoch 79/400\n",
      "1409/1409 [==============================] - 0s 33us/sample - loss: 0.5348 - accuracy: 0.7296 - val_loss: 0.5053 - val_accuracy: 0.7564\n",
      "Epoch 80/400\n",
      "1409/1409 [==============================] - 0s 36us/sample - loss: 0.5362 - accuracy: 0.7424 - val_loss: 0.5039 - val_accuracy: 0.7620\n",
      "Epoch 81/400\n",
      "1409/1409 [==============================] - 0s 32us/sample - loss: 0.5304 - accuracy: 0.7360 - val_loss: 0.5027 - val_accuracy: 0.7649\n",
      "Epoch 82/400\n",
      "1409/1409 [==============================] - 0s 34us/sample - loss: 0.5265 - accuracy: 0.7417 - val_loss: 0.5015 - val_accuracy: 0.7677\n",
      "Epoch 83/400\n",
      "1409/1409 [==============================] - 0s 32us/sample - loss: 0.5294 - accuracy: 0.7381 - val_loss: 0.5004 - val_accuracy: 0.7677\n",
      "Epoch 84/400\n",
      "1409/1409 [==============================] - 0s 32us/sample - loss: 0.5293 - accuracy: 0.7410 - val_loss: 0.4994 - val_accuracy: 0.7677\n",
      "Epoch 85/400\n",
      "1409/1409 [==============================] - 0s 33us/sample - loss: 0.5346 - accuracy: 0.7459 - val_loss: 0.4985 - val_accuracy: 0.7677\n",
      "Epoch 86/400\n",
      "1409/1409 [==============================] - 0s 35us/sample - loss: 0.5188 - accuracy: 0.7410 - val_loss: 0.4977 - val_accuracy: 0.7677\n",
      "Epoch 87/400\n",
      "1409/1409 [==============================] - 0s 34us/sample - loss: 0.5240 - accuracy: 0.7431 - val_loss: 0.4969 - val_accuracy: 0.7705\n",
      "Epoch 88/400\n",
      "1409/1409 [==============================] - 0s 35us/sample - loss: 0.5273 - accuracy: 0.7303 - val_loss: 0.4961 - val_accuracy: 0.7677\n",
      "Epoch 89/400\n",
      "1409/1409 [==============================] - 0s 35us/sample - loss: 0.5281 - accuracy: 0.7381 - val_loss: 0.4956 - val_accuracy: 0.7649\n",
      "Epoch 90/400\n",
      "1409/1409 [==============================] - 0s 34us/sample - loss: 0.5154 - accuracy: 0.7480 - val_loss: 0.4950 - val_accuracy: 0.7649\n",
      "Epoch 91/400\n",
      "1409/1409 [==============================] - 0s 35us/sample - loss: 0.5205 - accuracy: 0.7424 - val_loss: 0.4943 - val_accuracy: 0.7677\n",
      "Epoch 92/400\n",
      "1409/1409 [==============================] - 0s 34us/sample - loss: 0.5174 - accuracy: 0.7445 - val_loss: 0.4935 - val_accuracy: 0.7734\n",
      "Epoch 93/400\n",
      "1409/1409 [==============================] - 0s 35us/sample - loss: 0.5238 - accuracy: 0.7466 - val_loss: 0.4927 - val_accuracy: 0.7734\n",
      "Epoch 94/400\n",
      "1409/1409 [==============================] - 0s 36us/sample - loss: 0.5047 - accuracy: 0.7459 - val_loss: 0.4919 - val_accuracy: 0.7734\n",
      "Epoch 95/400\n",
      "1409/1409 [==============================] - 0s 33us/sample - loss: 0.5251 - accuracy: 0.7310 - val_loss: 0.4911 - val_accuracy: 0.7734\n",
      "Epoch 96/400\n",
      "1409/1409 [==============================] - 0s 33us/sample - loss: 0.5180 - accuracy: 0.7388 - val_loss: 0.4904 - val_accuracy: 0.7762\n",
      "Epoch 97/400\n",
      "1409/1409 [==============================] - 0s 34us/sample - loss: 0.5145 - accuracy: 0.7374 - val_loss: 0.4897 - val_accuracy: 0.7762\n",
      "Epoch 98/400\n",
      "1409/1409 [==============================] - 0s 36us/sample - loss: 0.5087 - accuracy: 0.7502 - val_loss: 0.4891 - val_accuracy: 0.7790\n",
      "Epoch 99/400\n",
      "1409/1409 [==============================] - 0s 33us/sample - loss: 0.5220 - accuracy: 0.7452 - val_loss: 0.4885 - val_accuracy: 0.7819\n",
      "Epoch 100/400\n",
      "1409/1409 [==============================] - 0s 34us/sample - loss: 0.5145 - accuracy: 0.7459 - val_loss: 0.4881 - val_accuracy: 0.7790\n",
      "Epoch 101/400\n",
      "1409/1409 [==============================] - 0s 34us/sample - loss: 0.5110 - accuracy: 0.7594 - val_loss: 0.4877 - val_accuracy: 0.7762\n",
      "Epoch 102/400\n",
      "1409/1409 [==============================] - 0s 33us/sample - loss: 0.5136 - accuracy: 0.7495 - val_loss: 0.4871 - val_accuracy: 0.7762\n",
      "Epoch 103/400\n",
      "1409/1409 [==============================] - 0s 31us/sample - loss: 0.5267 - accuracy: 0.7289 - val_loss: 0.4865 - val_accuracy: 0.7762\n",
      "Epoch 104/400\n",
      "1409/1409 [==============================] - 0s 35us/sample - loss: 0.5010 - accuracy: 0.7580 - val_loss: 0.4858 - val_accuracy: 0.7819\n",
      "Epoch 105/400\n",
      "1409/1409 [==============================] - 0s 35us/sample - loss: 0.5047 - accuracy: 0.7615 - val_loss: 0.4850 - val_accuracy: 0.7847\n",
      "Epoch 106/400\n",
      "1409/1409 [==============================] - 0s 35us/sample - loss: 0.5179 - accuracy: 0.7509 - val_loss: 0.4843 - val_accuracy: 0.7875\n",
      "Epoch 107/400\n",
      "1409/1409 [==============================] - 0s 36us/sample - loss: 0.5129 - accuracy: 0.7480 - val_loss: 0.4835 - val_accuracy: 0.7875\n",
      "Epoch 108/400\n",
      "1409/1409 [==============================] - 0s 36us/sample - loss: 0.5050 - accuracy: 0.7594 - val_loss: 0.4826 - val_accuracy: 0.7847\n",
      "Epoch 109/400\n",
      "1409/1409 [==============================] - 0s 33us/sample - loss: 0.5092 - accuracy: 0.7594 - val_loss: 0.4819 - val_accuracy: 0.7847\n",
      "Epoch 110/400\n",
      "1409/1409 [==============================] - 0s 33us/sample - loss: 0.5083 - accuracy: 0.7523 - val_loss: 0.4813 - val_accuracy: 0.7847\n"
     ]
    },
    {
     "name": "stdout",
     "output_type": "stream",
     "text": [
      "Epoch 111/400\n",
      "1409/1409 [==============================] - 0s 34us/sample - loss: 0.5000 - accuracy: 0.7544 - val_loss: 0.4808 - val_accuracy: 0.7875\n",
      "Epoch 112/400\n",
      "1409/1409 [==============================] - 0s 33us/sample - loss: 0.5173 - accuracy: 0.7360 - val_loss: 0.4804 - val_accuracy: 0.7875\n",
      "Epoch 113/400\n",
      "1409/1409 [==============================] - 0s 33us/sample - loss: 0.5062 - accuracy: 0.7566 - val_loss: 0.4802 - val_accuracy: 0.7847\n",
      "Epoch 114/400\n",
      "1409/1409 [==============================] - 0s 35us/sample - loss: 0.5005 - accuracy: 0.7559 - val_loss: 0.4800 - val_accuracy: 0.7847\n",
      "Epoch 115/400\n",
      "1409/1409 [==============================] - 0s 34us/sample - loss: 0.5078 - accuracy: 0.7452 - val_loss: 0.4797 - val_accuracy: 0.7819\n",
      "Epoch 116/400\n",
      "1409/1409 [==============================] - 0s 33us/sample - loss: 0.5092 - accuracy: 0.7537 - val_loss: 0.4794 - val_accuracy: 0.7819\n",
      "Epoch 117/400\n",
      "1409/1409 [==============================] - 0s 33us/sample - loss: 0.5015 - accuracy: 0.7509 - val_loss: 0.4790 - val_accuracy: 0.7790\n",
      "Epoch 118/400\n",
      "1409/1409 [==============================] - 0s 34us/sample - loss: 0.4949 - accuracy: 0.7615 - val_loss: 0.4786 - val_accuracy: 0.7790\n",
      "Epoch 119/400\n",
      "1409/1409 [==============================] - 0s 32us/sample - loss: 0.5018 - accuracy: 0.7580 - val_loss: 0.4782 - val_accuracy: 0.7790\n",
      "Epoch 120/400\n",
      "1409/1409 [==============================] - 0s 42us/sample - loss: 0.4919 - accuracy: 0.7615 - val_loss: 0.4779 - val_accuracy: 0.7790\n",
      "Epoch 121/400\n",
      "1409/1409 [==============================] - 0s 33us/sample - loss: 0.5054 - accuracy: 0.7601 - val_loss: 0.4775 - val_accuracy: 0.7790\n",
      "Epoch 122/400\n",
      "1409/1409 [==============================] - 0s 34us/sample - loss: 0.4927 - accuracy: 0.7566 - val_loss: 0.4772 - val_accuracy: 0.7790\n",
      "Epoch 123/400\n",
      "1409/1409 [==============================] - 0s 35us/sample - loss: 0.4989 - accuracy: 0.7502 - val_loss: 0.4768 - val_accuracy: 0.7790\n",
      "Epoch 124/400\n",
      "1409/1409 [==============================] - 0s 34us/sample - loss: 0.4985 - accuracy: 0.7587 - val_loss: 0.4766 - val_accuracy: 0.7790\n",
      "Epoch 125/400\n",
      "1409/1409 [==============================] - 0s 33us/sample - loss: 0.4909 - accuracy: 0.7708 - val_loss: 0.4763 - val_accuracy: 0.7762\n",
      "Epoch 126/400\n",
      "1409/1409 [==============================] - 0s 35us/sample - loss: 0.4858 - accuracy: 0.7651 - val_loss: 0.4762 - val_accuracy: 0.7762\n",
      "Epoch 127/400\n",
      "1409/1409 [==============================] - 0s 33us/sample - loss: 0.4939 - accuracy: 0.7665 - val_loss: 0.4761 - val_accuracy: 0.7762\n",
      "Epoch 128/400\n",
      "1409/1409 [==============================] - 0s 35us/sample - loss: 0.4958 - accuracy: 0.7530 - val_loss: 0.4760 - val_accuracy: 0.7790\n",
      "Epoch 129/400\n",
      "1409/1409 [==============================] - 0s 34us/sample - loss: 0.4955 - accuracy: 0.7679 - val_loss: 0.4758 - val_accuracy: 0.7790\n",
      "Epoch 130/400\n",
      "1409/1409 [==============================] - 0s 34us/sample - loss: 0.4969 - accuracy: 0.7601 - val_loss: 0.4755 - val_accuracy: 0.7819\n",
      "Epoch 131/400\n",
      "1409/1409 [==============================] - 0s 35us/sample - loss: 0.4901 - accuracy: 0.7559 - val_loss: 0.4752 - val_accuracy: 0.7734\n",
      "Epoch 132/400\n",
      "1409/1409 [==============================] - 0s 38us/sample - loss: 0.4982 - accuracy: 0.7566 - val_loss: 0.4749 - val_accuracy: 0.7734\n",
      "Epoch 133/400\n",
      "1409/1409 [==============================] - 0s 34us/sample - loss: 0.4956 - accuracy: 0.7630 - val_loss: 0.4746 - val_accuracy: 0.7762\n",
      "Epoch 134/400\n",
      "1409/1409 [==============================] - 0s 35us/sample - loss: 0.4854 - accuracy: 0.7693 - val_loss: 0.4744 - val_accuracy: 0.7734\n",
      "Epoch 135/400\n",
      "1409/1409 [==============================] - 0s 32us/sample - loss: 0.4973 - accuracy: 0.7743 - val_loss: 0.4743 - val_accuracy: 0.7734\n",
      "Epoch 136/400\n",
      "1409/1409 [==============================] - 0s 34us/sample - loss: 0.4948 - accuracy: 0.7700 - val_loss: 0.4743 - val_accuracy: 0.7762\n",
      "Epoch 137/400\n",
      "1409/1409 [==============================] - 0s 35us/sample - loss: 0.4853 - accuracy: 0.7665 - val_loss: 0.4744 - val_accuracy: 0.7734\n",
      "Epoch 138/400\n",
      "1409/1409 [==============================] - 0s 35us/sample - loss: 0.4879 - accuracy: 0.7679 - val_loss: 0.4742 - val_accuracy: 0.7734\n",
      "Epoch 139/400\n",
      "1409/1409 [==============================] - 0s 34us/sample - loss: 0.4813 - accuracy: 0.7608 - val_loss: 0.4739 - val_accuracy: 0.7734\n",
      "Epoch 140/400\n",
      "1409/1409 [==============================] - 0s 32us/sample - loss: 0.4946 - accuracy: 0.7672 - val_loss: 0.4736 - val_accuracy: 0.7734\n",
      "Epoch 141/400\n",
      "1409/1409 [==============================] - 0s 32us/sample - loss: 0.4898 - accuracy: 0.7630 - val_loss: 0.4732 - val_accuracy: 0.7705\n",
      "Epoch 142/400\n",
      "1409/1409 [==============================] - 0s 33us/sample - loss: 0.4838 - accuracy: 0.7594 - val_loss: 0.4731 - val_accuracy: 0.7705\n",
      "Epoch 143/400\n",
      "1409/1409 [==============================] - 0s 34us/sample - loss: 0.4868 - accuracy: 0.7637 - val_loss: 0.4730 - val_accuracy: 0.7677\n",
      "Epoch 144/400\n",
      "1409/1409 [==============================] - 0s 38us/sample - loss: 0.4848 - accuracy: 0.7729 - val_loss: 0.4729 - val_accuracy: 0.7649\n",
      "Epoch 145/400\n",
      "1409/1409 [==============================] - 0s 34us/sample - loss: 0.4852 - accuracy: 0.7672 - val_loss: 0.4729 - val_accuracy: 0.7649\n",
      "Epoch 146/400\n",
      "1409/1409 [==============================] - 0s 32us/sample - loss: 0.4932 - accuracy: 0.7630 - val_loss: 0.4730 - val_accuracy: 0.7677\n",
      "Epoch 147/400\n",
      "1409/1409 [==============================] - 0s 35us/sample - loss: 0.4893 - accuracy: 0.7672 - val_loss: 0.4731 - val_accuracy: 0.7677\n",
      "Epoch 148/400\n",
      "1409/1409 [==============================] - 0s 33us/sample - loss: 0.4955 - accuracy: 0.7630 - val_loss: 0.4733 - val_accuracy: 0.7677\n",
      "Epoch 149/400\n",
      "1409/1409 [==============================] - 0s 35us/sample - loss: 0.4900 - accuracy: 0.7594 - val_loss: 0.4735 - val_accuracy: 0.7734\n",
      "Epoch 150/400\n",
      "1409/1409 [==============================] - 0s 36us/sample - loss: 0.4778 - accuracy: 0.7800 - val_loss: 0.4735 - val_accuracy: 0.7734\n",
      "Epoch 151/400\n",
      "1409/1409 [==============================] - 0s 36us/sample - loss: 0.4906 - accuracy: 0.7651 - val_loss: 0.4734 - val_accuracy: 0.7705\n",
      "Epoch 152/400\n",
      "1409/1409 [==============================] - 0s 34us/sample - loss: 0.4768 - accuracy: 0.7722 - val_loss: 0.4730 - val_accuracy: 0.7677\n",
      "Epoch 153/400\n",
      "1409/1409 [==============================] - 0s 33us/sample - loss: 0.4850 - accuracy: 0.7821 - val_loss: 0.4726 - val_accuracy: 0.7649\n",
      "Epoch 154/400\n",
      "1409/1409 [==============================] - 0s 35us/sample - loss: 0.4845 - accuracy: 0.7722 - val_loss: 0.4722 - val_accuracy: 0.7649\n",
      "Epoch 155/400\n",
      "1409/1409 [==============================] - 0s 34us/sample - loss: 0.4718 - accuracy: 0.7857 - val_loss: 0.4720 - val_accuracy: 0.7649\n",
      "Epoch 156/400\n",
      "1409/1409 [==============================] - 0s 33us/sample - loss: 0.4799 - accuracy: 0.7672 - val_loss: 0.4718 - val_accuracy: 0.7649\n",
      "Epoch 157/400\n",
      "1409/1409 [==============================] - 0s 33us/sample - loss: 0.4829 - accuracy: 0.7771 - val_loss: 0.4718 - val_accuracy: 0.7649\n",
      "Epoch 158/400\n",
      "1409/1409 [==============================] - 0s 33us/sample - loss: 0.4912 - accuracy: 0.7693 - val_loss: 0.4717 - val_accuracy: 0.7649\n",
      "Epoch 159/400\n",
      "1409/1409 [==============================] - 0s 33us/sample - loss: 0.4810 - accuracy: 0.7743 - val_loss: 0.4717 - val_accuracy: 0.7649\n",
      "Epoch 160/400\n",
      "1409/1409 [==============================] - 0s 33us/sample - loss: 0.4817 - accuracy: 0.7764 - val_loss: 0.4717 - val_accuracy: 0.7677\n",
      "Epoch 161/400\n",
      "1409/1409 [==============================] - 0s 34us/sample - loss: 0.4743 - accuracy: 0.7764 - val_loss: 0.4717 - val_accuracy: 0.7677\n",
      "Epoch 162/400\n",
      "1409/1409 [==============================] - 0s 33us/sample - loss: 0.4831 - accuracy: 0.7736 - val_loss: 0.4717 - val_accuracy: 0.7677\n",
      "Epoch 163/400\n",
      "1409/1409 [==============================] - 0s 33us/sample - loss: 0.4821 - accuracy: 0.7672 - val_loss: 0.4716 - val_accuracy: 0.7677\n",
      "Epoch 164/400\n",
      "1409/1409 [==============================] - 0s 34us/sample - loss: 0.4747 - accuracy: 0.7793 - val_loss: 0.4716 - val_accuracy: 0.7677\n",
      "Epoch 165/400\n",
      "1409/1409 [==============================] - 0s 33us/sample - loss: 0.4806 - accuracy: 0.7722 - val_loss: 0.4715 - val_accuracy: 0.7677\n"
     ]
    },
    {
     "name": "stdout",
     "output_type": "stream",
     "text": [
      "Epoch 166/400\n",
      "1409/1409 [==============================] - 0s 32us/sample - loss: 0.4779 - accuracy: 0.7736 - val_loss: 0.4715 - val_accuracy: 0.7677\n",
      "Epoch 167/400\n",
      "1409/1409 [==============================] - 0s 33us/sample - loss: 0.4845 - accuracy: 0.7729 - val_loss: 0.4715 - val_accuracy: 0.7677\n",
      "Epoch 168/400\n",
      "1409/1409 [==============================] - 0s 34us/sample - loss: 0.4797 - accuracy: 0.7771 - val_loss: 0.4715 - val_accuracy: 0.7705\n",
      "Epoch 169/400\n",
      "1409/1409 [==============================] - 0s 34us/sample - loss: 0.4855 - accuracy: 0.7708 - val_loss: 0.4714 - val_accuracy: 0.7677\n",
      "Epoch 170/400\n",
      "1409/1409 [==============================] - 0s 35us/sample - loss: 0.4797 - accuracy: 0.7715 - val_loss: 0.4712 - val_accuracy: 0.7592\n",
      "Epoch 171/400\n",
      "1409/1409 [==============================] - 0s 38us/sample - loss: 0.4827 - accuracy: 0.7587 - val_loss: 0.4711 - val_accuracy: 0.7592\n",
      "Epoch 172/400\n",
      "1409/1409 [==============================] - 0s 68us/sample - loss: 0.4776 - accuracy: 0.7807 - val_loss: 0.4711 - val_accuracy: 0.7592\n",
      "Epoch 173/400\n",
      "1409/1409 [==============================] - 0s 57us/sample - loss: 0.4784 - accuracy: 0.7814 - val_loss: 0.4712 - val_accuracy: 0.7677\n",
      "Epoch 174/400\n",
      "1409/1409 [==============================] - 0s 63us/sample - loss: 0.4748 - accuracy: 0.7757 - val_loss: 0.4714 - val_accuracy: 0.7705\n",
      "Epoch 175/400\n",
      "1409/1409 [==============================] - 0s 44us/sample - loss: 0.4765 - accuracy: 0.7693 - val_loss: 0.4718 - val_accuracy: 0.7705\n",
      "Epoch 176/400\n",
      "1409/1409 [==============================] - 0s 33us/sample - loss: 0.4816 - accuracy: 0.7757 - val_loss: 0.4720 - val_accuracy: 0.7677\n",
      "Epoch 177/400\n",
      "1409/1409 [==============================] - 0s 35us/sample - loss: 0.4792 - accuracy: 0.7800 - val_loss: 0.4718 - val_accuracy: 0.7677\n",
      "Epoch 178/400\n",
      "1409/1409 [==============================] - 0s 32us/sample - loss: 0.4783 - accuracy: 0.7842 - val_loss: 0.4714 - val_accuracy: 0.7649\n",
      "Epoch 179/400\n",
      "1409/1409 [==============================] - 0s 39us/sample - loss: 0.4792 - accuracy: 0.7665 - val_loss: 0.4709 - val_accuracy: 0.7677\n",
      "Epoch 180/400\n",
      "1409/1409 [==============================] - 0s 32us/sample - loss: 0.4737 - accuracy: 0.7814 - val_loss: 0.4705 - val_accuracy: 0.7649\n",
      "Epoch 181/400\n",
      "1409/1409 [==============================] - 0s 33us/sample - loss: 0.4750 - accuracy: 0.7743 - val_loss: 0.4703 - val_accuracy: 0.7649\n",
      "Epoch 182/400\n",
      "1409/1409 [==============================] - 0s 33us/sample - loss: 0.4773 - accuracy: 0.7743 - val_loss: 0.4703 - val_accuracy: 0.7620\n",
      "Epoch 183/400\n",
      "1409/1409 [==============================] - 0s 34us/sample - loss: 0.4765 - accuracy: 0.7665 - val_loss: 0.4704 - val_accuracy: 0.7620\n",
      "Epoch 184/400\n",
      "1409/1409 [==============================] - 0s 35us/sample - loss: 0.4840 - accuracy: 0.7587 - val_loss: 0.4705 - val_accuracy: 0.7620\n",
      "Epoch 185/400\n",
      "1409/1409 [==============================] - 0s 36us/sample - loss: 0.4810 - accuracy: 0.7722 - val_loss: 0.4706 - val_accuracy: 0.7620\n",
      "Epoch 186/400\n",
      "1409/1409 [==============================] - 0s 35us/sample - loss: 0.4839 - accuracy: 0.7686 - val_loss: 0.4707 - val_accuracy: 0.7592\n",
      "Epoch 187/400\n",
      "1409/1409 [==============================] - 0s 38us/sample - loss: 0.4833 - accuracy: 0.7693 - val_loss: 0.4709 - val_accuracy: 0.7649\n",
      "Epoch 188/400\n",
      "1409/1409 [==============================] - 0s 32us/sample - loss: 0.4757 - accuracy: 0.7715 - val_loss: 0.4713 - val_accuracy: 0.7649\n",
      "Epoch 189/400\n",
      "1409/1409 [==============================] - 0s 33us/sample - loss: 0.4752 - accuracy: 0.7800 - val_loss: 0.4717 - val_accuracy: 0.7677\n",
      "Epoch 190/400\n",
      "1409/1409 [==============================] - 0s 36us/sample - loss: 0.4800 - accuracy: 0.7729 - val_loss: 0.4720 - val_accuracy: 0.7705\n",
      "Epoch 191/400\n",
      "1409/1409 [==============================] - 0s 34us/sample - loss: 0.4743 - accuracy: 0.7771 - val_loss: 0.4719 - val_accuracy: 0.7677\n",
      "Epoch 192/400\n",
      "1409/1409 [==============================] - 0s 39us/sample - loss: 0.4796 - accuracy: 0.7750 - val_loss: 0.4716 - val_accuracy: 0.7677\n",
      "Epoch 193/400\n",
      "1409/1409 [==============================] - 0s 34us/sample - loss: 0.4691 - accuracy: 0.7850 - val_loss: 0.4713 - val_accuracy: 0.7620\n",
      "Epoch 194/400\n",
      "1409/1409 [==============================] - 0s 35us/sample - loss: 0.4709 - accuracy: 0.7835 - val_loss: 0.4711 - val_accuracy: 0.7592\n",
      "Epoch 195/400\n",
      "1409/1409 [==============================] - 0s 33us/sample - loss: 0.4739 - accuracy: 0.7786 - val_loss: 0.4710 - val_accuracy: 0.7564\n",
      "Epoch 196/400\n",
      "1409/1409 [==============================] - 0s 33us/sample - loss: 0.4750 - accuracy: 0.7779 - val_loss: 0.4710 - val_accuracy: 0.7564\n",
      "Epoch 197/400\n",
      "1409/1409 [==============================] - 0s 34us/sample - loss: 0.4746 - accuracy: 0.7821 - val_loss: 0.4711 - val_accuracy: 0.7620\n",
      "Epoch 198/400\n",
      "1409/1409 [==============================] - 0s 37us/sample - loss: 0.4732 - accuracy: 0.7857 - val_loss: 0.4714 - val_accuracy: 0.7620\n",
      "Epoch 199/400\n",
      "1409/1409 [==============================] - 0s 36us/sample - loss: 0.4787 - accuracy: 0.7828 - val_loss: 0.4718 - val_accuracy: 0.7677\n",
      "Epoch 200/400\n",
      "1409/1409 [==============================] - 0s 33us/sample - loss: 0.4691 - accuracy: 0.7871 - val_loss: 0.4721 - val_accuracy: 0.7649\n",
      "Epoch 201/400\n",
      "1409/1409 [==============================] - 0s 33us/sample - loss: 0.4705 - accuracy: 0.7878 - val_loss: 0.4725 - val_accuracy: 0.7649\n",
      "Epoch 202/400\n",
      "1409/1409 [==============================] - 0s 31us/sample - loss: 0.4794 - accuracy: 0.7771 - val_loss: 0.4725 - val_accuracy: 0.7620\n",
      "Epoch 203/400\n",
      "1409/1409 [==============================] - 0s 34us/sample - loss: 0.4775 - accuracy: 0.7757 - val_loss: 0.4724 - val_accuracy: 0.7620\n",
      "Epoch 204/400\n",
      "1409/1409 [==============================] - 0s 33us/sample - loss: 0.4780 - accuracy: 0.7736 - val_loss: 0.4723 - val_accuracy: 0.7649\n",
      "Epoch 205/400\n",
      "1409/1409 [==============================] - 0s 36us/sample - loss: 0.4673 - accuracy: 0.7736 - val_loss: 0.4722 - val_accuracy: 0.7649\n",
      "Epoch 206/400\n",
      "1409/1409 [==============================] - 0s 40us/sample - loss: 0.4707 - accuracy: 0.7793 - val_loss: 0.4721 - val_accuracy: 0.7649\n",
      "Epoch 207/400\n",
      "1409/1409 [==============================] - 0s 33us/sample - loss: 0.4690 - accuracy: 0.7835 - val_loss: 0.4721 - val_accuracy: 0.7620\n",
      "Epoch 208/400\n",
      "1409/1409 [==============================] - 0s 34us/sample - loss: 0.4710 - accuracy: 0.7821 - val_loss: 0.4723 - val_accuracy: 0.7620\n",
      "Epoch 209/400\n",
      "1409/1409 [==============================] - 0s 37us/sample - loss: 0.4696 - accuracy: 0.7757 - val_loss: 0.4725 - val_accuracy: 0.7620\n",
      "Epoch 210/400\n",
      "1409/1409 [==============================] - 0s 33us/sample - loss: 0.4627 - accuracy: 0.7779 - val_loss: 0.4727 - val_accuracy: 0.7620\n",
      "Epoch 211/400\n",
      "1409/1409 [==============================] - 0s 33us/sample - loss: 0.4723 - accuracy: 0.7771 - val_loss: 0.4730 - val_accuracy: 0.7649\n",
      "Epoch 00211: early stopping\n"
     ]
    },
    {
     "data": {
      "text/plain": [
       "<tensorflow.python.keras.callbacks.History at 0x2808f8fc4c8>"
      ]
     },
     "execution_count": 33,
     "metadata": {},
     "output_type": "execute_result"
    }
   ],
   "source": [
    "\n",
    "model = Sequential()\n",
    "# input layer\n",
    "model.add(Dense(39,  activation='relu'))\n",
    "model.add(Dropout(0.1))\n",
    "\n",
    "# hidden layer\n",
    "model.add(Dense(24, activation='relu'))\n",
    "model.add(Dropout(0.1))\n",
    "\n",
    "# # hidden layer\n",
    "# model.add(Dense(18, activation='relu'))\n",
    "# model.add(Dropout(0.1))\n",
    "\n",
    "# hidden layer\n",
    "model.add(Dense(8, activation='relu'))\n",
    "model.add(Dropout(0.1))\n",
    "\n",
    "# output layer\n",
    "model.add(Dense(units=1,activation='sigmoid'))\n",
    "\n",
    "# Compile model\n",
    "model.compile(loss='binary_crossentropy', optimizer='adam',  metrics=['accuracy'] )\n",
    "\n",
    "weight_for_0 = (1 / neg)*(total)/2.0 \n",
    "weight_for_1 = (1 / pos)*(total)/2.0\n",
    "\n",
    "class_weight = {0: weight_for_0, 1: weight_for_1}\n",
    "\n",
    "print('Weight for class 0: {:.2f}'.format(weight_for_0))\n",
    "print('Weight for class 1: {:.2f}'.format(weight_for_1))\n",
    "\n",
    "# weights = {0:1, 1:54}\n",
    "model.fit(x=X_train, \n",
    "          y=y_train, \n",
    "          epochs=400,\n",
    "#           class_weight=class_weight,\n",
    "          batch_size=2048,\n",
    "          validation_data=(X_test, y_test), \n",
    "          verbose=1,\n",
    "          callbacks = [early_stop]\n",
    "          )\n"
   ]
  },
  {
   "cell_type": "code",
   "execution_count": 34,
   "metadata": {},
   "outputs": [],
   "source": [
    "# from tensorboard.plugins.hparams import api as hp\n",
    "# HP_NUM_UNITS_L1 = hp.HParam('num_units_l1', hp.Discrete([16, 32]))\n",
    "# HP_NUM_UNITS_L2 = hp.HParam('num_units_l2', hp.Discrete([8,4]))\n",
    "# HP_DROPOUT = hp.HParam('dropout', hp.RealInterval(0.1, 0.2))\n",
    "# HP_OPTIMIZER = hp.HParam('optimizer', hp.Discrete(['adam', 'sgd']))\n",
    "\n",
    "# METRIC_ACCURACY = 'accuracy'\n",
    "\n",
    "# with tf.summary.create_file_writer('logs\\\\hparam_tuning').as_default():\n",
    "#     hp.hparams_config(\n",
    "#         hparams=[HP_NUM_UNITS_L1,HP_NUM_UNITS_L2, HP_DROPOUT, HP_OPTIMIZER],\n",
    "#         metrics=[hp.Metric(METRIC_ACCURACY, display_name='Accuracy')],\n",
    "#   )\n",
    "\n",
    "# def train_test_model(hparams):\n",
    "#     model = Sequential()\n",
    "#     # input layer\n",
    "#     model.add(Dense(hparams[HP_NUM_UNITS_L1],  activation='relu'))\n",
    "#     model.add(Dropout(hparams[HP_DROPOUT]))\n",
    "\n",
    "#     # hidden layer\n",
    "#     model.add(Dense(hparams[HP_NUM_UNITS_L2], activation='relu'))\n",
    "#     model.add(Dropout(hparams[HP_DROPOUT]))\n",
    "    \n",
    "#     model.add(Dense(8, activation='relu'))\n",
    "#     model.add(Dropout(hparams[HP_DROPOUT]))\n",
    "#     # output layer\n",
    "#     model.add(Dense(units=1,activation='sigmoid'))\n",
    "\n",
    "#     # Compile model\n",
    "#     model.compile(loss='binary_crossentropy', optimizer=hparams[HP_OPTIMIZER],  metrics=['accuracy'])\n",
    "    \n",
    "#     model.fit(x=X_train, \n",
    "#           y=y_train, \n",
    "#           epochs=400,\n",
    "#           validation_data=(X_test, y_test), \n",
    "#           verbose=1,\n",
    "#           callbacks = [early_stop,\n",
    "#                        tf.keras.callbacks.TensorBoard(logdir),  # log metrics\n",
    "#                         hp.KerasCallback(logdir, hparams)]\n",
    "#           )\n",
    "    \n",
    "#     _, accuracy = model.evaluate(X_test, y_test)\n",
    "    \n",
    "#     return accuracy\n",
    "\n",
    "# def run(run_dir, hparams):\n",
    "#     with tf.summary.create_file_writer(run_dir).as_default():\n",
    "#         hp.hparams(hparams)  # record the values used in this trial\n",
    "#         accuracy = train_test_model(hparams)\n",
    "#         tf.summary.scalar(METRIC_ACCURACY, accuracy, step=1)\n",
    "\n",
    "# session_num = 0\n",
    "\n",
    "# for num_units_l1 in HP_NUM_UNITS_L1.domain.values:\n",
    "#     for num_units_l2 in HP_NUM_UNITS_L2.domain.values:\n",
    "#         for dropout_rate in (HP_DROPOUT.domain.min_value, HP_DROPOUT.domain.max_value):\n",
    "#             for optimizer in HP_OPTIMIZER.domain.values:\n",
    "#               hparams = {\n",
    "#                   HP_NUM_UNITS_L1: num_units_l1,\n",
    "#                   HP_NUM_UNITS_L2: num_units_l2,\n",
    "#                   HP_DROPOUT: dropout_rate,\n",
    "#                   HP_OPTIMIZER: optimizer,\n",
    "#               }\n",
    "#               run_name = \"run-%d\" % session_num\n",
    "#               print('--- Starting trial: %s' % run_name)\n",
    "#               print({h.name: hparams[h] for h in hparams})\n",
    "#               run('logs\\\\hparam_tuning' + run_name, hparams)\n",
    "#               session_num += 1"
   ]
  },
  {
   "cell_type": "code",
   "execution_count": null,
   "metadata": {},
   "outputs": [],
   "source": []
  },
  {
   "cell_type": "code",
   "execution_count": null,
   "metadata": {},
   "outputs": [],
   "source": []
  },
  {
   "cell_type": "code",
   "execution_count": null,
   "metadata": {},
   "outputs": [],
   "source": []
  },
  {
   "cell_type": "code",
   "execution_count": 35,
   "metadata": {},
   "outputs": [
    {
     "data": {
      "text/plain": [
       "<matplotlib.axes._subplots.AxesSubplot at 0x2808f097a48>"
      ]
     },
     "execution_count": 35,
     "metadata": {},
     "output_type": "execute_result"
    },
    {
     "data": {
      "image/png": "[encoded data removed]",
      "text/plain": [
       "<Figure size 432x288 with 1 Axes>"
      ]
     },
     "metadata": {
      "needs_background": "light"
     },
     "output_type": "display_data"
    }
   ],
   "source": [
    "losses = pd.DataFrame(model.history.history)\n",
    "losses[['loss','val_loss']].plot()"
   ]
  },
  {
   "cell_type": "code",
   "execution_count": null,
   "metadata": {},
   "outputs": [],
   "source": []
  },
  {
   "cell_type": "code",
   "execution_count": 36,
   "metadata": {},
   "outputs": [],
   "source": [
    "from sklearn.metrics import classification_report,confusion_matrix"
   ]
  },
  {
   "cell_type": "code",
   "execution_count": 37,
   "metadata": {},
   "outputs": [
    {
     "name": "stdout",
     "output_type": "stream",
     "text": [
      "              precision    recall  f1-score   support\n",
      "\n",
      "           0       0.81      0.77      0.79       205\n",
      "           1       0.70      0.76      0.73       148\n",
      "\n",
      "    accuracy                           0.76       353\n",
      "   macro avg       0.76      0.76      0.76       353\n",
      "weighted avg       0.77      0.76      0.77       353\n",
      "\n"
     ]
    }
   ],
   "source": [
    "\n",
    "predictions = model.predict_classes(X_test)\n",
    "print(classification_report(y_test,predictions))"
   ]
  },
  {
   "cell_type": "code",
   "execution_count": 38,
   "metadata": {},
   "outputs": [
    {
     "name": "stdout",
     "output_type": "stream",
     "text": [
      "True Negatives:  158\n",
      "False Positives:  47\n",
      "False Negatives:  36\n",
      "True Positives:  112\n",
      "Total Fraudulent Transactions:  148\n"
     ]
    },
    {
     "data": {
      "image/png": "[encoded data removed]",
      "text/plain": [
       "<Figure size 360x360 with 2 Axes>"
      ]
     },
     "metadata": {
      "needs_background": "light"
     },
     "output_type": "display_data"
    }
   ],
   "source": [
    "# part of this code is taken from https://www.tensorflow.org/tutorials/structured_data/imbalanced_data\n",
    "\n",
    "def plot_cm(labels, predictions, p=0.5):\n",
    "  cm = confusion_matrix(labels, predictions > p)\n",
    "  plt.figure(figsize=(5,5))\n",
    "  sns.heatmap(cm, annot=True, fmt=\"d\")\n",
    "  plt.title('Confusion matrix @{:.2f}'.format(p))\n",
    "#   plt.ylabel('Actual label')\n",
    "#   plt.xlabel('Predicted label')\n",
    "  plt.ylim(2, 0)\n",
    "  print('True Negatives: ', cm[0][0])\n",
    "  print('False Positives: ', cm[0][1])\n",
    "  print('False Negatives: ', cm[1][0])\n",
    "  print('True Positives: ', cm[1][1])\n",
    "  print('Total Fraudulent Transactions: ', np.sum(cm[1]))\n",
    "plot_cm(y_test,predictions)    "
   ]
  },
  {
   "cell_type": "code",
   "execution_count": 39,
   "metadata": {},
   "outputs": [
    {
     "data": {
      "text/plain": [
       "(array([0.        , 0.22926829, 1.        ]),\n",
       " array([0.        , 0.75675676, 1.        ]),\n",
       " array([2, 1, 0]))"
      ]
     },
     "execution_count": 39,
     "metadata": {},
     "output_type": "execute_result"
    }
   ],
   "source": [
    "roc_curve(y_test,predictions)"
   ]
  },
  {
   "cell_type": "code",
   "execution_count": 40,
   "metadata": {},
   "outputs": [
    {
     "data": {
      "text/plain": [
       "353"
      ]
     },
     "execution_count": 40,
     "metadata": {},
     "output_type": "execute_result"
    }
   ],
   "source": [
    "len(predictions)"
   ]
  },
  {
   "cell_type": "code",
   "execution_count": 41,
   "metadata": {},
   "outputs": [
    {
     "data": {
      "text/plain": [
       "age                   65.00\n",
       "hypertension           0.00\n",
       "heart_disease          0.00\n",
       "avg_glucose_level    100.98\n",
       "bmi                   28.20\n",
       "never smoked           0.00\n",
       "smokes                 0.00\n",
       "Male                   0.00\n",
       "Never_worked           0.00\n",
       "Private                1.00\n",
       "Self-employed          0.00\n",
       "children               0.00\n",
       "Married                1.00\n",
       "Urban                  0.00\n",
       "Name: 26, dtype: float64"
      ]
     },
     "execution_count": 41,
     "metadata": {},
     "output_type": "execute_result"
    }
   ],
   "source": [
    "row = 300\n",
    "patient = df.drop('stroke', axis = 1).iloc[row]\n",
    "patient"
   ]
  },
  {
   "cell_type": "code",
   "execution_count": 42,
   "metadata": {},
   "outputs": [
    {
     "ename": "ValueError",
     "evalue": "cannot reshape array of size 14 into shape (1,13)",
     "output_type": "error",
     "traceback": [
      "\u001b[1;31m---------------------------------------------------------------------------\u001b[0m",
      "\u001b[1;31mValueError\u001b[0m                                Traceback (most recent call last)",
      "\u001b[1;32m<ipython-input-42-ad81b7ea6dd2>\u001b[0m in \u001b[0;36m<module>\u001b[1;34m\u001b[0m\n\u001b[1;32m----> 1\u001b[1;33m \u001b[0mpatient\u001b[0m \u001b[1;33m=\u001b[0m \u001b[0mscaler\u001b[0m\u001b[1;33m.\u001b[0m\u001b[0mtransform\u001b[0m\u001b[1;33m(\u001b[0m\u001b[0mpatient\u001b[0m\u001b[1;33m.\u001b[0m\u001b[0mvalues\u001b[0m\u001b[1;33m.\u001b[0m\u001b[0mreshape\u001b[0m\u001b[1;33m(\u001b[0m\u001b[1;36m1\u001b[0m\u001b[1;33m,\u001b[0m\u001b[1;36m13\u001b[0m\u001b[1;33m)\u001b[0m\u001b[1;33m)\u001b[0m\u001b[1;33m\u001b[0m\u001b[1;33m\u001b[0m\u001b[0m\n\u001b[0m\u001b[0;32m      2\u001b[0m \u001b[0mpatient\u001b[0m\u001b[1;33m\u001b[0m\u001b[1;33m\u001b[0m\u001b[0m\n",
      "\u001b[1;31mValueError\u001b[0m: cannot reshape array of size 14 into shape (1,13)"
     ]
    }
   ],
   "source": [
    "patient = scaler.transform(patient.values.reshape(1,13))\n",
    "patient"
   ]
  },
  {
   "cell_type": "code",
   "execution_count": null,
   "metadata": {},
   "outputs": [],
   "source": [
    "model.predict_classes(patient)[0][0]"
   ]
  },
  {
   "cell_type": "code",
   "execution_count": null,
   "metadata": {},
   "outputs": [],
   "source": [
    "for row in range (0,10):\n",
    "    patient = df.drop('stroke', axis = 1).iloc[row]\n",
    "    patient = scaler.transform(patient.values.reshape(1,13))\n",
    "    prediction = (model.predict_classes(patient))[0][0]\n",
    "    print (\"Predicted:{} Actual:{}\".format(prediction,df.iloc[row]['stroke']))"
   ]
  },
  {
   "cell_type": "raw",
   "metadata": {},
   "source": [
    "\n",
    "\n"
   ]
  },
  {
   "cell_type": "code",
   "execution_count": null,
   "metadata": {},
   "outputs": [],
   "source": []
  }
 ],
 "metadata": {
  "kernelspec": {
   "display_name": "Python 3",
   "language": "python",
   "name": "python3"
  },
  "language_info": {
   "codemirror_mode": {
    "name": "ipython",
    "version": 3
   },
   "file_extension": ".py",
   "mimetype": "text/x-python",
   "name": "python",
   "nbconvert_exporter": "python",
   "pygments_lexer": "ipython3",
   "version": "3.7.4"
  }
 },
 "nbformat": 4,
 "nbformat_minor": 2
}
