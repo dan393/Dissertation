{
 "cells": [
  {
   "cell_type": "code",
   "execution_count": 1,
   "metadata": {
    "pycharm": {
     "is_executing": false
    }
   },
   "outputs": [],
   "source": [
    "import numpy as np # linear algebra\n",
    "import pandas as pd # data processing, CSV file I/O (e.g. pd.read_csv)\n",
    "import matplotlib.pyplot as plt\n",
    "import seaborn as sns\n",
    "\n",
    "from sklearn.metrics import roc_curve"
   ]
  },
  {
   "cell_type": "code",
   "execution_count": 2,
   "metadata": {
    "pycharm": {
     "is_executing": false
    }
   },
   "outputs": [
    {
     "name": "stdout",
     "output_type": "stream",
     "text": [
      "<class 'pandas.core.frame.DataFrame'>\n",
      "RangeIndex: 43400 entries, 0 to 43399\n",
      "Data columns (total 11 columns):\n",
      "gender               43400 non-null object\n",
      "age                  43400 non-null float64\n",
      "hypertension         43400 non-null int64\n",
      "heart_disease        43400 non-null int64\n",
      "ever_married         43400 non-null object\n",
      "work_type            43400 non-null object\n",
      "Residence_type       43400 non-null object\n",
      "avg_glucose_level    43400 non-null float64\n",
      "bmi                  41938 non-null float64\n",
      "smoking_status       30108 non-null object\n",
      "stroke               43400 non-null int64\n",
      "dtypes: float64(3), int64(3), object(5)\n",
      "memory usage: 3.6+ MB\n"
     ]
    }
   ],
   "source": [
    "df  = pd.read_csv(\"../input/stroke-dataset/stroke.csv\")\n",
    "# df  = pd.read_csv(\"../input/stroke-dataset/stroke_subset.csv\")\n",
    "\n",
    "df = df.drop('id',axis=1)\n",
    "df.info()"
   ]
  },
  {
   "cell_type": "markdown",
   "metadata": {
    "pycharm": {
     "is_executing": false
    }
   },
   "source": [
    "# Data Exploration"
   ]
  },
  {
   "cell_type": "code",
   "execution_count": 3,
   "metadata": {},
   "outputs": [
    {
     "data": {
      "image/png": "[encoded data removed]",
      "text/plain": [
       "<Figure size 432x288 with 1 Axes>"
      ]
     },
     "metadata": {
      "needs_background": "light"
     },
     "output_type": "display_data"
    }
   ],
   "source": [
    "sns.countplot(x='stroke',data=df)\n",
    "plt.show()\n"
   ]
  },
  {
   "cell_type": "code",
   "execution_count": 4,
   "metadata": {},
   "outputs": [
    {
     "name": "stdout",
     "output_type": "stream",
     "text": [
      "Examples:\n",
      "    Total: 43400\n",
      "    Positive: 783 (1.80% of total)\n",
      "\n"
     ]
    }
   ],
   "source": [
    "neg, pos = np.bincount(df['stroke'])\n",
    "total = neg + pos\n",
    "print('Examples:\\n    Total: {}\\n    Positive: {} ({:.2f}% of total)\\n'.format(\n",
    "    total, pos, 100 * pos / total))"
   ]
  },
  {
   "cell_type": "code",
   "execution_count": 5,
   "metadata": {
    "pycharm": {
     "is_executing": false
    },
    "scrolled": true
   },
   "outputs": [
    {
     "data": {
      "text/plain": [
       "<matplotlib.axes._subplots.AxesSubplot at 0x1b631134048>"
      ]
     },
     "execution_count": 5,
     "metadata": {},
     "output_type": "execute_result"
    },
    {
     "data": {
      "image/png": "[encoded data removed]",
      "text/plain": [
       "<Figure size 864x288 with 1 Axes>"
      ]
     },
     "metadata": {
      "needs_background": "light"
     },
     "output_type": "display_data"
    }
   ],
   "source": [
    "plt.figure(figsize=(12,4))\n",
    "sns.distplot(df.loc[df['stroke'] == 1]['age'], bins =20)"
   ]
  },
  {
   "cell_type": "code",
   "execution_count": null,
   "metadata": {},
   "outputs": [
    {
     "data": {
      "text/plain": [
       "2.304147465437788e-05"
      ]
     },
     "execution_count": 6,
     "metadata": {},
     "output_type": "execute_result"
    }
   ],
   "source": [
    "len([df['stroke'] == 1])/len(df)"
   ]
  },
  {
   "cell_type": "code",
   "execution_count": null,
   "metadata": {},
   "outputs": [],
   "source": [
    "df['gender'].value_counts()"
   ]
  },
  {
   "cell_type": "code",
   "execution_count": null,
   "metadata": {
    "scrolled": false
   },
   "outputs": [],
   "source": [
    "df.isnull().sum()\n",
    "\n",
    "\n",
    "df['gender'] = df['gender'].replace([\"Other\"], \"Male\")\n",
    "df['gender'].value_counts()\n",
    "gender_dummies = pd.get_dummies(df['gender'],drop_first=True)\n",
    "df = pd.concat([df.drop('gender',axis=1),gender_dummies],axis=1)"
   ]
  },
  {
   "cell_type": "code",
   "execution_count": null,
   "metadata": {},
   "outputs": [],
   "source": [
    "df.iloc[95]\n"
   ]
  },
  {
   "cell_type": "code",
   "execution_count": null,
   "metadata": {},
   "outputs": [],
   "source": [
    "df.isnull().sum()\n",
    "stroke_y = df[df['stroke'] == 1 ].groupby(\"smoking_status\").count()['stroke']\n",
    "stroke_y"
   ]
  },
  {
   "cell_type": "code",
   "execution_count": null,
   "metadata": {},
   "outputs": [],
   "source": [
    "stroke_n = df[df['stroke'] == 0 ].groupby(\"smoking_status\").count()['stroke']\n",
    "stroke_n"
   ]
  },
  {
   "cell_type": "code",
   "execution_count": null,
   "metadata": {},
   "outputs": [],
   "source": [
    "stroke_y/(stroke_y + stroke_n)"
   ]
  },
  {
   "cell_type": "code",
   "execution_count": null,
   "metadata": {},
   "outputs": [],
   "source": [
    "plt.figure(figsize=(9,9))\n",
    "sns.heatmap(df.corr(),annot=True,cmap='viridis')\n",
    "plt.ylim(9, 0)\n",
    "# plt.xlim(0, 1)"
   ]
  },
  {
   "cell_type": "code",
   "execution_count": null,
   "metadata": {
    "scrolled": false
   },
   "outputs": [],
   "source": [
    "bmi_avg= df.groupby('age').mean()['bmi']\n",
    "df['bmi'] = df.apply(lambda x : bmi_avg[x['age']] if np.isnan(x['bmi']) else x['bmi'], axis =1)"
   ]
  },
  {
   "cell_type": "code",
   "execution_count": null,
   "metadata": {},
   "outputs": [],
   "source": [
    "df.isnull().sum()\n"
   ]
  },
  {
   "cell_type": "code",
   "execution_count": null,
   "metadata": {},
   "outputs": [],
   "source": [
    "def fill_smoking_status(smoking_status):\n",
    "    if pd.isnull(smoking_status):\n",
    "        return np.nan\n",
    "    elif smoking_status=='never smoked':\n",
    "        return 0\n",
    "    elif smoking_status=='formerly smoked':\n",
    "        return 1\n",
    "    else: \n",
    "        return 3\n",
    "df['smoking_status'] = df.apply(lambda x : fill_smoking_status(x['smoking_status']), axis=1)\n",
    "\n",
    "\n",
    "\n",
    "plt.figure(figsize=(9,9))\n",
    "sns.heatmap(df.corr(),annot=True,cmap='viridis')\n",
    "plt.ylim(9, 0)\n",
    "# plt.xlim(0, 1)"
   ]
  },
  {
   "cell_type": "code",
   "execution_count": null,
   "metadata": {},
   "outputs": [],
   "source": [
    "def fill_smoking_status(smoking_status, isMale):\n",
    "    if smoking_status=='never smoked':\n",
    "        return 0\n",
    "    else: \n",
    "        return isMale if pd.isnull(smoking_status) else 1\n",
    "df['smoking_status'] = df.apply(lambda x : fill_smoking_status(x['smoking_status'], x['Male']), axis=1)\n",
    "\n",
    "\n",
    "\n",
    "plt.figure(figsize=(9,9))\n",
    "sns.heatmap(df.corr(),annot=True,cmap='viridis')\n",
    "plt.ylim(9, 0)\n",
    "# plt.xlim(0, 1)"
   ]
  },
  {
   "cell_type": "code",
   "execution_count": null,
   "metadata": {},
   "outputs": [],
   "source": [
    "work_type_dummies = pd.get_dummies(df['work_type'],drop_first=True)\n",
    "df = pd.concat([df.drop('work_type',axis=1),work_type_dummies],axis=1)\n",
    "\n",
    "married_dummies = pd.get_dummies(df['ever_married'],drop_first=True)\n",
    "df = pd.concat([df.drop('ever_married',axis=1),married_dummies],axis=1)\n",
    "df = df.rename(columns={'Yes': 'Married'})\n",
    "\n",
    "residence_dummies = pd.get_dummies(df['Residence_type'],drop_first=True)\n",
    "df = pd.concat([df.drop('Residence_type',axis=1),residence_dummies],axis=1)\n",
    "\n",
    "df"
   ]
  },
  {
   "cell_type": "code",
   "execution_count": null,
   "metadata": {},
   "outputs": [],
   "source": [
    "plt.figure(figsize=(12,12))\n",
    "sns.heatmap(df.corr(),annot=True,cmap='viridis')\n",
    "plt.ylim(9, 0)\n",
    "# plt.xlim(0, 1)"
   ]
  },
  {
   "cell_type": "code",
   "execution_count": null,
   "metadata": {},
   "outputs": [],
   "source": [
    "\n",
    "df.isnull().sum()"
   ]
  },
  {
   "cell_type": "code",
   "execution_count": null,
   "metadata": {},
   "outputs": [],
   "source": [
    "plt.figure(figsize=(8,8))\n",
    "sns.scatterplot(x='age',y='bmi',data=df)"
   ]
  },
  {
   "cell_type": "code",
   "execution_count": null,
   "metadata": {},
   "outputs": [],
   "source": [
    "ages=sorted(df['age'].dropna().unique())\n",
    "plt.figure(figsize=(20,4))\n",
    "sns.countplot(x='age',data=df[df['stroke'] == 1],order=ages,hue='stroke')"
   ]
  },
  {
   "cell_type": "code",
   "execution_count": null,
   "metadata": {},
   "outputs": [],
   "source": [
    "plt.figure(figsize=(8,8))\n",
    "sns.boxplot(x='stroke',y='age',data=df)"
   ]
  },
  {
   "cell_type": "code",
   "execution_count": null,
   "metadata": {},
   "outputs": [],
   "source": []
  },
  {
   "cell_type": "code",
   "execution_count": null,
   "metadata": {},
   "outputs": [],
   "source": [
    "# sorted(df['smoking_status'].unique())\n",
    "plt.figure(figsize=(10,10))\n",
    "sns.countplot(x='stroke',data=df,hue='smoking_status')"
   ]
  },
  {
   "cell_type": "code",
   "execution_count": null,
   "metadata": {},
   "outputs": [],
   "source": [
    "df.corr()"
   ]
  },
  {
   "cell_type": "code",
   "execution_count": null,
   "metadata": {},
   "outputs": [],
   "source": [
    "plt.figure(figsize=(20,5))\n",
    "df.corr()['age'].sort_values().drop('age')"
   ]
  },
  {
   "cell_type": "code",
   "execution_count": null,
   "metadata": {},
   "outputs": [],
   "source": [
    "df.head()"
   ]
  },
  {
   "cell_type": "code",
   "execution_count": null,
   "metadata": {},
   "outputs": [],
   "source": [
    "len(df)"
   ]
  },
  {
   "cell_type": "code",
   "execution_count": null,
   "metadata": {},
   "outputs": [],
   "source": [
    "df.isnull().sum()\n",
    "df[np.isnan(df['bmi'])]"
   ]
  },
  {
   "cell_type": "code",
   "execution_count": null,
   "metadata": {},
   "outputs": [],
   "source": [
    "age_1 = df[df['stroke']==1].groupby(\"smoking_status\").count()['stroke']\n",
    "age_0 = df[df['stroke']==0].groupby(\"smoking_status\").count()['stroke']\n"
   ]
  },
  {
   "cell_type": "code",
   "execution_count": null,
   "metadata": {},
   "outputs": [],
   "source": [
    " (age_1/(age_1 + age_0))"
   ]
  },
  {
   "cell_type": "code",
   "execution_count": null,
   "metadata": {},
   "outputs": [],
   "source": [
    "plt.figure(figsize=(17,8))\n",
    "age_len = age_1/age_0\n",
    "age_len.plot(kind = 'bar')"
   ]
  },
  {
   "cell_type": "code",
   "execution_count": null,
   "metadata": {},
   "outputs": [],
   "source": [
    "len(df.columns)"
   ]
  },
  {
   "cell_type": "markdown",
   "metadata": {},
   "source": [
    "## Split Data"
   ]
  },
  {
   "cell_type": "code",
   "execution_count": null,
   "metadata": {},
   "outputs": [],
   "source": [
    "from sklearn.model_selection import train_test_split\n",
    "df=df.sample(frac=1)"
   ]
  },
  {
   "cell_type": "code",
   "execution_count": null,
   "metadata": {},
   "outputs": [],
   "source": [
    "X = df.drop('stroke', axis =1).values\n",
    "X"
   ]
  },
  {
   "cell_type": "code",
   "execution_count": null,
   "metadata": {},
   "outputs": [],
   "source": [
    "y = df['stroke'].values\n",
    "y"
   ]
  },
  {
   "cell_type": "code",
   "execution_count": null,
   "metadata": {},
   "outputs": [],
   "source": [
    "X_train, X_test, y_train, y_test = train_test_split(X, y, test_size=0.20, random_state=101)"
   ]
  },
  {
   "cell_type": "code",
   "execution_count": null,
   "metadata": {},
   "outputs": [],
   "source": [
    "from sklearn.preprocessing import MinMaxScaler\n",
    "scaler = MinMaxScaler()\n",
    "\n",
    "X_train = scaler.fit_transform(X_train)\n",
    "X_test = scaler.transform(X_test)"
   ]
  },
  {
   "cell_type": "code",
   "execution_count": null,
   "metadata": {},
   "outputs": [],
   "source": [
    "import tensorflow as tf\n",
    "from tensorflow.keras.models import Sequential\n",
    "from tensorflow.keras.layers import Dense, Activation,Dropout\n",
    "from tensorflow.keras.constraints import max_norm\n",
    "from tensorflow.keras.callbacks import EarlyStopping, TensorBoard\n",
    "from datetime import datetime\n",
    "\n",
    "early_stop = EarlyStopping(monitor='val_loss', mode='min', verbose=1, patience=30)\n",
    "\n",
    "time = datetime.now().strftime(\"%Y-%m-%d--%H%M\")\n",
    "logdir = 'logs\\\\hparam_tuning'\n",
    "# board = TensorBoard(log_dir=log_dir, histogram_freq=1, write_graph=True, write_images = True, \n",
    "#                     update_freq='epoch', profile_batch=2, embeddings_freq=1)"
   ]
  },
  {
   "cell_type": "code",
   "execution_count": null,
   "metadata": {},
   "outputs": [],
   "source": [
    "\n",
    "model = Sequential()\n",
    "# input layer\n",
    "model.add(Dense(39,  activation='relu'))\n",
    "model.add(Dropout(0.1))\n",
    "\n",
    "# hidden layer\n",
    "model.add(Dense(24, activation='relu'))\n",
    "model.add(Dropout(0.1))\n",
    "\n",
    "# hidden layer\n",
    "model.add(Dense(18, activation='relu'))\n",
    "model.add(Dropout(0.1))\n",
    "\n",
    "# hidden layer\n",
    "model.add(Dense(8, activation='relu'))\n",
    "model.add(Dropout(0.1))\n",
    "\n",
    "# output layer\n",
    "model.add(Dense(units=1,activation='sigmoid'))\n",
    "\n",
    "# Compile model\n",
    "model.compile(loss='binary_crossentropy', optimizer='adam',  metrics=['accuracy'] )\n",
    "\n",
    "weight_for_0 = (1 / neg)*(total)/2.0 \n",
    "weight_for_1 = (1 / pos)*(total)/2.0\n",
    "\n",
    "class_weight = {0: weight_for_0, 1: weight_for_1}\n",
    "\n",
    "print('Weight for class 0: {:.2f}'.format(weight_for_0))\n",
    "print('Weight for class 1: {:.2f}'.format(weight_for_1))\n",
    "\n",
    "weights = {0:1, 1:54}\n",
    "model.fit(x=X_train, \n",
    "          y=y_train, \n",
    "          epochs=400,\n",
    "          class_weight=weights,\n",
    "          batch_size=2048,\n",
    "          validation_data=(X_test, y_test), \n",
    "          verbose=1,\n",
    "          callbacks = [early_stop]\n",
    "          )\n"
   ]
  },
  {
   "cell_type": "code",
   "execution_count": null,
   "metadata": {},
   "outputs": [],
   "source": [
    "# from tensorboard.plugins.hparams import api as hp\n",
    "# HP_NUM_UNITS_L1 = hp.HParam('num_units_l1', hp.Discrete([16, 32]))\n",
    "# HP_NUM_UNITS_L2 = hp.HParam('num_units_l2', hp.Discrete([8,4]))\n",
    "# HP_DROPOUT = hp.HParam('dropout', hp.RealInterval(0.1, 0.2))\n",
    "# HP_OPTIMIZER = hp.HParam('optimizer', hp.Discrete(['adam', 'sgd']))\n",
    "\n",
    "# METRIC_ACCURACY = 'accuracy'\n",
    "\n",
    "# with tf.summary.create_file_writer('logs\\\\hparam_tuning').as_default():\n",
    "#     hp.hparams_config(\n",
    "#         hparams=[HP_NUM_UNITS_L1,HP_NUM_UNITS_L2, HP_DROPOUT, HP_OPTIMIZER],\n",
    "#         metrics=[hp.Metric(METRIC_ACCURACY, display_name='Accuracy')],\n",
    "#   )\n",
    "\n",
    "# def train_test_model(hparams):\n",
    "#     model = Sequential()\n",
    "#     # input layer\n",
    "#     model.add(Dense(hparams[HP_NUM_UNITS_L1],  activation='relu'))\n",
    "#     model.add(Dropout(hparams[HP_DROPOUT]))\n",
    "\n",
    "#     # hidden layer\n",
    "#     model.add(Dense(hparams[HP_NUM_UNITS_L2], activation='relu'))\n",
    "#     model.add(Dropout(hparams[HP_DROPOUT]))\n",
    "    \n",
    "#     model.add(Dense(8, activation='relu'))\n",
    "#     model.add(Dropout(hparams[HP_DROPOUT]))\n",
    "#     # output layer\n",
    "#     model.add(Dense(units=1,activation='sigmoid'))\n",
    "\n",
    "#     # Compile model\n",
    "#     model.compile(loss='binary_crossentropy', optimizer=hparams[HP_OPTIMIZER],  metrics=['accuracy'])\n",
    "    \n",
    "#     model.fit(x=X_train, \n",
    "#           y=y_train, \n",
    "#           epochs=400,\n",
    "#           validation_data=(X_test, y_test), \n",
    "#           verbose=1,\n",
    "#           callbacks = [early_stop,\n",
    "#                        tf.keras.callbacks.TensorBoard(logdir),  # log metrics\n",
    "#                         hp.KerasCallback(logdir, hparams)]\n",
    "#           )\n",
    "    \n",
    "#     _, accuracy = model.evaluate(X_test, y_test)\n",
    "    \n",
    "#     return accuracy\n",
    "\n",
    "# def run(run_dir, hparams):\n",
    "#     with tf.summary.create_file_writer(run_dir).as_default():\n",
    "#         hp.hparams(hparams)  # record the values used in this trial\n",
    "#         accuracy = train_test_model(hparams)\n",
    "#         tf.summary.scalar(METRIC_ACCURACY, accuracy, step=1)\n",
    "\n",
    "# session_num = 0\n",
    "\n",
    "# for num_units_l1 in HP_NUM_UNITS_L1.domain.values:\n",
    "#     for num_units_l2 in HP_NUM_UNITS_L2.domain.values:\n",
    "#         for dropout_rate in (HP_DROPOUT.domain.min_value, HP_DROPOUT.domain.max_value):\n",
    "#             for optimizer in HP_OPTIMIZER.domain.values:\n",
    "#               hparams = {\n",
    "#                   HP_NUM_UNITS_L1: num_units_l1,\n",
    "#                   HP_NUM_UNITS_L2: num_units_l2,\n",
    "#                   HP_DROPOUT: dropout_rate,\n",
    "#                   HP_OPTIMIZER: optimizer,\n",
    "#               }\n",
    "#               run_name = \"run-%d\" % session_num\n",
    "#               print('--- Starting trial: %s' % run_name)\n",
    "#               print({h.name: hparams[h] for h in hparams})\n",
    "#               run('logs\\\\hparam_tuning' + run_name, hparams)\n",
    "#               session_num += 1"
   ]
  },
  {
   "cell_type": "code",
   "execution_count": null,
   "metadata": {},
   "outputs": [],
   "source": []
  },
  {
   "cell_type": "code",
   "execution_count": null,
   "metadata": {},
   "outputs": [],
   "source": []
  },
  {
   "cell_type": "code",
   "execution_count": null,
   "metadata": {},
   "outputs": [],
   "source": []
  },
  {
   "cell_type": "code",
   "execution_count": null,
   "metadata": {},
   "outputs": [],
   "source": [
    "losses = pd.DataFrame(model.history.history)\n",
    "losses[['loss','val_loss']].plot()"
   ]
  },
  {
   "cell_type": "code",
   "execution_count": null,
   "metadata": {},
   "outputs": [],
   "source": []
  },
  {
   "cell_type": "code",
   "execution_count": null,
   "metadata": {},
   "outputs": [],
   "source": [
    "from sklearn.metrics import classification_report,confusion_matrix"
   ]
  },
  {
   "cell_type": "code",
   "execution_count": null,
   "metadata": {},
   "outputs": [],
   "source": [
    "\n",
    "predictions = model.predict_classes(X_test)\n",
    "print(classification_report(y_test,predictions))"
   ]
  },
  {
   "cell_type": "code",
   "execution_count": null,
   "metadata": {},
   "outputs": [],
   "source": [
    "# part of this code is taken from https://www.tensorflow.org/tutorials/structured_data/imbalanced_data\n",
    "plot_cm(y_test,predictions)\n",
    "def plot_cm(labels, predictions, p=0.5):\n",
    "  cm = confusion_matrix(labels, predictions > p)\n",
    "  plt.figure(figsize=(5,5))\n",
    "  sns.heatmap(cm, annot=True, fmt=\"d\")\n",
    "  plt.title('Confusion matrix @{:.2f}'.format(p))\n",
    "#   plt.ylabel('Actual label')\n",
    "#   plt.xlabel('Predicted label')\n",
    "  plt.ylim(2, 0)\n",
    "  print('True Negatives: ', cm[0][0])\n",
    "  print('False Positives: ', cm[0][1])\n",
    "  print('False Negatives: ', cm[1][0])\n",
    "  print('True Positives: ', cm[1][1])\n",
    "  print('Total Fraudulent Transactions: ', np.sum(cm[1]))\n",
    "    "
   ]
  },
  {
   "cell_type": "code",
   "execution_count": null,
   "metadata": {},
   "outputs": [],
   "source": [
    "roc_curve(y_test,predictions)"
   ]
  },
  {
   "cell_type": "code",
   "execution_count": null,
   "metadata": {},
   "outputs": [],
   "source": [
    "len(predictions)"
   ]
  },
  {
   "cell_type": "code",
   "execution_count": null,
   "metadata": {},
   "outputs": [],
   "source": [
    "row = 300\n",
    "patient = df.drop('stroke', axis = 1).iloc[row]\n",
    "patient"
   ]
  },
  {
   "cell_type": "code",
   "execution_count": null,
   "metadata": {},
   "outputs": [],
   "source": [
    "patient = scaler.transform(patient.values.reshape(1,13))\n",
    "patient"
   ]
  },
  {
   "cell_type": "code",
   "execution_count": null,
   "metadata": {},
   "outputs": [],
   "source": [
    "model.predict_classes(patient)[0][0]"
   ]
  },
  {
   "cell_type": "code",
   "execution_count": null,
   "metadata": {},
   "outputs": [],
   "source": [
    "for row in range (0,10):\n",
    "    patient = df.drop('stroke', axis = 1).iloc[row]\n",
    "    patient = scaler.transform(patient.values.reshape(1,13))\n",
    "    prediction = (model.predict_classes(patient))[0][0]\n",
    "    print (\"Predicted:{} Actual:{}\".format(prediction,df.iloc[row]['stroke']))"
   ]
  },
  {
   "cell_type": "raw",
   "metadata": {},
   "source": [
    "\n",
    "\n"
   ]
  },
  {
   "cell_type": "code",
   "execution_count": null,
   "metadata": {},
   "outputs": [],
   "source": []
  }
 ],
 "metadata": {
  "kernelspec": {
   "display_name": "Python 3",
   "language": "python",
   "name": "python3"
  },
  "language_info": {
   "codemirror_mode": {
    "name": "ipython",
    "version": 3
   },
   "file_extension": ".py",
   "mimetype": "text/x-python",
   "name": "python",
   "nbconvert_exporter": "python",
   "pygments_lexer": "ipython3",
   "version": "3.7.4"
  }
 },
 "nbformat": 4,
 "nbformat_minor": 2
}
