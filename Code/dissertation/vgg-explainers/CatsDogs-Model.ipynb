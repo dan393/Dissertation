{
 "cells": [
  {
   "cell_type": "code",
   "execution_count": 1,
   "metadata": {},
   "outputs": [
    {
     "name": "stdout",
     "output_type": "stream",
     "text": [
      "tensorflow2.2.0\n",
      "tensorboard2.2.2\n",
      "seaborn0.10.1\n",
      "Num GPUs Available:  1\n"
     ]
    },
    {
     "data": {
      "text/html": [
       "<style>.container { width:80% !important; }</style>"
      ],
      "text/plain": [
       "<IPython.core.display.HTML object>"
      ]
     },
     "metadata": {},
     "output_type": "display_data"
    }
   ],
   "source": [
    "import tensorboard as tensorboard\n",
    "import seaborn as seaborn\n",
    "from tensorflow.python.client import device_lib\n",
    "import tensorflow as tf\n",
    "print('tensorflow' + tf.__version__)\n",
    "print('tensorboard' + tensorboard.__version__)\n",
    "print('seaborn' + seaborn.__version__)\n",
    "tf.config.list_physical_devices('GPU')\n",
    "tf.test.is_built_with_cuda\n",
    "print(\"Num GPUs Available: \", len(tf.config.experimental.list_physical_devices('GPU')))\n",
    "tf.config.experimental.list_physical_devices('GPU')\n",
    "device_lib.list_local_devices()\n",
    "from IPython.core.display import display, HTML\n",
    "display(HTML(\"<style>.container { width:80% !important; }</style>\"))"
   ]
  },
  {
   "cell_type": "code",
   "execution_count": null,
   "metadata": {
    "pycharm": {
     "name": "#%%\n"
    }
   },
   "outputs": [],
   "source": []
  },
  {
   "cell_type": "code",
   "execution_count": 2,
   "metadata": {
    "pycharm": {
     "name": "#%%\n"
    }
   },
   "outputs": [
    {
     "data": {
      "text/plain": [
       "['cats', 'dogs']"
      ]
     },
     "execution_count": 2,
     "metadata": {},
     "output_type": "execute_result"
    }
   ],
   "source": [
    "import os\n",
    "import pandas as pd\n",
    "import numpy as np\n",
    "import seaborn as sns\n",
    "import matplotlib.pyplot as plt\n",
    "from matplotlib.image import imread\n",
    "\n",
    "data_dir=\"../../input/pets\"\n",
    "test_path= os.path.join(data_dir, 'test')\n",
    "train_path= os.path.join(data_dir, 'train')\n",
    "os.listdir(train_path)"
   ]
  },
  {
   "cell_type": "code",
   "execution_count": 3,
   "metadata": {
    "pycharm": {
     "name": "#%%\n"
    }
   },
   "outputs": [
    {
     "data": {
      "text/plain": [
       "['cats', 'dogs']"
      ]
     },
     "execution_count": 3,
     "metadata": {},
     "output_type": "execute_result"
    }
   ],
   "source": [
    "import os\n",
    "import pandas as pd\n",
    "import numpy as np\n",
    "import seaborn as sns\n",
    "import matplotlib.pyplot as plt\n",
    "from matplotlib.image import imread\n",
    "\n",
    "data_dir=\"../../input/pets\"\n",
    "test_path= os.path.join(data_dir, 'test')\n",
    "train_path= os.path.join(data_dir, 'train')\n",
    "os.listdir(train_path)"
   ]
  },
  {
   "cell_type": "code",
   "execution_count": 4,
   "metadata": {
    "pycharm": {
     "name": "#%%\n"
    }
   },
   "outputs": [
    {
     "data": {
      "text/plain": [
       "['cats', 'dogs']"
      ]
     },
     "execution_count": 4,
     "metadata": {},
     "output_type": "execute_result"
    }
   ],
   "source": [
    "import os\n",
    "import pandas as pd\n",
    "import numpy as np\n",
    "import seaborn as sns\n",
    "import matplotlib.pyplot as plt\n",
    "from matplotlib.image import imread\n",
    "\n",
    "data_dir=\"../../input/pets\"\n",
    "test_path= os.path.join(data_dir, 'test')\n",
    "train_path= os.path.join(data_dir, 'train')\n",
    "os.listdir(train_path)"
   ]
  },
  {
   "cell_type": "code",
   "execution_count": 5,
   "metadata": {},
   "outputs": [
    {
     "data": {
      "text/plain": [
       "['cats', 'dogs']"
      ]
     },
     "execution_count": 5,
     "metadata": {},
     "output_type": "execute_result"
    }
   ],
   "source": [
    "import os\n",
    "import pandas as pd\n",
    "import numpy as np\n",
    "import seaborn as sns\n",
    "import matplotlib.pyplot as plt\n",
    "from matplotlib.image import imread\n",
    "\n",
    "data_dir=\"../../input/pets\"\n",
    "test_path= os.path.join(data_dir, 'test')\n",
    "train_path= os.path.join(data_dir, 'train')\n",
    "os.listdir(train_path)"
   ]
  },
  {
   "cell_type": "code",
   "execution_count": 6,
   "metadata": {},
   "outputs": [
    {
     "data": {
      "text/plain": [
       "['cats', 'dogs']"
      ]
     },
     "execution_count": 6,
     "metadata": {},
     "output_type": "execute_result"
    }
   ],
   "source": [
    "import os\n",
    "import pandas as pd\n",
    "import numpy as np\n",
    "import seaborn as sns\n",
    "import matplotlib.pyplot as plt\n",
    "from matplotlib.image import imread\n",
    "\n",
    "data_dir=\"../../input/pets\"\n",
    "test_path= os.path.join(data_dir, 'test')\n",
    "train_path= os.path.join(data_dir, 'train')\n",
    "os.listdir(train_path)"
   ]
  },
  {
   "cell_type": "code",
   "execution_count": 7,
   "metadata": {},
   "outputs": [
    {
     "data": {
      "text/plain": [
       "(329, 499, 3)"
      ]
     },
     "execution_count": 7,
     "metadata": {},
     "output_type": "execute_result"
    }
   ],
   "source": [
    "\n",
    "cat_image = train_path + '/cats/' + os.listdir(train_path + '/cats')[5]\n",
    "imread(cat_image).shape\n",
    "# plt.imshow(imread(cat_image))"
   ]
  },
  {
   "cell_type": "code",
   "execution_count": 8,
   "metadata": {},
   "outputs": [
    {
     "data": {
      "text/plain": [
       "'../../input/pets\\\\train/cats/100718055_0e9d3ca2b6.jpg'"
      ]
     },
     "execution_count": 8,
     "metadata": {},
     "output_type": "execute_result"
    },
    {
     "data": {
      "image/png": "[encoded data removed]",
      "text/plain": [
       "<Figure size 432x288 with 1 Axes>"
      ]
     },
     "metadata": {
      "needs_background": "light"
     },
     "output_type": "display_data"
    }
   ],
   "source": [
    "daisy_image = train_path + '/cats/' + os.listdir(train_path + '/cats/')[5]\n",
    "plt.imshow(imread(daisy_image ))\n",
    "daisy_image"
   ]
  },
  {
   "cell_type": "code",
   "execution_count": 9,
   "metadata": {},
   "outputs": [],
   "source": [
    "# len(os.listdir(train_path + '/dogs'))"
   ]
  },
  {
   "cell_type": "code",
   "execution_count": 10,
   "metadata": {},
   "outputs": [
    {
     "data": {
      "text/plain": [
       "<seaborn.axisgrid.JointGrid at 0x1a20658d550>"
      ]
     },
     "execution_count": 10,
     "metadata": {},
     "output_type": "execute_result"
    },
    {
     "data": {
      "image/png": "[encoded data removed]",
      "text/plain": [
       "<Figure size 432x432 with 3 Axes>"
      ]
     },
     "metadata": {
      "needs_background": "light"
     },
     "output_type": "display_data"
    }
   ],
   "source": [
    "dim1=[]\n",
    "dim2=[]\n",
    "\n",
    "for image_filename in os.listdir(test_path + '/cats/'):\n",
    "    img = imread(test_path+'/cats/' + image_filename)\n",
    "#     print (train_path+'\\\\dogs\\\\' + image_filename)\n",
    "    d1,d2, _ = img.shape\n",
    "    dim1.append(d1)\n",
    "    dim2.append(d2)\n",
    "sns.jointplot(dim1, dim2)"
   ]
  },
  {
   "cell_type": "code",
   "execution_count": 11,
   "metadata": {},
   "outputs": [],
   "source": [
    "np.mean(dim1)\n",
    "imread(daisy_image).shape\n",
    "image_shape =(250, 250, 3)"
   ]
  },
  {
   "cell_type": "code",
   "execution_count": 12,
   "metadata": {},
   "outputs": [],
   "source": [
    "from tensorflow.keras.preprocessing.image import ImageDataGenerator\n",
    "train_gen = ImageDataGenerator(rotation_range=20, width_shift_range=0.1, height_shift_range=0.1, rescale =1./255, shear_range=0.1, zoom_range=0.1, horizontal_flip=True, fill_mode='nearest')\n",
    "test_gen = ImageDataGenerator(rescale =1./255)"
   ]
  },
  {
   "cell_type": "code",
   "execution_count": 13,
   "metadata": {},
   "outputs": [
    {
     "data": {
      "text/plain": [
       "<matplotlib.image.AxesImage at 0x1a206ac8610>"
      ]
     },
     "execution_count": 13,
     "metadata": {},
     "output_type": "execute_result"
    },
    {
     "data": {
      "image/png": "[encoded data removed]",
      "text/plain": [
       "<Figure size 432x288 with 1 Axes>"
      ]
     },
     "metadata": {
      "needs_background": "light"
     },
     "output_type": "display_data"
    }
   ],
   "source": [
    "plt.imshow(imread(cat_image))\n",
    "cat_image\n",
    "plt.imshow(train_gen.random_transform(imread(daisy_image)))"
   ]
  },
  {
   "cell_type": "code",
   "execution_count": 14,
   "metadata": {},
   "outputs": [],
   "source": [
    "# image_gen.flow_from_directory(train_path)"
   ]
  },
  {
   "cell_type": "code",
   "execution_count": 15,
   "metadata": {},
   "outputs": [
    {
     "name": "stdout",
     "output_type": "stream",
     "text": [
      "Found 1101 images belonging to 2 classes.\n",
      "Found 397 images belonging to 2 classes.\n"
     ]
    },
    {
     "data": {
      "text/plain": [
       "{'cats': 0, 'dogs': 1}"
      ]
     },
     "execution_count": 15,
     "metadata": {},
     "output_type": "execute_result"
    }
   ],
   "source": [
    "from tensorflow.keras.callbacks import EarlyStopping\n",
    "early_stop = EarlyStopping(monitor='val_accuracy', patience=5, restore_best_weights=True)\n",
    "batch_size=32\n",
    "\n",
    "train_image_gen= train_gen.flow_from_directory(train_path, target_size=image_shape[:2], \n",
    "                                               color_mode='rgb', batch_size=batch_size, \n",
    "                                               class_mode='binary')\n",
    "\n",
    "test_image_gen= test_gen.flow_from_directory(test_path, target_size=image_shape[:2], \n",
    "                                               color_mode='rgb', batch_size=batch_size, \n",
    "                                               class_mode='binary',  shuffle=False)\n",
    "\n",
    "train_image_gen.class_indices"
   ]
  },
  {
   "cell_type": "code",
   "execution_count": 16,
   "metadata": {
    "scrolled": true
   },
   "outputs": [],
   "source": [
    "from tensorflow.keras.models import Sequential\n",
    "from tensorflow.keras.layers import Dense, Conv2D, MaxPool2D, Dropout, Flatten\n",
    "\n",
    "\n",
    "# # import keras_resnet.models\n",
    "# import keras\n",
    "\n",
    "# # x = keras.layers.Input(image_shape)\n",
    "# # base_model = keras_resnet.models.ResNet50(x, classes=1)\n",
    "\n",
    "# model = Sequential()\n",
    "\n",
    "# model.add(Conv2D(filters=32, kernel_size=(4,4), input_shape=image_shape, activation='relu'))\n",
    "# model.add(MaxPool2D(pool_size=(2,2)))\n",
    "\n",
    "# model.add(Conv2D(filters=32, kernel_size=(4,4), input_shape=image_shape, activation='relu'))\n",
    "# model.add(MaxPool2D(pool_size=(2,2)))\n",
    "\n",
    "# model.add(Conv2D(filters=64, kernel_size=(4,4), input_shape=image_shape, activation='relu'))\n",
    "# model.add(MaxPool2D(pool_size=(2,2)))\n",
    "\n",
    "# model.add(Flatten())\n",
    "\n",
    "\n",
    "# # model.add(Dense(1024, activation='relu'))\n",
    "# # model.add(Dropout(0.5))\n",
    "\n",
    "# model.add(Dense(512, activation='relu'))\n",
    "# model.add(Dropout(0.3))\n",
    "\n",
    "# model.add(Dense(256, activation='relu'))\n",
    "# model.add(Dropout(0.3))\n",
    "# model.add(Dense(128, activation='relu'))\n",
    "# model.add(Dropout(0.3))\n",
    "# model.add(Dense(5, activation='softmax'))\n",
    "\n",
    "\n",
    "\n",
    "# # from keras.layers import Dense, Dropout, Flatten, Conv2D, MaxPool2D,GlobalAveragePooling2D, BatchNormalization\n",
    "# # from keras.models import Sequential,Model,load_model\n",
    "# # from keras import applications\n",
    "\n",
    "\n",
    "\n",
    "\n",
    "# # model = Sequential()\n",
    "\n",
    "# # model.add(applications.ResNet50(include_top=False, pooling=None, input_shape=image_shape))\n",
    "# # model.add(Flatten())\n",
    "# # model.add(BatchNormalization())\n",
    "# # model.add(Dense(2048, activation='relu'))\n",
    "# # model.add(Dropout(0.5))\n",
    "# # model.add(BatchNormalization())\n",
    "# # model.add(Dense(1024, activation='relu'))\n",
    "# # model.add(Dropout(0.5))\n",
    "# # model.add(BatchNormalization())\n",
    "# # model.add(Dense(5, activation='softmax'))\n",
    "\n",
    "# # model.layers[0].trainable = False\n",
    "\n",
    "\n",
    "\n",
    "# # base_model = applications.ResNet152V2(weights= None, include_top=False, input_shape= image_shape)\n",
    "# # x = base_model.output\n",
    "# # # x = GlobalAveragePooling2D()(x)\n",
    "# # x = Flatten()(x)\n",
    "# # x = Dense(1024, activation = 'relu')(x)\n",
    "# # x = Dropout(0.5)(x)\n",
    "# # predictions = Dense(5, activation= 'softmax')(x)\n",
    "# # model = Model(inputs = base_model.input, outputs = predictions)\n",
    "\n",
    "# from tensorflow.keras.optimizers import SGD, Adam\n",
    "# opt = Adam(lr=0.0001)\n",
    "# # opt = SGD(lr=0.01)\n",
    "# model.compile(loss='categorical_crossentropy', optimizer=opt, metrics=['accuracy'])\n",
    "\n",
    "# results = model.fit(train_image_gen, epochs=30, verbose = 1, validation_data=test_image_gen, callbacks=[early_stop])"
   ]
  },
  {
   "cell_type": "code",
   "execution_count": 17,
   "metadata": {
    "scrolled": false
   },
   "outputs": [
    {
     "name": "stdout",
     "output_type": "stream",
     "text": [
      "Found 1101 images belonging to 2 classes.\n",
      "Found 397 images belonging to 2 classes.\n",
      "WARNING:tensorflow:From <ipython-input-17-f7c7d12d01c2>:57: Model.fit_generator (from tensorflow.python.keras.engine.training) is deprecated and will be removed in a future version.\n",
      "Instructions for updating:\n",
      "Please use Model.fit, which supports generators.\n",
      "Epoch 1/30\n",
      "69/69 [==============================] - 28s 401ms/step - loss: 0.6433 - accuracy: 0.6394 - val_loss: 0.7204 - val_accuracy: 0.5819\n",
      "Epoch 2/30\n",
      "69/69 [==============================] - 19s 279ms/step - loss: 0.5780 - accuracy: 0.6975 - val_loss: 0.5074 - val_accuracy: 0.7330\n",
      "Epoch 3/30\n",
      "69/69 [==============================] - 20s 290ms/step - loss: 0.5049 - accuracy: 0.7375 - val_loss: 0.4820 - val_accuracy: 0.7531\n",
      "Epoch 4/30\n",
      "69/69 [==============================] - 19s 274ms/step - loss: 0.4339 - accuracy: 0.7975 - val_loss: 0.5354 - val_accuracy: 0.7179\n",
      "Epoch 5/30\n",
      "69/69 [==============================] - 21s 304ms/step - loss: 0.4243 - accuracy: 0.7893 - val_loss: 0.4618 - val_accuracy: 0.7557\n",
      "Epoch 6/30\n",
      "69/69 [==============================] - 20s 288ms/step - loss: 0.4571 - accuracy: 0.7684 - val_loss: 0.5418 - val_accuracy: 0.7355\n",
      "Epoch 7/30\n",
      "69/69 [==============================] - 19s 281ms/step - loss: 0.4388 - accuracy: 0.7793 - val_loss: 0.4561 - val_accuracy: 0.7632\n",
      "Epoch 8/30\n",
      "69/69 [==============================] - 19s 276ms/step - loss: 0.3870 - accuracy: 0.8147 - val_loss: 0.5051 - val_accuracy: 0.7355\n",
      "Epoch 9/30\n",
      "69/69 [==============================] - 21s 300ms/step - loss: 0.3833 - accuracy: 0.8256 - val_loss: 0.4243 - val_accuracy: 0.7985\n",
      "Epoch 10/30\n",
      "69/69 [==============================] - 22s 324ms/step - loss: 0.3361 - accuracy: 0.8538 - val_loss: 0.4248 - val_accuracy: 0.7783\n",
      "Epoch 11/30\n",
      "69/69 [==============================] - 20s 290ms/step - loss: 0.3379 - accuracy: 0.8510 - val_loss: 0.4552 - val_accuracy: 0.7708\n",
      "Epoch 12/30\n",
      "69/69 [==============================] - 21s 306ms/step - loss: 0.3213 - accuracy: 0.8510 - val_loss: 0.4293 - val_accuracy: 0.7884\n"
     ]
    }
   ],
   "source": [
    "from keras.applications.vgg16 import VGG16, preprocess_input, decode_predictions\n",
    "from keras import layers\n",
    "from keras import optimizers\n",
    "from keras.callbacks import ReduceLROnPlateau\n",
    "from keras.applications.vgg16 import VGG16\n",
    "from keras.models import Model\n",
    "from keras.layers import Dense\n",
    "from keras.layers import Flatten\n",
    "from keras.optimizers import SGD\n",
    "from keras.preprocessing.image import ImageDataGenerator\n",
    "\n",
    "batch_size=16\n",
    "image_shape =(224, 224, 3)\n",
    "train_image_gen= train_gen.flow_from_directory(train_path, target_size=image_shape[:2], \n",
    "                                               color_mode='rgb', batch_size=batch_size, \n",
    "                                               class_mode='binary')\n",
    "\n",
    "test_image_gen= test_gen.flow_from_directory(test_path, target_size=image_shape[:2], \n",
    "                                               color_mode='rgb', batch_size=batch_size, \n",
    "                                               class_mode='binary',  shuffle=False)\n",
    "\n",
    "\n",
    "model = VGG16(include_top=False, input_shape=(224, 224, 3))\n",
    "# mark loaded layers as not trainable\n",
    "for layer in model.layers:\n",
    "    layer.trainable = False\n",
    "# add new classifier layers\n",
    "flat1 = Flatten()(model.layers[-1].output)\n",
    "class1 = Dense(128, activation='relu', kernel_initializer='he_uniform')(flat1)\n",
    "output = Dense(1, activation='sigmoid')(class1)\n",
    "# define new model\n",
    "model = Model(inputs=model.inputs, outputs=output)\n",
    "# compile model\n",
    "opt = SGD(lr=0.001, momentum=0.9)\n",
    "model.compile(optimizer=opt, loss='binary_crossentropy', metrics=['accuracy'])\n",
    "\n",
    "\n",
    "# base = tf.keras.applications.VGG16(weights='imagenet', include_top=False, input_shape=image_shape)\n",
    "\n",
    "# for layer in base.layers[:-4]:\n",
    "#     layer.trainable = False\n",
    "# model = Sequential([\n",
    "#     base,\n",
    "#     layers.BatchNormalization(),\n",
    "#     layers.Conv2D(64, (3, 3), activation='relu', padding='same'),\n",
    "#     layers.GlobalAveragePooling2D(),\n",
    "#     layers.BatchNormalization(),\n",
    "#     layers.Dense(64, activation='relu'),\n",
    "#     layers.BatchNormalization(),\n",
    "#     layers.Dropout(0.20),\n",
    "#     layers.Dense(1, activation='sigmoid')\n",
    "# ])\n",
    "# model.compile(optimizer=optimizers.RMSprop(lr=1e-5),\n",
    "#               loss='binary_crossentropy',\n",
    "#               metrics=['accuracy'])\n",
    "\n",
    "results = model.fit_generator(train_image_gen, epochs=30,\n",
    "#                     steps_per_epoch=100,\n",
    "                    validation_data=test_image_gen,\n",
    "                    callbacks=[EarlyStopping(monitor=\"val_accuracy\", mode='max', patience=3, restore_best_weights=True)])\n",
    "# result = model.evaluate(test_x, test_y)\n",
    "# print(result)\n",
    "# model.save('12306.image.model.h5', include_optimizer=False) "
   ]
  },
  {
   "cell_type": "code",
   "execution_count": 18,
   "metadata": {},
   "outputs": [
    {
     "name": "stdout",
     "output_type": "stream",
     "text": [
      "Model: \"model\"\n",
      "_________________________________________________________________\n",
      "Layer (type)                 Output Shape              Param #   \n",
      "=================================================================\n",
      "input_1 (InputLayer)         [(None, 224, 224, 3)]     0         \n",
      "_________________________________________________________________\n",
      "block1_conv1 (Conv2D)        (None, 224, 224, 64)      1792      \n",
      "_________________________________________________________________\n",
      "block1_conv2 (Conv2D)        (None, 224, 224, 64)      36928     \n",
      "_________________________________________________________________\n",
      "block1_pool (MaxPooling2D)   (None, 112, 112, 64)      0         \n",
      "_________________________________________________________________\n",
      "block2_conv1 (Conv2D)        (None, 112, 112, 128)     73856     \n",
      "_________________________________________________________________\n",
      "block2_conv2 (Conv2D)        (None, 112, 112, 128)     147584    \n",
      "_________________________________________________________________\n",
      "block2_pool (MaxPooling2D)   (None, 56, 56, 128)       0         \n",
      "_________________________________________________________________\n",
      "block3_conv1 (Conv2D)        (None, 56, 56, 256)       295168    \n",
      "_________________________________________________________________\n",
      "block3_conv2 (Conv2D)        (None, 56, 56, 256)       590080    \n",
      "_________________________________________________________________\n",
      "block3_conv3 (Conv2D)        (None, 56, 56, 256)       590080    \n",
      "_________________________________________________________________\n",
      "block3_pool (MaxPooling2D)   (None, 28, 28, 256)       0         \n",
      "_________________________________________________________________\n",
      "block4_conv1 (Conv2D)        (None, 28, 28, 512)       1180160   \n",
      "_________________________________________________________________\n",
      "block4_conv2 (Conv2D)        (None, 28, 28, 512)       2359808   \n",
      "_________________________________________________________________\n",
      "block4_conv3 (Conv2D)        (None, 28, 28, 512)       2359808   \n",
      "_________________________________________________________________\n",
      "block4_pool (MaxPooling2D)   (None, 14, 14, 512)       0         \n",
      "_________________________________________________________________\n",
      "block5_conv1 (Conv2D)        (None, 14, 14, 512)       2359808   \n",
      "_________________________________________________________________\n",
      "block5_conv2 (Conv2D)        (None, 14, 14, 512)       2359808   \n",
      "_________________________________________________________________\n",
      "block5_conv3 (Conv2D)        (None, 14, 14, 512)       2359808   \n",
      "_________________________________________________________________\n",
      "block5_pool (MaxPooling2D)   (None, 7, 7, 512)         0         \n",
      "_________________________________________________________________\n",
      "flatten (Flatten)            (None, 25088)             0         \n",
      "_________________________________________________________________\n",
      "dense (Dense)                (None, 128)               3211392   \n",
      "_________________________________________________________________\n",
      "dense_1 (Dense)              (None, 1)                 129       \n",
      "=================================================================\n",
      "Total params: 17,926,209\n",
      "Trainable params: 3,211,521\n",
      "Non-trainable params: 14,714,688\n",
      "_________________________________________________________________\n"
     ]
    }
   ],
   "source": [
    "model.summary()"
   ]
  },
  {
   "cell_type": "code",
   "execution_count": 19,
   "metadata": {},
   "outputs": [
    {
     "ename": "NameError",
     "evalue": "name 'stop' is not defined",
     "output_type": "error",
     "traceback": [
      "\u001b[1;31m---------------------------------------------------------------------------\u001b[0m",
      "\u001b[1;31mNameError\u001b[0m                                 Traceback (most recent call last)",
      "\u001b[1;32m<ipython-input-19-4f76a9dad686>\u001b[0m in \u001b[0;36m<module>\u001b[1;34m\u001b[0m\n\u001b[1;32m----> 1\u001b[1;33m \u001b[0mstop\u001b[0m\u001b[1;33m\u001b[0m\u001b[1;33m\u001b[0m\u001b[0m\n\u001b[0m",
      "\u001b[1;31mNameError\u001b[0m: name 'stop' is not defined"
     ]
    }
   ],
   "source": [
    "stop"
   ]
  },
  {
   "cell_type": "code",
   "execution_count": null,
   "metadata": {},
   "outputs": [],
   "source": [
    "model.save('catsdogs-vgg')"
   ]
  },
  {
   "cell_type": "code",
   "execution_count": null,
   "metadata": {},
   "outputs": [],
   "source": []
  },
  {
   "cell_type": "code",
   "execution_count": null,
   "metadata": {},
   "outputs": [],
   "source": []
  },
  {
   "cell_type": "code",
   "execution_count": null,
   "metadata": {},
   "outputs": [],
   "source": [
    "import pandas as pd\n",
    "#\n",
    "pd.DataFrame.from_dict(results.history).to_csv('catsdogs-vgg.csv',index=False)"
   ]
  },
  {
   "cell_type": "code",
   "execution_count": null,
   "metadata": {},
   "outputs": [],
   "source": [
    "# history_dict = pd.read_csv(\"history_catsdogs.csv\")"
   ]
  },
  {
   "cell_type": "code",
   "execution_count": null,
   "metadata": {},
   "outputs": [],
   "source": [
    "results.history"
   ]
  },
  {
   "cell_type": "code",
   "execution_count": null,
   "metadata": {},
   "outputs": [],
   "source": [
    "model.history.history"
   ]
  },
  {
   "cell_type": "code",
   "execution_count": null,
   "metadata": {},
   "outputs": [],
   "source": [
    "plt.plot(model.history.history['val_accuracy'])\n",
    "plt.plot(model.history.history['accuracy'])"
   ]
  },
  {
   "cell_type": "code",
   "execution_count": null,
   "metadata": {},
   "outputs": [],
   "source": [
    "model.evaluate_generator(train_image_gen)"
   ]
  },
  {
   "cell_type": "code",
   "execution_count": null,
   "metadata": {},
   "outputs": [],
   "source": [
    "pred = model.predict_classes(test_image_gen)"
   ]
  },
  {
   "cell_type": "code",
   "execution_count": null,
   "metadata": {},
   "outputs": [],
   "source": [
    "pred"
   ]
  },
  {
   "cell_type": "code",
   "execution_count": null,
   "metadata": {},
   "outputs": [],
   "source": [
    "pred\n",
    "len(pred)"
   ]
  },
  {
   "cell_type": "code",
   "execution_count": null,
   "metadata": {},
   "outputs": [],
   "source": [
    "from sklearn.metrics import classification_report, confusion_matrix\n",
    "print (classification_report(test_image_gen.classes, pred))"
   ]
  },
  {
   "cell_type": "code",
   "execution_count": null,
   "metadata": {},
   "outputs": [],
   "source": [
    "test_image_gen.classes"
   ]
  },
  {
   "cell_type": "code",
   "execution_count": null,
   "metadata": {},
   "outputs": [],
   "source": [
    "confusion_matrix(test_image_gen.classes, pred)"
   ]
  },
  {
   "cell_type": "code",
   "execution_count": null,
   "metadata": {},
   "outputs": [],
   "source": [
    "dog_image"
   ]
  },
  {
   "cell_type": "code",
   "execution_count": null,
   "metadata": {},
   "outputs": [],
   "source": [
    "from tensorflow.keras.preprocessing import image\n",
    "my_image = image.load_img(dog_image, target_size=image_shape)\n",
    "my_image"
   ]
  },
  {
   "cell_type": "code",
   "execution_count": null,
   "metadata": {},
   "outputs": [],
   "source": [
    "help(image.load_img)"
   ]
  },
  {
   "cell_type": "code",
   "execution_count": null,
   "metadata": {},
   "outputs": [],
   "source": [
    "my_img_arr = image.img_to_array(my_image)\n",
    "my_img_arr.shape"
   ]
  },
  {
   "cell_type": "code",
   "execution_count": null,
   "metadata": {},
   "outputs": [],
   "source": [
    "my_img_arr = np.expand_dims(my_img_arr, axis =0)\n",
    "my_img_arr.shape"
   ]
  },
  {
   "cell_type": "code",
   "execution_count": null,
   "metadata": {},
   "outputs": [],
   "source": [
    "model.predict(my_img_arr)"
   ]
  },
  {
   "cell_type": "code",
   "execution_count": null,
   "metadata": {},
   "outputs": [],
   "source": [
    "# ! pip install keras-resnet"
   ]
  }
 ],
 "metadata": {
  "environment": {
   "name": "tf2-gpu.2-1.m46",
   "type": "gcloud",
   "uri": "gcr.io/deeplearning-platform-release/tf2-gpu.2-1:m46"
  },
  "kernelspec": {
   "display_name": "PyCharm (Dissertation)",
   "language": "python",
   "name": "pycharm-717ca2ec"
  },
  "language_info": {
   "codemirror_mode": {
    "name": "ipython",
    "version": 3
   },
   "file_extension": ".py",
   "mimetype": "text/x-python",
   "name": "python",
   "nbconvert_exporter": "python",
   "pygments_lexer": "ipython3",
   "version": "3.8.4"
  }
 },
 "nbformat": 4,
 "nbformat_minor": 4
}
