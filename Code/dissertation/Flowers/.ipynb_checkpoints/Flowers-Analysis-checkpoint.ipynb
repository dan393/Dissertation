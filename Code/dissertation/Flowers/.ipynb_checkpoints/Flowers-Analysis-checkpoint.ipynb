{
 "cells": [
  {
   "cell_type": "code",
   "execution_count": 1,
   "metadata": {
    "pycharm": {
     "name": "#%%\n"
    }
   },
   "outputs": [
    {
     "data": {
      "text/html": [
       "<style>.container { width:80% !important; }</style>"
      ],
      "text/plain": [
       "<IPython.core.display.HTML object>"
      ]
     },
     "metadata": {},
     "output_type": "display_data"
    }
   ],
   "source": [
    "import pandas as pd\n",
    "import numpy as np\n",
    "import matplotlib.pyplot as plt\n",
    "import seaborn as sns\n",
    "import tensorflow as tf\n",
    "import kr_helper_funcs as kr\n",
    "from sklearn.preprocessing import MinMaxScaler\n",
    "import kr_helper_funcs as kr\n",
    "import sklearn\n",
    "from sklearn.metrics import classification_report, confusion_matrix\n",
    "from lime import lime_tabular\n",
    "import shap\n",
    "import tensorflow_addons as tfa\n",
    "import os\n",
    "from IPython.core.display import display, HTML\n",
    "display(HTML(\"<style>.container { width:80% !important; }</style>\"))"
   ]
  },
  {
   "cell_type": "markdown",
   "metadata": {},
   "source": [
    "# Flowers Model"
   ]
  },
  {
   "cell_type": "code",
   "execution_count": 2,
   "metadata": {
    "pycharm": {
     "name": "#%%\n"
    }
   },
   "outputs": [],
   "source": [
    "name = 'flowers'\n",
    "fileName = \"{}-values.csv\".format(name, name)\n",
    "\n",
    "\n",
    "res = pd.read_csv(fileName)\n",
    "\n",
    "save_path = os.path.join('C:/Users/dan39/OneDrive/Desktop/DissertationLatex/DissertationLatex/images/', name)\n",
    "                         \n",
    "def save(img_name):\n",
    "    plt.savefig(os.path.join(save_path, img_name))"
   ]
  },
  {
   "cell_type": "code",
   "execution_count": 3,
   "metadata": {
    "pycharm": {
     "name": "#%%\n"
    }
   },
   "outputs": [
    {
     "data": {
      "text/html": [
       "<div>\n",
       "<style scoped>\n",
       "    .dataframe tbody tr th:only-of-type {\n",
       "        vertical-align: middle;\n",
       "    }\n",
       "\n",
       "    .dataframe tbody tr th {\n",
       "        vertical-align: top;\n",
       "    }\n",
       "\n",
       "    .dataframe thead th {\n",
       "        text-align: right;\n",
       "    }\n",
       "</style>\n",
       "<table border=\"1\" class=\"dataframe\">\n",
       "  <thead>\n",
       "    <tr style=\"text-align: right;\">\n",
       "      <th></th>\n",
       "      <th>original_class</th>\n",
       "      <th>original_probability</th>\n",
       "      <th>new_probability</th>\n",
       "      <th>confidence_diff</th>\n",
       "      <th>class_change</th>\n",
       "      <th>new_class</th>\n",
       "      <th>explainer</th>\n",
       "      <th>strategy</th>\n",
       "      <th>time</th>\n",
       "      <th>num_features</th>\n",
       "    </tr>\n",
       "  </thead>\n",
       "  <tbody>\n",
       "    <tr>\n",
       "      <th>0</th>\n",
       "      <td>0</td>\n",
       "      <td>0.880732</td>\n",
       "      <td>0.085416</td>\n",
       "      <td>0.795316</td>\n",
       "      <td>True</td>\n",
       "      <td>2</td>\n",
       "      <td>shap</td>\n",
       "      <td>top</td>\n",
       "      <td>21.959413</td>\n",
       "      <td>1</td>\n",
       "    </tr>\n",
       "    <tr>\n",
       "      <th>1</th>\n",
       "      <td>0</td>\n",
       "      <td>0.880732</td>\n",
       "      <td>0.969943</td>\n",
       "      <td>-0.089211</td>\n",
       "      <td>False</td>\n",
       "      <td>0</td>\n",
       "      <td>shap</td>\n",
       "      <td>rest</td>\n",
       "      <td>0.646333</td>\n",
       "      <td>1</td>\n",
       "    </tr>\n",
       "    <tr>\n",
       "      <th>2</th>\n",
       "      <td>0</td>\n",
       "      <td>0.880732</td>\n",
       "      <td>0.055923</td>\n",
       "      <td>0.824809</td>\n",
       "      <td>True</td>\n",
       "      <td>2</td>\n",
       "      <td>shap</td>\n",
       "      <td>top</td>\n",
       "      <td>0.523091</td>\n",
       "      <td>2</td>\n",
       "    </tr>\n",
       "    <tr>\n",
       "      <th>3</th>\n",
       "      <td>0</td>\n",
       "      <td>0.880732</td>\n",
       "      <td>0.826706</td>\n",
       "      <td>0.054026</td>\n",
       "      <td>False</td>\n",
       "      <td>0</td>\n",
       "      <td>shap</td>\n",
       "      <td>rest</td>\n",
       "      <td>0.582383</td>\n",
       "      <td>2</td>\n",
       "    </tr>\n",
       "    <tr>\n",
       "      <th>4</th>\n",
       "      <td>0</td>\n",
       "      <td>0.880732</td>\n",
       "      <td>0.035943</td>\n",
       "      <td>0.844789</td>\n",
       "      <td>True</td>\n",
       "      <td>2</td>\n",
       "      <td>shap</td>\n",
       "      <td>top</td>\n",
       "      <td>0.514453</td>\n",
       "      <td>3</td>\n",
       "    </tr>\n",
       "    <tr>\n",
       "      <th>...</th>\n",
       "      <td>...</td>\n",
       "      <td>...</td>\n",
       "      <td>...</td>\n",
       "      <td>...</td>\n",
       "      <td>...</td>\n",
       "      <td>...</td>\n",
       "      <td>...</td>\n",
       "      <td>...</td>\n",
       "      <td>...</td>\n",
       "      <td>...</td>\n",
       "    </tr>\n",
       "    <tr>\n",
       "      <th>37255</th>\n",
       "      <td>4</td>\n",
       "      <td>0.983524</td>\n",
       "      <td>0.994685</td>\n",
       "      <td>-0.011161</td>\n",
       "      <td>False</td>\n",
       "      <td>4</td>\n",
       "      <td>random</td>\n",
       "      <td>rest</td>\n",
       "      <td>0.679290</td>\n",
       "      <td>8</td>\n",
       "    </tr>\n",
       "    <tr>\n",
       "      <th>37256</th>\n",
       "      <td>4</td>\n",
       "      <td>0.983524</td>\n",
       "      <td>0.344223</td>\n",
       "      <td>0.639301</td>\n",
       "      <td>True</td>\n",
       "      <td>2</td>\n",
       "      <td>random</td>\n",
       "      <td>top</td>\n",
       "      <td>0.548576</td>\n",
       "      <td>9</td>\n",
       "    </tr>\n",
       "    <tr>\n",
       "      <th>37257</th>\n",
       "      <td>4</td>\n",
       "      <td>0.983524</td>\n",
       "      <td>0.994645</td>\n",
       "      <td>-0.011121</td>\n",
       "      <td>False</td>\n",
       "      <td>4</td>\n",
       "      <td>random</td>\n",
       "      <td>rest</td>\n",
       "      <td>0.577513</td>\n",
       "      <td>9</td>\n",
       "    </tr>\n",
       "    <tr>\n",
       "      <th>37258</th>\n",
       "      <td>4</td>\n",
       "      <td>0.983524</td>\n",
       "      <td>0.357512</td>\n",
       "      <td>0.626013</td>\n",
       "      <td>True</td>\n",
       "      <td>2</td>\n",
       "      <td>random</td>\n",
       "      <td>top</td>\n",
       "      <td>0.577841</td>\n",
       "      <td>10</td>\n",
       "    </tr>\n",
       "    <tr>\n",
       "      <th>37259</th>\n",
       "      <td>4</td>\n",
       "      <td>0.983524</td>\n",
       "      <td>0.996020</td>\n",
       "      <td>-0.012496</td>\n",
       "      <td>False</td>\n",
       "      <td>4</td>\n",
       "      <td>random</td>\n",
       "      <td>rest</td>\n",
       "      <td>0.627323</td>\n",
       "      <td>10</td>\n",
       "    </tr>\n",
       "  </tbody>\n",
       "</table>\n",
       "<p>37260 rows × 10 columns</p>\n",
       "</div>"
      ],
      "text/plain": [
       "       original_class  original_probability  new_probability  confidence_diff  \\\n",
       "0                   0              0.880732         0.085416         0.795316   \n",
       "1                   0              0.880732         0.969943        -0.089211   \n",
       "2                   0              0.880732         0.055923         0.824809   \n",
       "3                   0              0.880732         0.826706         0.054026   \n",
       "4                   0              0.880732         0.035943         0.844789   \n",
       "...               ...                   ...              ...              ...   \n",
       "37255               4              0.983524         0.994685        -0.011161   \n",
       "37256               4              0.983524         0.344223         0.639301   \n",
       "37257               4              0.983524         0.994645        -0.011121   \n",
       "37258               4              0.983524         0.357512         0.626013   \n",
       "37259               4              0.983524         0.996020        -0.012496   \n",
       "\n",
       "       class_change  new_class explainer strategy       time  num_features  \n",
       "0              True          2      shap      top  21.959413             1  \n",
       "1             False          0      shap     rest   0.646333             1  \n",
       "2              True          2      shap      top   0.523091             2  \n",
       "3             False          0      shap     rest   0.582383             2  \n",
       "4              True          2      shap      top   0.514453             3  \n",
       "...             ...        ...       ...      ...        ...           ...  \n",
       "37255         False          4    random     rest   0.679290             8  \n",
       "37256          True          2    random      top   0.548576             9  \n",
       "37257         False          4    random     rest   0.577513             9  \n",
       "37258          True          2    random      top   0.577841            10  \n",
       "37259         False          4    random     rest   0.627323            10  \n",
       "\n",
       "[37260 rows x 10 columns]"
      ]
     },
     "execution_count": 3,
     "metadata": {},
     "output_type": "execute_result"
    }
   ],
   "source": [
    "pd.options.display.max_columns = None\n",
    "res"
   ]
  },
  {
   "cell_type": "markdown",
   "metadata": {},
   "source": [
    "## G1 Number of images from each flower class"
   ]
  },
  {
   "cell_type": "code",
   "execution_count": 4,
   "metadata": {
    "pycharm": {
     "name": "#%%\n"
    }
   },
   "outputs": [
    {
     "data": {
      "image/png": "[encoded data removed]",
      "text/plain": [
       "<Figure size 432x288 with 1 Axes>"
      ]
     },
     "metadata": {
      "needs_background": "light"
     },
     "output_type": "display_data"
    }
   ],
   "source": [
    "ax = sns.countplot(x=\"original_class\",data=res[(res['strategy'] == 'top') & (res['explainer'] == 'lime') & (res['num_features'] == 5)]) \n",
    "ax.set(xticklabels=['daisy', 'dandelion', 'rose', 'sunflower', 'tulip'])\n",
    "plt.title(\"Number of rows predicted as the same class vs predicted as opposite class after columns have been neutralized based on the explainer's identified features\")\n",
    "for p in ax.patches:\n",
    "    ax.annotate('{:.2f}'.format(p.get_height()), (p.get_x()+0.15, p.get_height()+1))\n",
    "# save(\"class distribution\")"
   ]
  },
  {
   "cell_type": "markdown",
   "metadata": {},
   "source": [
    "## G2 All class changes (per class) across all explainers that occured while using strategy top"
   ]
  },
  {
   "cell_type": "code",
   "execution_count": 5,
   "metadata": {
    "pycharm": {
     "name": "#%%\n"
    }
   },
   "outputs": [
    {
     "data": {
      "text/plain": [
       "Text(0.5, 1.0, \"Number of rows predicted as the same class vs predicted as opposite class after columns have been neutralized based on the explainer's identified features\")"
      ]
     },
     "execution_count": 5,
     "metadata": {},
     "output_type": "execute_result"
    },
    {
     "data": {
      "image/png": "[encoded data removed]",
      "text/plain": [
       "<Figure size 432x288 with 1 Axes>"
      ]
     },
     "metadata": {
      "needs_background": "light"
     },
     "output_type": "display_data"
    }
   ],
   "source": [
    "ax = sns.countplot(x=\"original_class\",data=res[ (res['strategy'] == 'top')  ], hue = 'class_change')\n",
    "ax.set(xticklabels=['daisy', 'dandelion', 'rose', 'sunflower', 'tulip'])\n",
    "for p in ax.patches:\n",
    "    ax.annotate('{:}'.format(p.get_height()), (p.get_x()+0.0, p.get_height()+10))\n",
    "plt.title(\"Number of rows predicted as the same class vs predicted as opposite class after columns have been neutralized based on the explainer's identified features\")"
   ]
  },
  {
   "cell_type": "code",
   "execution_count": 6,
   "metadata": {},
   "outputs": [
    {
     "ename": "KeyboardInterrupt",
     "evalue": "",
     "output_type": "error",
     "traceback": [
      "\u001b[1;31m---------------------------------------------------------------------------\u001b[0m",
      "\u001b[1;31mKeyboardInterrupt\u001b[0m                         Traceback (most recent call last)",
      "\u001b[1;32m<ipython-input-6-9938318e4e76>\u001b[0m in \u001b[0;36m<module>\u001b[1;34m\u001b[0m\n\u001b[0;32m      1\u001b[0m \u001b[0mplt\u001b[0m\u001b[1;33m.\u001b[0m\u001b[0mfigure\u001b[0m\u001b[1;33m(\u001b[0m\u001b[0mfigsize\u001b[0m\u001b[1;33m=\u001b[0m\u001b[1;33m(\u001b[0m\u001b[1;36m10\u001b[0m\u001b[1;33m,\u001b[0m\u001b[1;36m4\u001b[0m\u001b[1;33m)\u001b[0m\u001b[1;33m)\u001b[0m\u001b[1;33m\u001b[0m\u001b[1;33m\u001b[0m\u001b[0m\n\u001b[1;32m----> 2\u001b[1;33m \u001b[0max\u001b[0m \u001b[1;33m=\u001b[0m \u001b[0msns\u001b[0m\u001b[1;33m.\u001b[0m\u001b[0mbarplot\u001b[0m\u001b[1;33m(\u001b[0m\u001b[0mx\u001b[0m\u001b[1;33m=\u001b[0m \u001b[1;34m\"original_class\"\u001b[0m\u001b[1;33m,\u001b[0m \u001b[0my\u001b[0m\u001b[1;33m=\u001b[0m \u001b[1;34m\"class_change\"\u001b[0m\u001b[1;33m,\u001b[0m  \u001b[0mdata\u001b[0m\u001b[1;33m=\u001b[0m\u001b[0mres\u001b[0m\u001b[1;33m[\u001b[0m\u001b[1;33m(\u001b[0m\u001b[0mres\u001b[0m\u001b[1;33m[\u001b[0m\u001b[1;34m'strategy'\u001b[0m\u001b[1;33m]\u001b[0m \u001b[1;33m==\u001b[0m \u001b[1;34m'top'\u001b[0m\u001b[1;33m)\u001b[0m \u001b[1;33m]\u001b[0m\u001b[1;33m,\u001b[0m \u001b[0mestimator\u001b[0m\u001b[1;33m=\u001b[0m\u001b[1;32mlambda\u001b[0m \u001b[0mx\u001b[0m\u001b[1;33m:\u001b[0m \u001b[0msum\u001b[0m\u001b[1;33m(\u001b[0m\u001b[0mx\u001b[0m\u001b[1;33m==\u001b[0m\u001b[1;32mFalse\u001b[0m\u001b[1;33m)\u001b[0m\u001b[1;33m*\u001b[0m\u001b[1;36m100.0\u001b[0m\u001b[1;33m/\u001b[0m\u001b[0mlen\u001b[0m\u001b[1;33m(\u001b[0m\u001b[0mx\u001b[0m\u001b[1;33m)\u001b[0m\u001b[1;33m)\u001b[0m\u001b[1;33m\u001b[0m\u001b[1;33m\u001b[0m\u001b[0m\n\u001b[0m\u001b[0;32m      3\u001b[0m \u001b[0max\u001b[0m\u001b[1;33m.\u001b[0m\u001b[0mset\u001b[0m\u001b[1;33m(\u001b[0m\u001b[0mxticklabels\u001b[0m\u001b[1;33m=\u001b[0m\u001b[1;33m[\u001b[0m\u001b[1;34m'daisy'\u001b[0m\u001b[1;33m,\u001b[0m \u001b[1;34m'dandelion'\u001b[0m\u001b[1;33m,\u001b[0m \u001b[1;34m'rose'\u001b[0m\u001b[1;33m,\u001b[0m \u001b[1;34m'sunflower'\u001b[0m\u001b[1;33m,\u001b[0m \u001b[1;34m'tulip'\u001b[0m\u001b[1;33m]\u001b[0m\u001b[1;33m)\u001b[0m\u001b[1;33m\u001b[0m\u001b[1;33m\u001b[0m\u001b[0m\n\u001b[0;32m      4\u001b[0m \u001b[1;33m\u001b[0m\u001b[0m\n\u001b[0;32m      5\u001b[0m \u001b[0mindex\u001b[0m \u001b[1;33m=\u001b[0m \u001b[1;36m0\u001b[0m\u001b[1;33m\u001b[0m\u001b[1;33m\u001b[0m\u001b[0m\n",
      "\u001b[1;32mc:\\users\\dan39\\onedrive\\desktop\\dissertation\\python3.8\\lib\\site-packages\\seaborn\\categorical.py\u001b[0m in \u001b[0;36mbarplot\u001b[1;34m(x, y, hue, data, order, hue_order, estimator, ci, n_boot, units, seed, orient, color, palette, saturation, errcolor, errwidth, capsize, dodge, ax, **kwargs)\u001b[0m\n\u001b[0;32m   3142\u001b[0m             ax=None, **kwargs):\n\u001b[0;32m   3143\u001b[0m \u001b[1;33m\u001b[0m\u001b[0m\n\u001b[1;32m-> 3144\u001b[1;33m     plotter = _BarPlotter(x, y, hue, data, order, hue_order,\n\u001b[0m\u001b[0;32m   3145\u001b[0m                           \u001b[0mestimator\u001b[0m\u001b[1;33m,\u001b[0m \u001b[0mci\u001b[0m\u001b[1;33m,\u001b[0m \u001b[0mn_boot\u001b[0m\u001b[1;33m,\u001b[0m \u001b[0munits\u001b[0m\u001b[1;33m,\u001b[0m \u001b[0mseed\u001b[0m\u001b[1;33m,\u001b[0m\u001b[1;33m\u001b[0m\u001b[1;33m\u001b[0m\u001b[0m\n\u001b[0;32m   3146\u001b[0m                           \u001b[0morient\u001b[0m\u001b[1;33m,\u001b[0m \u001b[0mcolor\u001b[0m\u001b[1;33m,\u001b[0m \u001b[0mpalette\u001b[0m\u001b[1;33m,\u001b[0m \u001b[0msaturation\u001b[0m\u001b[1;33m,\u001b[0m\u001b[1;33m\u001b[0m\u001b[1;33m\u001b[0m\u001b[0m\n",
      "\u001b[1;32mc:\\users\\dan39\\onedrive\\desktop\\dissertation\\python3.8\\lib\\site-packages\\seaborn\\categorical.py\u001b[0m in \u001b[0;36m__init__\u001b[1;34m(self, x, y, hue, data, order, hue_order, estimator, ci, n_boot, units, seed, orient, color, palette, saturation, errcolor, errwidth, capsize, dodge)\u001b[0m\n\u001b[0;32m   1603\u001b[0m                                  order, hue_order, units)\n\u001b[0;32m   1604\u001b[0m         \u001b[0mself\u001b[0m\u001b[1;33m.\u001b[0m\u001b[0mestablish_colors\u001b[0m\u001b[1;33m(\u001b[0m\u001b[0mcolor\u001b[0m\u001b[1;33m,\u001b[0m \u001b[0mpalette\u001b[0m\u001b[1;33m,\u001b[0m \u001b[0msaturation\u001b[0m\u001b[1;33m)\u001b[0m\u001b[1;33m\u001b[0m\u001b[1;33m\u001b[0m\u001b[0m\n\u001b[1;32m-> 1605\u001b[1;33m         \u001b[0mself\u001b[0m\u001b[1;33m.\u001b[0m\u001b[0mestimate_statistic\u001b[0m\u001b[1;33m(\u001b[0m\u001b[0mestimator\u001b[0m\u001b[1;33m,\u001b[0m \u001b[0mci\u001b[0m\u001b[1;33m,\u001b[0m \u001b[0mn_boot\u001b[0m\u001b[1;33m,\u001b[0m \u001b[0mseed\u001b[0m\u001b[1;33m)\u001b[0m\u001b[1;33m\u001b[0m\u001b[1;33m\u001b[0m\u001b[0m\n\u001b[0m\u001b[0;32m   1606\u001b[0m \u001b[1;33m\u001b[0m\u001b[0m\n\u001b[0;32m   1607\u001b[0m         \u001b[0mself\u001b[0m\u001b[1;33m.\u001b[0m\u001b[0mdodge\u001b[0m \u001b[1;33m=\u001b[0m \u001b[0mdodge\u001b[0m\u001b[1;33m\u001b[0m\u001b[1;33m\u001b[0m\u001b[0m\n",
      "\u001b[1;32mc:\\users\\dan39\\onedrive\\desktop\\dissertation\\python3.8\\lib\\site-packages\\seaborn\\categorical.py\u001b[0m in \u001b[0;36mestimate_statistic\u001b[1;34m(self, estimator, ci, n_boot, seed)\u001b[0m\n\u001b[0;32m   1502\u001b[0m                     \u001b[1;32melse\u001b[0m\u001b[1;33m:\u001b[0m\u001b[1;33m\u001b[0m\u001b[1;33m\u001b[0m\u001b[0m\n\u001b[0;32m   1503\u001b[0m \u001b[1;33m\u001b[0m\u001b[0m\n\u001b[1;32m-> 1504\u001b[1;33m                         boots = bootstrap(stat_data, func=estimator,\n\u001b[0m\u001b[0;32m   1505\u001b[0m                                           \u001b[0mn_boot\u001b[0m\u001b[1;33m=\u001b[0m\u001b[0mn_boot\u001b[0m\u001b[1;33m,\u001b[0m\u001b[1;33m\u001b[0m\u001b[1;33m\u001b[0m\u001b[0m\n\u001b[0;32m   1506\u001b[0m                                           \u001b[0munits\u001b[0m\u001b[1;33m=\u001b[0m\u001b[0munit_data\u001b[0m\u001b[1;33m,\u001b[0m\u001b[1;33m\u001b[0m\u001b[1;33m\u001b[0m\u001b[0m\n",
      "\u001b[1;32mc:\\users\\dan39\\onedrive\\desktop\\dissertation\\python3.8\\lib\\site-packages\\seaborn\\algorithms.py\u001b[0m in \u001b[0;36mbootstrap\u001b[1;34m(*args, **kwargs)\u001b[0m\n\u001b[0;32m     83\u001b[0m         \u001b[0mresampler\u001b[0m \u001b[1;33m=\u001b[0m \u001b[0mintegers\u001b[0m\u001b[1;33m(\u001b[0m\u001b[1;36m0\u001b[0m\u001b[1;33m,\u001b[0m \u001b[0mn\u001b[0m\u001b[1;33m,\u001b[0m \u001b[0mn\u001b[0m\u001b[1;33m,\u001b[0m \u001b[0mdtype\u001b[0m\u001b[1;33m=\u001b[0m\u001b[0mnp\u001b[0m\u001b[1;33m.\u001b[0m\u001b[0mintp\u001b[0m\u001b[1;33m)\u001b[0m  \u001b[1;31m# intp is indexing dtype\u001b[0m\u001b[1;33m\u001b[0m\u001b[1;33m\u001b[0m\u001b[0m\n\u001b[0;32m     84\u001b[0m         \u001b[0msample\u001b[0m \u001b[1;33m=\u001b[0m \u001b[1;33m[\u001b[0m\u001b[0ma\u001b[0m\u001b[1;33m.\u001b[0m\u001b[0mtake\u001b[0m\u001b[1;33m(\u001b[0m\u001b[0mresampler\u001b[0m\u001b[1;33m,\u001b[0m \u001b[0maxis\u001b[0m\u001b[1;33m=\u001b[0m\u001b[1;36m0\u001b[0m\u001b[1;33m)\u001b[0m \u001b[1;32mfor\u001b[0m \u001b[0ma\u001b[0m \u001b[1;32min\u001b[0m \u001b[0margs\u001b[0m\u001b[1;33m]\u001b[0m\u001b[1;33m\u001b[0m\u001b[1;33m\u001b[0m\u001b[0m\n\u001b[1;32m---> 85\u001b[1;33m         \u001b[0mboot_dist\u001b[0m\u001b[1;33m.\u001b[0m\u001b[0mappend\u001b[0m\u001b[1;33m(\u001b[0m\u001b[0mf\u001b[0m\u001b[1;33m(\u001b[0m\u001b[1;33m*\u001b[0m\u001b[0msample\u001b[0m\u001b[1;33m,\u001b[0m \u001b[1;33m**\u001b[0m\u001b[0mfunc_kwargs\u001b[0m\u001b[1;33m)\u001b[0m\u001b[1;33m)\u001b[0m\u001b[1;33m\u001b[0m\u001b[1;33m\u001b[0m\u001b[0m\n\u001b[0m\u001b[0;32m     86\u001b[0m     \u001b[1;32mreturn\u001b[0m \u001b[0mnp\u001b[0m\u001b[1;33m.\u001b[0m\u001b[0marray\u001b[0m\u001b[1;33m(\u001b[0m\u001b[0mboot_dist\u001b[0m\u001b[1;33m)\u001b[0m\u001b[1;33m\u001b[0m\u001b[1;33m\u001b[0m\u001b[0m\n\u001b[0;32m     87\u001b[0m \u001b[1;33m\u001b[0m\u001b[0m\n",
      "\u001b[1;32m<ipython-input-6-9938318e4e76>\u001b[0m in \u001b[0;36m<lambda>\u001b[1;34m(x)\u001b[0m\n\u001b[0;32m      1\u001b[0m \u001b[0mplt\u001b[0m\u001b[1;33m.\u001b[0m\u001b[0mfigure\u001b[0m\u001b[1;33m(\u001b[0m\u001b[0mfigsize\u001b[0m\u001b[1;33m=\u001b[0m\u001b[1;33m(\u001b[0m\u001b[1;36m10\u001b[0m\u001b[1;33m,\u001b[0m\u001b[1;36m4\u001b[0m\u001b[1;33m)\u001b[0m\u001b[1;33m)\u001b[0m\u001b[1;33m\u001b[0m\u001b[1;33m\u001b[0m\u001b[0m\n\u001b[1;32m----> 2\u001b[1;33m \u001b[0max\u001b[0m \u001b[1;33m=\u001b[0m \u001b[0msns\u001b[0m\u001b[1;33m.\u001b[0m\u001b[0mbarplot\u001b[0m\u001b[1;33m(\u001b[0m\u001b[0mx\u001b[0m\u001b[1;33m=\u001b[0m \u001b[1;34m\"original_class\"\u001b[0m\u001b[1;33m,\u001b[0m \u001b[0my\u001b[0m\u001b[1;33m=\u001b[0m \u001b[1;34m\"class_change\"\u001b[0m\u001b[1;33m,\u001b[0m  \u001b[0mdata\u001b[0m\u001b[1;33m=\u001b[0m\u001b[0mres\u001b[0m\u001b[1;33m[\u001b[0m\u001b[1;33m(\u001b[0m\u001b[0mres\u001b[0m\u001b[1;33m[\u001b[0m\u001b[1;34m'strategy'\u001b[0m\u001b[1;33m]\u001b[0m \u001b[1;33m==\u001b[0m \u001b[1;34m'top'\u001b[0m\u001b[1;33m)\u001b[0m \u001b[1;33m]\u001b[0m\u001b[1;33m,\u001b[0m \u001b[0mestimator\u001b[0m\u001b[1;33m=\u001b[0m\u001b[1;32mlambda\u001b[0m \u001b[0mx\u001b[0m\u001b[1;33m:\u001b[0m \u001b[0msum\u001b[0m\u001b[1;33m(\u001b[0m\u001b[0mx\u001b[0m\u001b[1;33m==\u001b[0m\u001b[1;32mFalse\u001b[0m\u001b[1;33m)\u001b[0m\u001b[1;33m*\u001b[0m\u001b[1;36m100.0\u001b[0m\u001b[1;33m/\u001b[0m\u001b[0mlen\u001b[0m\u001b[1;33m(\u001b[0m\u001b[0mx\u001b[0m\u001b[1;33m)\u001b[0m\u001b[1;33m)\u001b[0m\u001b[1;33m\u001b[0m\u001b[1;33m\u001b[0m\u001b[0m\n\u001b[0m\u001b[0;32m      3\u001b[0m \u001b[0max\u001b[0m\u001b[1;33m.\u001b[0m\u001b[0mset\u001b[0m\u001b[1;33m(\u001b[0m\u001b[0mxticklabels\u001b[0m\u001b[1;33m=\u001b[0m\u001b[1;33m[\u001b[0m\u001b[1;34m'daisy'\u001b[0m\u001b[1;33m,\u001b[0m \u001b[1;34m'dandelion'\u001b[0m\u001b[1;33m,\u001b[0m \u001b[1;34m'rose'\u001b[0m\u001b[1;33m,\u001b[0m \u001b[1;34m'sunflower'\u001b[0m\u001b[1;33m,\u001b[0m \u001b[1;34m'tulip'\u001b[0m\u001b[1;33m]\u001b[0m\u001b[1;33m)\u001b[0m\u001b[1;33m\u001b[0m\u001b[1;33m\u001b[0m\u001b[0m\n\u001b[0;32m      4\u001b[0m \u001b[1;33m\u001b[0m\u001b[0m\n\u001b[0;32m      5\u001b[0m \u001b[0mindex\u001b[0m \u001b[1;33m=\u001b[0m \u001b[1;36m0\u001b[0m\u001b[1;33m\u001b[0m\u001b[1;33m\u001b[0m\u001b[0m\n",
      "\u001b[1;31mKeyboardInterrupt\u001b[0m: "
     ]
    },
    {
     "data": {
      "text/plain": [
       "<Figure size 720x288 with 0 Axes>"
      ]
     },
     "metadata": {},
     "output_type": "display_data"
    }
   ],
   "source": [
    "plt.figure(figsize=(10,4))\n",
    "ax = sns.barplot(x= \"original_class\", y= \"class_change\",  data=res[(res['strategy'] == 'top') ], estimator=lambda x: sum(x==False)*100.0/len(x))\n",
    "ax.set(xticklabels=['daisy', 'dandelion', 'rose', 'sunflower', 'tulip'])\n",
    "\n",
    "index = 0\n",
    "for i in ax.patches:\n",
    "    total = res[(res['strategy'] == 'top')  &  (res['original_class'] == index)][\"class_change\"].count()\n",
    "    index = index + 1\n",
    "    # get_x pulls left or right; get_height pushes up or down\n",
    "    ax.text(i.get_x()+0.0, i.get_height() +1, \\\n",
    "            str(round((i.get_height()), 2))+'%', fontsize=14)"
   ]
  },
  {
   "cell_type": "code",
   "execution_count": null,
   "metadata": {},
   "outputs": [],
   "source": [
    "ax = res[(res['strategy'] == 'top') & (res[\"class_change\"] == False) ]['original_class'].value_counts().plot(kind='bar', figsize=(15,7),\n",
    "                                                   fontsize=13);\n",
    "ax.set_alpha(0.8)\n",
    "ax.set_title(\"Do attackers usually win or loose?\", fontsize=18)\n",
    "ax.set_ylabel(\"Number of Battles\", fontsize=18);\n",
    "ax.set_yticks([0, 5, 10, 15, 20, 25])\n",
    "\n",
    "# create a list to collect the plt.patches data\n",
    "total = res[(res['strategy'] == 'top') & (res['explainer'] == 'random') &  (res['original_class'] == 1)][\"class_change\"].count()\n",
    "print(total)\n",
    "# find the values and append to list\n",
    "# for i in ax.patches:\n",
    "#     totals.append(i.get_height())\n",
    "\n",
    "# set individual bar lables using above list\n",
    "# total = sum(totals)\n",
    "\n",
    "# set individual bar lables using above list\n",
    "index = 0\n",
    "for i in ax.patches:\n",
    "    total = res[(res['strategy'] == 'top')  &  (res['original_class'] == index)][\"class_change\"].count()\n",
    "    index = index + 1\n",
    "    # get_x pulls left or right; get_height pushes up or down\n",
    "    ax.text(i.get_x()+0.0, i.get_height()-130, \\\n",
    "            str(round((i.get_height()/total)*100, 2))+'%', fontsize=22,\n",
    "                color='white')"
   ]
  },
  {
   "cell_type": "code",
   "execution_count": null,
   "metadata": {},
   "outputs": [],
   "source": [
    "res[(res['strategy'] == 'top') & (res['explainer'] == 'grad') &  (res['original_class'] == 3)].groupby(\"num_features\").sum()"
   ]
  },
  {
   "cell_type": "markdown",
   "metadata": {},
   "source": [
    "## G3 All class changes (per explainer) across both classes that occured while using strategy rest"
   ]
  },
  {
   "cell_type": "code",
   "execution_count": null,
   "metadata": {
    "pycharm": {
     "name": "#%%\n"
    }
   },
   "outputs": [],
   "source": [
    "plt.figure(figsize=(12,8))\n",
    "ax =sns.countplot(x=\"explainer\",data=res[(res['strategy'] == 'top') ], hue = 'class_change')\n",
    "for p in ax.patches:\n",
    "    ax.annotate('{:}'.format(p.get_height()), (p.get_x()+0.15, p.get_height()+5))\n",
    "plt.title(\"Number of rows predicted as the same class vs predicted as opposite class after columns have been neutralized based on the explainer's identified features\")"
   ]
  },
  {
   "cell_type": "code",
   "execution_count": null,
   "metadata": {
    "pycharm": {
     "name": "#%%\n"
    }
   },
   "outputs": [],
   "source": [
    "plt.figure(figsize=(12,8))\n",
    "ax =sns.countplot(x=\"explainer\",data=res[(res['strategy'] == 'rest') ], hue = 'class_change')\n",
    "for p in ax.patches:\n",
    "    ax.annotate('{:}'.format(p.get_height()), (p.get_x()+0.05, p.get_height()+50))\n",
    "plt.title(\"Number of rows predicted as the same class vs predicted as opposite class after columns have been neutralized based on the explainer's identified features\")"
   ]
  },
  {
   "cell_type": "code",
   "execution_count": null,
   "metadata": {},
   "outputs": [],
   "source": [
    "from numpy.random import seed\n",
    "from numpy.random import randn\n",
    "from scipy.stats import wilcoxon\n",
    "def t_test(data1, data2):\n",
    "    # seed the random number generator\n",
    "    seed(1)\n",
    "    # generate two independent samples\n",
    "#     data1 = 5 * randn(100) + 50\n",
    "#     data2 = 5 * randn(100) + 51\n",
    "    # compare samples\n",
    "    stat, p = wilcoxon(data1, data2)\n",
    "    print('Statistics=%.3f, p=%.3f' % (stat, p))\n",
    "    # interpret\n",
    "    alpha = 0.05\n",
    "    if p > alpha:\n",
    "        print('Same distribution (fail to reject H0)')\n",
    "    else:\n",
    "        print('Different distribution (reject H0)')"
   ]
  },
  {
   "cell_type": "code",
   "execution_count": null,
   "metadata": {},
   "outputs": [],
   "source": [
    "# Same as the graph above but the plot is class specific, in this case for class 1. For class 0, there are not enough datapoints to plot the graph\n",
    "f, ax = plt.subplots(nrows=1, ncols=6, figsize=(40, 4))\n",
    "\n",
    "def get_data(explainer, original_class):\n",
    "    default_data = res[ (res['strategy'] == 'top')]\n",
    "    if original_class == -1:\n",
    "        return  default_data[(default_data['explainer'] == explainer) ].groupby(\"num_features\")[\"confidence_diff\"].mean()\n",
    "    return default_data[(default_data['explainer'] == explainer) & (default_data['original_class'] == original_class)].groupby(\"num_features\")[\"confidence_diff\"].mean()\n",
    "\n",
    "\n",
    "def get_plot(col, original_class):\n",
    "    plt.figure(figsize=(11,4))\n",
    "    no_of_features = list(range(0, len(get_data(\"lime\", original_class)) ))\n",
    "    ax[col].xaxis.set_ticks(get_data(\"shap\", original_class).keys())\n",
    "    # ax[0].set_xlim(1, 12)\n",
    "    ax[col].plot( no_of_features, get_data(\"random\", original_class), color='navy', marker='*', linestyle='-', label='Random')\n",
    "    ax[col].plot( no_of_features, get_data(\"shap\", original_class), color='green', marker='x', linestyle='-', label='Shap')\n",
    "    ax[col].plot( no_of_features, get_data(\"lime\", original_class), color='red', marker='o', linestyle='-', label='Lime')\n",
    "#     ax[col].plot( no_of_features, get_data(\"grad\", original_class), color='yellow', marker='o', linestyle='-', label='Grad-Cam')\n",
    "    ax[col].set_title(\"Class {}\".format(original_class))\n",
    "    ax[col].legend(loc='best')\n",
    "    # ax[0].set(xticklabels=list(range(11)))\n",
    "    return ax\n",
    "\n",
    "get_plot(0, 0)\n",
    "get_plot(1, 1)\n",
    "get_plot(2, 2)\n",
    "get_plot(3, 3)\n",
    "get_plot(4, 4)\n",
    "get_plot(5, -1)\n",
    "\n",
    "\n",
    "\n",
    "data_shap = list(get_data(\"grad\", 2).values)\n",
    "# data_shap.extend(list(get_data(\"grad\", 2).values))\n",
    "\n",
    "data_lime = list(get_data(\"random\", 2).values)\n",
    "# data_lime.extend(list(get_data(\"random\", 2).values))\n",
    "t_test(data_shap, data_lime)"
   ]
  },
  {
   "cell_type": "code",
   "execution_count": null,
   "metadata": {},
   "outputs": [],
   "source": [
    "get_data(\"shap\", original_class).keys()"
   ]
  }
 ],
 "metadata": {
  "kernelspec": {
   "display_name": "Python 3",
   "language": "python",
   "name": "python3"
  },
  "language_info": {
   "codemirror_mode": {
    "name": "ipython",
    "version": 3
   },
   "file_extension": ".py",
   "mimetype": "text/x-python",
   "name": "python",
   "nbconvert_exporter": "python",
   "pygments_lexer": "ipython3",
   "version": "3.8.4"
  }
 },
 "nbformat": 4,
 "nbformat_minor": 4
}
